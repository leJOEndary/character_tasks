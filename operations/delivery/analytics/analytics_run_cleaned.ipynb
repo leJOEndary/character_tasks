{
 "cells": [
  {
   "cell_type": "markdown",
   "metadata": {},
   "source": [
    "# Changes required\n",
    "# TODO\n",
    "\n",
    " - Remove all “detailed_level” hierarchy and keep (use case summary, AOF top & sub lvl, domain top & sub lvl)\n",
    "    - **ETA 30m-1h**\n",
    "\n",
    " - Modify metadata tagging prompt to only be based on what the user asks for rather than what the assistant does\n",
    "    - **ETA 2h-4h**\n",
    " \n",
    " - Modify the domain__top_level to contain the following categories only\n",
    "    - python basics & scripting, other languages??, problem solving, interview prep, web development, testing, cloud computing, / frameworks, data analysis, machine learning\n",
    "\n",
    "   - Changes:\n",
    "      - Merge databases, backend, mobile and frontend into web development\n",
    "      - Testing should cover code health workflows: writing unit tests, code reviews, writing CI-CD\n",
    "\n",
    "   - **ETA 3h** - might require prompt engineering to whip the code into specifics - either by specifying sub levels for domains or giving more guidance for top levels\n",
    "\n",
    "### What's missing\n",
    " - **entrypoint** central clean, tested entrypoint to generate all analytics at once without involvement. This file is something on the way there.\n",
    "    - **ETA 3-5h** - no testing and changes, probably **1h**\n",
    " - **getting data aside from \"deliver\" batches**\n",
    "    - **ETA ??** depends on the needs\n",
    " - **Do not redo already reviewed.** GPT-reviewer work might help here as the task is similar.\n",
    "    - **ETA ??**\n",
    " - **testing merge with main**\n",
    "    - **ETA 1-2h**"
   ]
  },
  {
   "cell_type": "code",
   "execution_count": 1,
   "metadata": {},
   "outputs": [
    {
     "name": "stderr",
     "output_type": "stream",
     "text": [
      "/home/saya/chario/upstream_character_tasks/.venv/lib/python3.9/site-packages/fuzzywuzzy/fuzz.py:11: UserWarning: Using slow pure-python SequenceMatcher. Install python-Levenshtein to remove this warning\n",
      "  warnings.warn('Using slow pure-python SequenceMatcher. Install python-Levenshtein to remove this warning')\n"
     ]
    }
   ],
   "source": [
    "from py_files import utils\n",
    "from py_files.jsonl_dump import download_parse_delivered_into_jsonl\n",
    "from py_files.utils import DATA_DIR, service_account_path\n",
    "LIMIT_ITEMS_TO_FIRST_N = None # None for full\n",
    "BATCH_IDS = [1,2,3,4,5]\n",
    "max_workers = 20"
   ]
  },
  {
   "cell_type": "code",
   "execution_count": 2,
   "metadata": {},
   "outputs": [],
   "source": [
    "delivered4 = download_parse_delivered_into_jsonl(BATCH_IDS, no_work=False)"
   ]
  },
  {
   "cell_type": "code",
   "execution_count": 13,
   "metadata": {},
   "outputs": [],
   "source": [
    "delivered_df = delivered4['delivered_df']\n",
    "conversations = delivered4['conversations']"
   ]
  },
  {
   "cell_type": "code",
   "execution_count": 14,
   "metadata": {},
   "outputs": [],
   "source": [
    "from importlib import reload\n",
    "from py_files import use_case\n",
    "reload(use_case)\n",
    "from py_files.use_case import get_use_case_data_batch_conversations\n",
    "from py_files import areas_of_focus\n",
    "reload(areas_of_focus)\n",
    "from py_files.areas_of_focus import get_areas_of_focus_data_batch_conversations\n",
    "from py_files import behaviour_tagging\n",
    "reload(behaviour_tagging)\n",
    "from py_files.behaviour_tagging import get_behavioural_tags_data_batch_conversations\n",
    "from py_files import domain_classification\n",
    "reload(domain_classification)\n",
    "from py_files.domain_classification import get_domain_data_batch_conversations\n",
    "from py_files import programming_language_tagging\n",
    "reload(programming_language_tagging)\n",
    "from py_files.programming_language_tagging import get_programming_language_data_batch_conversations\n",
    "from py_files import dependency_classification\n",
    "reload(dependency_classification)\n",
    "from py_files.dependency_classification import get_dependency_data_batch_conversations"
   ]
  },
  {
   "cell_type": "code",
   "execution_count": 10,
   "metadata": {},
   "outputs": [
    {
     "name": "stdout",
     "output_type": "stream",
     "text": [
      "  Generating areas of focus data... (4/4 analytics for this batch)\n",
      "-----\n"
     ]
    },
    {
     "name": "stderr",
     "output_type": "stream",
     "text": [
      "\n",
      "\u001b[A\n",
      "\u001b[A\n",
      "\u001b[A\n",
      "\u001b[A\n",
      "\u001b[A\n",
      "\u001b[A\n",
      "\u001b[A\n",
      "\u001b[A\n",
      "\u001b[A\n",
      "\u001b[A\n",
      "\u001b[A\n",
      "\u001b[A\n",
      "\u001b[A\n",
      "\u001b[A\n",
      "\u001b[A\n",
      "\u001b[A\n",
      "\u001b[A\n",
      "\u001b[A\n",
      "\u001b[A\n",
      "\u001b[A\n",
      "\u001b[A\n",
      "\u001b[A\n",
      "\u001b[A\n",
      "\u001b[A\n",
      "\u001b[A\n",
      "\u001b[A\n",
      "\u001b[A\n",
      "\u001b[A\n",
      "\u001b[A\n",
      "\u001b[A\n",
      "\u001b[A\n",
      "\u001b[A\n",
      "\u001b[A\n",
      "\u001b[A\n",
      "\u001b[A\n",
      "\u001b[A\n",
      "\u001b[A\n",
      "\u001b[A\n",
      "\u001b[A\n",
      "\u001b[A\n",
      "\u001b[A\n",
      "\u001b[A\n",
      "\u001b[A\n",
      "\u001b[A\n",
      "\u001b[A\n",
      "\u001b[A\n",
      "\u001b[A\n",
      "\u001b[A\n",
      "\u001b[A\n",
      "\u001b[A\n",
      "\u001b[A\n",
      "\u001b[A\n",
      "\u001b[A\n",
      "\u001b[A\n",
      "\u001b[A\n",
      "\u001b[A\n",
      "\u001b[A\n",
      "\u001b[A\n",
      "\u001b[A\n",
      "\u001b[A\n",
      "\u001b[A\n",
      "\u001b[A\n",
      "\u001b[A\n",
      "\u001b[A\n",
      "Processing Conversations:  28%|██▊       | 297/1060 [16:14<41:42,  3.28s/it]\n",
      "\n",
      "\u001b[A\n",
      "\u001b[A\n",
      "\u001b[A\n",
      "\u001b[A\n",
      "\u001b[A\n",
      "\u001b[A\n",
      "\u001b[A\n",
      "\u001b[A\n",
      "\u001b[A\n",
      "\u001b[A\n",
      "\u001b[A\n",
      "\u001b[A\n",
      "\u001b[A\n",
      "\u001b[A\n",
      "\u001b[A\n",
      "\u001b[A\n",
      "\u001b[A\n",
      "\u001b[A\n",
      "\u001b[A\n",
      "\u001b[A\n",
      "\u001b[A\n",
      "\u001b[A\n",
      "\u001b[A\n",
      "\u001b[A\n",
      "\u001b[A\n",
      "\u001b[A\n",
      "\u001b[A\n",
      "\u001b[A\n",
      "\u001b[A\n",
      "\u001b[A\n",
      "\u001b[A\n",
      "\u001b[A\n",
      "\u001b[A\n",
      "\u001b[A\n",
      "\u001b[A\n",
      "\u001b[A\n",
      "\u001b[A\n",
      "\u001b[A\n",
      "\u001b[A\n",
      "\u001b[A\n",
      "\u001b[A\n",
      "\u001b[A\n",
      "\u001b[A\n",
      "\u001b[A\n",
      "\u001b[A\n",
      "\u001b[A\n",
      "\u001b[A\n",
      "\u001b[A\n",
      "\u001b[A\n",
      "\u001b[A\n",
      "\u001b[A\n",
      "\u001b[A\n",
      "\u001b[A\n",
      "\u001b[A\n",
      "\u001b[A\n",
      "\u001b[A\n",
      "\u001b[A\n",
      "\u001b[A\n",
      "\u001b[A\n",
      "\u001b[A\n",
      "\u001b[A\n",
      "\u001b[A\n",
      "\u001b[A\n",
      "\u001b[A\n",
      "\u001b[A\n",
      "\u001b[A\n",
      "\u001b[A\n",
      "\u001b[A\n",
      "\u001b[A\n",
      "\u001b[A\n",
      "\u001b[A\n",
      "\u001b[A\n",
      "\u001b[A\n",
      "\u001b[A\n",
      "\u001b[A\n",
      "\u001b[A\n",
      "\u001b[A\n",
      "\u001b[A\n",
      "\u001b[A\n",
      "\u001b[A\n",
      "\u001b[A\n",
      "\u001b[A\n",
      "\u001b[A\n",
      "\u001b[A\n",
      "\u001b[A\n",
      "\u001b[A\n",
      "\u001b[A\n",
      "\u001b[A\n",
      "\u001b[A\n",
      "\u001b[A\n",
      "\u001b[A\n",
      "\u001b[A\n",
      "\u001b[A\n",
      "\u001b[A\n",
      "\u001b[A\n",
      "\u001b[A\n",
      "\u001b[A\n",
      "\u001b[A\n",
      "\u001b[A\n",
      "\u001b[A\n",
      "\u001b[A\n",
      "\u001b[A\n",
      "\u001b[A\n",
      "\u001b[A\n",
      "\u001b[A\n",
      "\u001b[A\n",
      "\u001b[A\n",
      "\u001b[A\n",
      "\u001b[A\n",
      "\u001b[A\n",
      "\u001b[A\n",
      "\u001b[A\n",
      "\u001b[A\n",
      "\u001b[A\n",
      "\u001b[A\n",
      "\u001b[A\n",
      "\u001b[A\n",
      "\u001b[A\n",
      "\u001b[A\n",
      "\u001b[A\n",
      "\u001b[A\n",
      "\u001b[A\n",
      "\u001b[A\n",
      "\u001b[A\n",
      "\u001b[A\n",
      "\u001b[A\n",
      "\u001b[A\n",
      "\u001b[A\n",
      "\u001b[A\n",
      "\u001b[A\n",
      "\u001b[A\n",
      "\u001b[A\n",
      "\u001b[A\n",
      "\u001b[A\n",
      "\u001b[A\n",
      "\u001b[A\n",
      "\u001b[A\n",
      "\u001b[A\n",
      "\u001b[A\n",
      "\u001b[A\n",
      "\u001b[A\n",
      "\u001b[A\n",
      "\u001b[A\n",
      "\u001b[A\n",
      "\u001b[A\n",
      "\u001b[A\n",
      "\u001b[A\n",
      "\u001b[A\n",
      "\u001b[A\n",
      "\u001b[A\n",
      "\u001b[A\n",
      "\u001b[A\n",
      "\u001b[A\n",
      "\u001b[A\n",
      "\u001b[A\n",
      "\u001b[A\n",
      "\u001b[A\n",
      "\u001b[A\n",
      "\u001b[A\n",
      "\u001b[A\n",
      "\u001b[A\n",
      "\u001b[A\n",
      "\u001b[A\n",
      "\u001b[A\n",
      "\u001b[A\n",
      "\u001b[A\n",
      "\u001b[A\n",
      "\u001b[A\n",
      "\u001b[A\n",
      "\u001b[A\n",
      "\u001b[A\n",
      "\u001b[A\n",
      "\u001b[A\n",
      "\u001b[A\n",
      "\u001b[A\n",
      "\u001b[A\n",
      "\u001b[A\n",
      "\u001b[A\n",
      "\u001b[A\n",
      "\u001b[A\n",
      "\u001b[A\n",
      "\u001b[A\n",
      "\u001b[A\n",
      "\u001b[A\n",
      "\u001b[A\n",
      "\u001b[A\n",
      "\u001b[A\n",
      "\u001b[A\n",
      "\u001b[A\n",
      "\u001b[A\n",
      "\u001b[A\n",
      "\u001b[A\n",
      "\u001b[A\n",
      "\u001b[A\n",
      "\u001b[A\n",
      "\u001b[A\n",
      "\u001b[A\n",
      "\u001b[A\n",
      "\u001b[A\n",
      "\u001b[A\n",
      "\u001b[A\n",
      "\u001b[A\n",
      "\u001b[A\n",
      "\u001b[A\n",
      "\u001b[A\n",
      "\u001b[A\n",
      "\u001b[A\n",
      "\u001b[A\n",
      "\u001b[A\n",
      "\u001b[A\n",
      "\u001b[A\n",
      "\u001b[A\n",
      "\u001b[A\n",
      "\u001b[A\n",
      "\u001b[A\n",
      "\u001b[A\n",
      "\u001b[A\n",
      "\u001b[A\n",
      "\u001b[A\n",
      "\u001b[A\n",
      "\u001b[A\n",
      "\u001b[A\n",
      "\u001b[A\n",
      "\u001b[A\n",
      "\u001b[A\n",
      "\u001b[A\n",
      "\u001b[A\n",
      "\u001b[A\n",
      "\u001b[A\n",
      "\u001b[A\n",
      "\u001b[A\n",
      "\u001b[A\n",
      "\u001b[A\n",
      "\u001b[A\n",
      "\u001b[A\n",
      "\u001b[A\n",
      "\u001b[A\n",
      "\u001b[A\n",
      "\u001b[A\n",
      "\u001b[A\n",
      "\u001b[A\n",
      "\u001b[A\n",
      "\u001b[A\n",
      "\u001b[A\n",
      "\u001b[A\n",
      "\u001b[A\n",
      "\u001b[A\n",
      "\u001b[A\n",
      "\u001b[A\n",
      "\u001b[A\n",
      "\u001b[A\n",
      "\u001b[A\n",
      "\u001b[A\n",
      "\u001b[A\n",
      "\u001b[A\n",
      "\u001b[A\n",
      "\u001b[A\n",
      "\u001b[A\n",
      "\u001b[A\n",
      "\u001b[A\n",
      "\u001b[A\n",
      "\u001b[A\n",
      "\u001b[A\n",
      "\u001b[A\n",
      "\u001b[A\n",
      "\u001b[A\n",
      "\u001b[A\n",
      "\u001b[A\n",
      "\u001b[A\n",
      "\u001b[A\n",
      "\u001b[A\n",
      "\u001b[A\n",
      "\u001b[A\n",
      "\u001b[A\n",
      "\u001b[A\n",
      "\u001b[A\n",
      "\u001b[A\n",
      "\u001b[A\n",
      "\u001b[A\n",
      "\u001b[A\n",
      "\u001b[A\n",
      "\u001b[A\n",
      "\u001b[A\n",
      "\u001b[A\n",
      "\u001b[A\n",
      "\u001b[A\n",
      "\u001b[A\n",
      "\u001b[A\n",
      "\u001b[A\n",
      "\u001b[A\n",
      "\u001b[A\n",
      "\u001b[A\n",
      "\u001b[A\n",
      "\u001b[A\n",
      "\u001b[A\n",
      "\u001b[A\n",
      "\u001b[A\n",
      "\u001b[A\n",
      "\u001b[A\n",
      "\u001b[A\n",
      "\u001b[A\n",
      "\u001b[A\n",
      "\u001b[A\n",
      "\u001b[A\n",
      "\u001b[A\n",
      "\u001b[A\n",
      "\u001b[A\n",
      "\u001b[A\n",
      "\u001b[A\n",
      "\u001b[A\n",
      "\u001b[A\n",
      "\u001b[A\n",
      "\u001b[A\n",
      "\u001b[A\n",
      "\u001b[A\n",
      "\u001b[A\n",
      "\u001b[A\n",
      "\u001b[A\n",
      "\u001b[A\n",
      "\u001b[A\n",
      "\u001b[A\n",
      "\u001b[A\n",
      "\u001b[A\n",
      "\u001b[A\n",
      "\u001b[A\n",
      "\u001b[A\n",
      "\u001b[A\n",
      "\u001b[A\n",
      "\u001b[A\n",
      "\u001b[A\n",
      "\u001b[A\n",
      "\u001b[A\n",
      "\u001b[A\n",
      "\u001b[A\n",
      "\u001b[A\n",
      "\u001b[A\n",
      "\u001b[A\n",
      "\u001b[A\n",
      "\u001b[A\n",
      "\u001b[A\n",
      "\u001b[A\n",
      "\u001b[A\n",
      "\u001b[A\n",
      "\u001b[A\n",
      "\u001b[A\n",
      "\u001b[A\n",
      "\u001b[A\n",
      "\u001b[A\n",
      "\u001b[A\n",
      "\u001b[A\n",
      "\u001b[A\n",
      "\u001b[A\n",
      "\u001b[A\n",
      "\u001b[A\n",
      "\u001b[A\n",
      "\u001b[A\n",
      "\u001b[A\n",
      "\u001b[A\n",
      "\u001b[A\n",
      "\u001b[A\n",
      "\u001b[A\n",
      "\u001b[A\n",
      "\u001b[A\n",
      "\u001b[A\n",
      "\u001b[A\n",
      "\u001b[A\n",
      "\u001b[A\n",
      "\u001b[A\n",
      "\u001b[A\n",
      "\u001b[A\n",
      "\u001b[A\n",
      "\u001b[A\n",
      "\u001b[A\n",
      "\u001b[A\n",
      "\u001b[A\n",
      "\u001b[A\n",
      "\u001b[A\n",
      "\u001b[A\n",
      "\u001b[A\n",
      "\u001b[A\n",
      "\u001b[A\n",
      "\u001b[A\n",
      "\u001b[A\n",
      "\u001b[A\n",
      "\u001b[A\n",
      "\u001b[A\n",
      "\u001b[A\n",
      "\u001b[A\n",
      "\u001b[A\n",
      "\u001b[A\n",
      "\u001b[A\n",
      "\u001b[A\n",
      "\u001b[A\n",
      "\u001b[A\n",
      "\u001b[A\n",
      "\u001b[A\n",
      "\u001b[A\n",
      "\u001b[A\n",
      "\u001b[A\n",
      "\u001b[A\n",
      "\u001b[A\n",
      "\u001b[A\n",
      "\u001b[A\n",
      "\u001b[A\n",
      "\u001b[A\n",
      "\u001b[A\n",
      "\u001b[A\n",
      "\u001b[A\n",
      "\u001b[A\n",
      "\u001b[A\n",
      "\u001b[A\n",
      "\u001b[A\n",
      "\u001b[A\n",
      "\u001b[A\n",
      "\u001b[A\n",
      "\u001b[A\n",
      "\u001b[A\n",
      "\u001b[A\n",
      "\u001b[A\n",
      "\u001b[A\n",
      "\u001b[A\n",
      "\u001b[A\n",
      "\u001b[A\n",
      "\u001b[A\n",
      "\u001b[A\n",
      "\u001b[A\n",
      "\u001b[A\n",
      "\u001b[A\n",
      "\u001b[A\n",
      "\u001b[A\n",
      "\u001b[A\n",
      "\u001b[A\n",
      "\u001b[A\n",
      "\u001b[A\n",
      "\u001b[A\n",
      "\u001b[A\n",
      "\u001b[A\n",
      "\u001b[A\n",
      "\u001b[A\n",
      "\u001b[A\n",
      "\u001b[A\n",
      "\u001b[A\n",
      "\u001b[A\n",
      "\u001b[A\n",
      "\u001b[A\n",
      "\u001b[A\n",
      "\u001b[A\n",
      "\u001b[A\n",
      "\u001b[A\n",
      "\u001b[A\n",
      "\u001b[A\n",
      "\u001b[A\n",
      "\u001b[A\n",
      "\u001b[A\n",
      "\u001b[A\n",
      "\u001b[A\n",
      "\u001b[A\n",
      "\u001b[A\n",
      "\u001b[A\n",
      "\u001b[A\n",
      "\u001b[A\n",
      "\u001b[A\n",
      "\u001b[A\n",
      "\u001b[A\n",
      "\u001b[A\n",
      "\u001b[A\n",
      "\u001b[A\n",
      "\u001b[A\n",
      "\u001b[A\n",
      "\u001b[A\n",
      "\u001b[A\n",
      "\u001b[A\n",
      "\u001b[A\n",
      "\u001b[A\n",
      "\u001b[A\n",
      "\u001b[A\n",
      "\u001b[A\n",
      "\u001b[A\n",
      "\u001b[A\n",
      "\u001b[A\n",
      "\u001b[A\n",
      "\u001b[A\n",
      "\u001b[A\n",
      "\u001b[A\n",
      "\u001b[A\n",
      "\u001b[A\n",
      "\u001b[A\n",
      "\u001b[A\n",
      "\u001b[A\n",
      "\u001b[A\n",
      "\u001b[A\n",
      "\u001b[A\n",
      "\u001b[A\n",
      "\u001b[A\n",
      "\u001b[A\n",
      "\u001b[A\n",
      "\u001b[A\n",
      "\u001b[A\n",
      "\u001b[A\n",
      "\u001b[A\n",
      "\u001b[A\n",
      "\u001b[A\n",
      "\u001b[A\n",
      "\u001b[A\n",
      "\u001b[A\n",
      "\u001b[A\n",
      "\u001b[A\n",
      "\u001b[A\n",
      "\u001b[A\n",
      "\u001b[A\n",
      "\u001b[A\n",
      "\u001b[A\n",
      "\u001b[A\n",
      "\u001b[A\n",
      "\u001b[A\n",
      "\u001b[A\n",
      "\u001b[A\n",
      "\u001b[A\n",
      "\u001b[A\n",
      "\u001b[A\n",
      "\u001b[A\n",
      "\u001b[A\n",
      "\u001b[A\n",
      "\u001b[A\n",
      "\u001b[A\n",
      "\u001b[A\n",
      "\u001b[A\n",
      "\u001b[A\n",
      "\u001b[A\n",
      "\u001b[A\n",
      "\u001b[A\n",
      "\u001b[A\n",
      "\u001b[A\n",
      "\u001b[A\n",
      "\u001b[A\n",
      "\u001b[A\n",
      "\u001b[A\n",
      "\u001b[A\n",
      "\u001b[A\n",
      "\u001b[A\n",
      "\u001b[A\n",
      "\u001b[A\n",
      "\u001b[A\n",
      "\u001b[A\n",
      "\u001b[A\n",
      "\u001b[A\n",
      "\u001b[A\n",
      "\u001b[A\n",
      "\u001b[A\n",
      "\u001b[A\n",
      "\u001b[A\n",
      "\u001b[A\n",
      "\u001b[A\n",
      "\u001b[A\n",
      "\u001b[A\n",
      "\u001b[A\n",
      "\u001b[A\n",
      "\u001b[A\n",
      "\u001b[A\n",
      "\u001b[A\n",
      "\u001b[A\n",
      "\u001b[A\n",
      "\u001b[A\n",
      "\u001b[A\n",
      "\u001b[A\n",
      "\u001b[A\n",
      "\u001b[A\n",
      "\u001b[A\n",
      "\u001b[A\n",
      "\u001b[A\n",
      "\u001b[A\n",
      "\u001b[A\n",
      "\u001b[A\n",
      "\u001b[A\n",
      "\u001b[A\n",
      "\u001b[A\n",
      "\u001b[A\n",
      "\u001b[A\n",
      "\u001b[A\n",
      "\u001b[A\n",
      "\u001b[A\n",
      "\u001b[A\n",
      "\u001b[A\n",
      "\u001b[A\n",
      "\u001b[A\n",
      "\u001b[A\n",
      "\u001b[A\n",
      "\u001b[A\n",
      "\u001b[A\n",
      "\u001b[A\n",
      "\u001b[A\n",
      "\u001b[A\n",
      "\u001b[A\n",
      "\u001b[A\n",
      "\u001b[A\n",
      "\u001b[A\n",
      "\u001b[A\n",
      "\u001b[A\n",
      "\u001b[A\n",
      "\u001b[A\n",
      "\u001b[A\n",
      "\u001b[A\n",
      "\u001b[A\n",
      "\u001b[A\n",
      "\u001b[A\n",
      "\u001b[A\n",
      "\u001b[A\n",
      "\u001b[A\n",
      "\u001b[A\n",
      "\u001b[A\n",
      "\u001b[A\n",
      "\u001b[A\n",
      "\u001b[A\n",
      "\u001b[A\n",
      "\u001b[A\n",
      "\u001b[A\n",
      "\u001b[A\n",
      "\u001b[A\n",
      "\u001b[A\n",
      "\u001b[A\n",
      "\u001b[A\n",
      "\u001b[A\n",
      "\u001b[A\n",
      "\u001b[A\n",
      "\u001b[A\n",
      "\u001b[A\n",
      "\u001b[A\n",
      "\u001b[A\n",
      "\u001b[A\n",
      "\u001b[A\n",
      "\u001b[A\n",
      "\u001b[A\n",
      "\u001b[A\n",
      "\u001b[A\n",
      "\u001b[A\n",
      "\u001b[A\n",
      "\u001b[A\n",
      "\u001b[A\n",
      "\u001b[A\n",
      "\u001b[A\n",
      "\u001b[A\n",
      "\u001b[A\n",
      "\u001b[A\n",
      "\u001b[A\n",
      "\u001b[A\n",
      "\u001b[A\n",
      "\u001b[A\n",
      "\u001b[A\n",
      "\u001b[A\n",
      "\u001b[A\n",
      "\u001b[A\n",
      "\u001b[A\n",
      "\u001b[A\n",
      "\u001b[A\n",
      "\u001b[A\n",
      "\u001b[A\n",
      "\u001b[A\n",
      "\u001b[A\n",
      "\u001b[A\n",
      "\u001b[A\n",
      "\u001b[A\n",
      "\u001b[A\n",
      "\u001b[A\n",
      "\u001b[A\n",
      "\u001b[A\n",
      "\u001b[A\n",
      "\u001b[A\n",
      "\u001b[A\n",
      "\u001b[A\n",
      "\u001b[A\n",
      "\u001b[A\n",
      "\u001b[A\n",
      "\u001b[A\n",
      "\u001b[A\n",
      "\u001b[A\n",
      "\u001b[A\n",
      "\u001b[A\n",
      "\u001b[A\n",
      "\u001b[A\n",
      "\u001b[A\n",
      "\u001b[A\n",
      "\u001b[A\n",
      "\u001b[A\n",
      "\u001b[A\n",
      "\u001b[A\n",
      "\u001b[A\n",
      "\u001b[A\n",
      "\u001b[A\n",
      "\u001b[A\n",
      "\u001b[A\n",
      "\u001b[A\n",
      "\u001b[A\n",
      "\u001b[A\n",
      "\u001b[A\n",
      "\u001b[A\n",
      "\u001b[A\n",
      "\u001b[A\n",
      "Processing Conversations: 100%|██████████| 1060/1060 [04:30<00:00,  3.92it/s]\n"
     ]
    },
    {
     "name": "stdout",
     "output_type": "stream",
     "text": [
      "  Generating domain data... (3/4 analytics for this batch)\n",
      "-----\n"
     ]
    },
    {
     "name": "stderr",
     "output_type": "stream",
     "text": [
      "Processing Conversations: 100%|██████████| 1060/1060 [03:41<00:00,  4.80it/s]\n"
     ]
    },
    {
     "name": "stdout",
     "output_type": "stream",
     "text": [
      "  Generating programming language data... (2/4 analytics for this batch)\n",
      "-----\n"
     ]
    },
    {
     "name": "stderr",
     "output_type": "stream",
     "text": [
      "Processing Conversations:  27%|██▋       | 283/1060 [01:45<04:20,  2.98it/s]"
     ]
    },
    {
     "name": "stdout",
     "output_type": "stream",
     "text": [
      "Expected tool_calls in ai_message.additional_kwargs, but none found.\n"
     ]
    },
    {
     "name": "stderr",
     "output_type": "stream",
     "text": [
      "Processing Conversations:  34%|███▍      | 365/1060 [02:15<03:54,  2.97it/s]"
     ]
    },
    {
     "name": "stdout",
     "output_type": "stream",
     "text": [
      "Expected tool_calls in ai_message.additional_kwargs, but none found.\n"
     ]
    },
    {
     "name": "stderr",
     "output_type": "stream",
     "text": [
      "Processing Conversations:  42%|████▏     | 442/1060 [02:42<02:40,  3.85it/s]"
     ]
    },
    {
     "name": "stdout",
     "output_type": "stream",
     "text": [
      "Expected tool_calls in ai_message.additional_kwargs, but none found.\n"
     ]
    },
    {
     "name": "stderr",
     "output_type": "stream",
     "text": [
      "Processing Conversations:  51%|█████     | 543/1060 [03:18<02:46,  3.11it/s]"
     ]
    },
    {
     "name": "stdout",
     "output_type": "stream",
     "text": [
      "Expected tool_calls in ai_message.additional_kwargs, but none found.\n"
     ]
    },
    {
     "name": "stderr",
     "output_type": "stream",
     "text": [
      "Processing Conversations: 100%|██████████| 1060/1060 [06:45<00:00,  2.61it/s]\n"
     ]
    },
    {
     "name": "stdout",
     "output_type": "stream",
     "text": [
      "  Generating dependency data... (1/4 analytics for this batch)\n",
      "-----\n"
     ]
    },
    {
     "name": "stderr",
     "output_type": "stream",
     "text": [
      "Processing Conversations:   1%|          | 6/1060 [00:06<10:44,  1.64it/s]  "
     ]
    },
    {
     "name": "stdout",
     "output_type": "stream",
     "text": [
      "Expected tool_calls in ai_message.additional_kwargs, but none found.\n"
     ]
    },
    {
     "name": "stderr",
     "output_type": "stream",
     "text": [
      "Processing Conversations:   1%|          | 8/1060 [00:07<10:22,  1.69it/s]"
     ]
    },
    {
     "name": "stdout",
     "output_type": "stream",
     "text": [
      "Expected tool_calls in ai_message.additional_kwargs, but none found.\n"
     ]
    },
    {
     "name": "stderr",
     "output_type": "stream",
     "text": [
      "Processing Conversations:   3%|▎         | 36/1060 [00:19<11:33,  1.48it/s]"
     ]
    },
    {
     "name": "stdout",
     "output_type": "stream",
     "text": [
      "Expected tool_calls in ai_message.additional_kwargs, but none found.\n"
     ]
    },
    {
     "name": "stderr",
     "output_type": "stream",
     "text": [
      "Processing Conversations:   3%|▎         | 37/1060 [00:20<11:21,  1.50it/s]"
     ]
    },
    {
     "name": "stdout",
     "output_type": "stream",
     "text": [
      "Expected tool_calls in ai_message.additional_kwargs, but none found.\n"
     ]
    },
    {
     "name": "stderr",
     "output_type": "stream",
     "text": [
      "Processing Conversations:   4%|▍         | 44/1060 [00:23<07:39,  2.21it/s]"
     ]
    },
    {
     "name": "stdout",
     "output_type": "stream",
     "text": [
      "Expected tool_calls in ai_message.additional_kwargs, but none found.\n"
     ]
    },
    {
     "name": "stderr",
     "output_type": "stream",
     "text": [
      "Processing Conversations:   4%|▍         | 45/1060 [00:24<06:29,  2.60it/s]"
     ]
    },
    {
     "name": "stdout",
     "output_type": "stream",
     "text": [
      "Expected tool_calls in ai_message.additional_kwargs, but none found.\n"
     ]
    },
    {
     "name": "stderr",
     "output_type": "stream",
     "text": [
      "Processing Conversations:   4%|▍         | 46/1060 [00:24<06:11,  2.73it/s]"
     ]
    },
    {
     "name": "stdout",
     "output_type": "stream",
     "text": [
      "Expected tool_calls in ai_message.additional_kwargs, but none found.\n"
     ]
    },
    {
     "name": "stderr",
     "output_type": "stream",
     "text": [
      "Processing Conversations:   5%|▍         | 51/1060 [00:27<10:33,  1.59it/s]"
     ]
    },
    {
     "name": "stdout",
     "output_type": "stream",
     "text": [
      "Expected tool_calls in ai_message.additional_kwargs, but none found.\n"
     ]
    },
    {
     "name": "stderr",
     "output_type": "stream",
     "text": [
      "Processing Conversations:   5%|▌         | 53/1060 [00:28<08:06,  2.07it/s]"
     ]
    },
    {
     "name": "stdout",
     "output_type": "stream",
     "text": [
      "Expected tool_calls in ai_message.additional_kwargs, but none found.\n"
     ]
    },
    {
     "name": "stderr",
     "output_type": "stream",
     "text": [
      "Processing Conversations:   5%|▌         | 57/1060 [00:31<11:06,  1.51it/s]"
     ]
    },
    {
     "name": "stdout",
     "output_type": "stream",
     "text": [
      "Expected tool_calls in ai_message.additional_kwargs, but none found.\n"
     ]
    },
    {
     "name": "stderr",
     "output_type": "stream",
     "text": [
      "Processing Conversations:   6%|▌         | 60/1060 [00:32<08:08,  2.05it/s]"
     ]
    },
    {
     "name": "stdout",
     "output_type": "stream",
     "text": [
      "Expected tool_calls in ai_message.additional_kwargs, but none found.\n"
     ]
    },
    {
     "name": "stderr",
     "output_type": "stream",
     "text": [
      "Processing Conversations:   7%|▋         | 69/1060 [00:39<12:14,  1.35it/s]"
     ]
    },
    {
     "name": "stdout",
     "output_type": "stream",
     "text": [
      "Expected tool_calls in ai_message.additional_kwargs, but none found.\n"
     ]
    },
    {
     "name": "stderr",
     "output_type": "stream",
     "text": [
      "Processing Conversations:   7%|▋         | 77/1060 [00:46<12:55,  1.27it/s]"
     ]
    },
    {
     "name": "stdout",
     "output_type": "stream",
     "text": [
      "Expected tool_calls in ai_message.additional_kwargs, but none found.\n"
     ]
    },
    {
     "name": "stderr",
     "output_type": "stream",
     "text": [
      "Processing Conversations:   9%|▉         | 99/1060 [00:58<08:54,  1.80it/s]"
     ]
    },
    {
     "name": "stdout",
     "output_type": "stream",
     "text": [
      "Expected tool_calls in ai_message.additional_kwargs, but none found.\n"
     ]
    },
    {
     "name": "stderr",
     "output_type": "stream",
     "text": [
      "Processing Conversations:  10%|▉         | 101/1060 [01:00<11:04,  1.44it/s]"
     ]
    },
    {
     "name": "stdout",
     "output_type": "stream",
     "text": [
      "Expected tool_calls in ai_message.additional_kwargs, but none found.\n"
     ]
    },
    {
     "name": "stderr",
     "output_type": "stream",
     "text": [
      "Processing Conversations:  10%|▉         | 103/1060 [01:01<12:39,  1.26it/s]"
     ]
    },
    {
     "name": "stdout",
     "output_type": "stream",
     "text": [
      "Expected tool_calls in ai_message.additional_kwargs, but none found.\n"
     ]
    },
    {
     "name": "stderr",
     "output_type": "stream",
     "text": [
      "Processing Conversations:  10%|█         | 107/1060 [01:02<06:05,  2.61it/s]"
     ]
    },
    {
     "name": "stdout",
     "output_type": "stream",
     "text": [
      "Expected tool_calls in ai_message.additional_kwargs, but none found.\n"
     ]
    },
    {
     "name": "stderr",
     "output_type": "stream",
     "text": [
      "Processing Conversations:  12%|█▏        | 123/1060 [01:10<06:20,  2.46it/s]"
     ]
    },
    {
     "name": "stdout",
     "output_type": "stream",
     "text": [
      "Expected tool_calls in ai_message.additional_kwargs, but none found.\n"
     ]
    },
    {
     "name": "stderr",
     "output_type": "stream",
     "text": [
      "Processing Conversations:  12%|█▏        | 128/1060 [01:11<05:41,  2.73it/s]"
     ]
    },
    {
     "name": "stdout",
     "output_type": "stream",
     "text": [
      "Expected tool_calls in ai_message.additional_kwargs, but none found.\n"
     ]
    },
    {
     "name": "stderr",
     "output_type": "stream",
     "text": [
      "Processing Conversations:  15%|█▌        | 160/1060 [01:27<06:29,  2.31it/s]"
     ]
    },
    {
     "name": "stdout",
     "output_type": "stream",
     "text": [
      "Expected tool_calls in ai_message.additional_kwargs, but none found.\n"
     ]
    },
    {
     "name": "stderr",
     "output_type": "stream",
     "text": [
      "Processing Conversations:  15%|█▌        | 162/1060 [01:28<07:13,  2.07it/s]"
     ]
    },
    {
     "name": "stdout",
     "output_type": "stream",
     "text": [
      "Expected tool_calls in ai_message.additional_kwargs, but none found.\n"
     ]
    },
    {
     "name": "stderr",
     "output_type": "stream",
     "text": [
      "Processing Conversations:  16%|█▋        | 174/1060 [01:34<06:37,  2.23it/s]"
     ]
    },
    {
     "name": "stdout",
     "output_type": "stream",
     "text": [
      "Expected tool_calls in ai_message.additional_kwargs, but none found.\n"
     ]
    },
    {
     "name": "stderr",
     "output_type": "stream",
     "text": [
      "Processing Conversations:  17%|█▋        | 184/1060 [01:39<05:33,  2.63it/s]"
     ]
    },
    {
     "name": "stdout",
     "output_type": "stream",
     "text": [
      "Expected tool_calls in ai_message.additional_kwargs, but none found.\n"
     ]
    },
    {
     "name": "stderr",
     "output_type": "stream",
     "text": [
      "Processing Conversations:  18%|█▊        | 195/1060 [01:45<08:32,  1.69it/s]"
     ]
    },
    {
     "name": "stdout",
     "output_type": "stream",
     "text": [
      "Expected tool_calls in ai_message.additional_kwargs, but none found.\n"
     ]
    },
    {
     "name": "stderr",
     "output_type": "stream",
     "text": [
      "Processing Conversations:  19%|█▉        | 205/1060 [01:51<13:16,  1.07it/s]"
     ]
    },
    {
     "name": "stdout",
     "output_type": "stream",
     "text": [
      "Expected tool_calls in ai_message.additional_kwargs, but none found.\n"
     ]
    },
    {
     "name": "stderr",
     "output_type": "stream",
     "text": [
      "Processing Conversations:  20%|█▉        | 208/1060 [01:51<07:11,  1.97it/s]"
     ]
    },
    {
     "name": "stdout",
     "output_type": "stream",
     "text": [
      "Expected tool_calls in ai_message.additional_kwargs, but none found.\n"
     ]
    },
    {
     "name": "stderr",
     "output_type": "stream",
     "text": [
      "Processing Conversations:  20%|█▉        | 209/1060 [01:52<06:18,  2.25it/s]"
     ]
    },
    {
     "name": "stdout",
     "output_type": "stream",
     "text": [
      "Expected tool_calls in ai_message.additional_kwargs, but none found.\n"
     ]
    },
    {
     "name": "stderr",
     "output_type": "stream",
     "text": [
      "Processing Conversations:  21%|██        | 224/1060 [02:01<06:49,  2.04it/s]"
     ]
    },
    {
     "name": "stdout",
     "output_type": "stream",
     "text": [
      "Expected tool_calls in ai_message.additional_kwargs, but none found.\n"
     ]
    },
    {
     "name": "stderr",
     "output_type": "stream",
     "text": [
      "Processing Conversations:  22%|██▏       | 231/1060 [02:05<06:50,  2.02it/s]"
     ]
    },
    {
     "name": "stdout",
     "output_type": "stream",
     "text": [
      "Expected tool_calls in ai_message.additional_kwargs, but none found.\n"
     ]
    },
    {
     "name": "stderr",
     "output_type": "stream",
     "text": [
      "Processing Conversations:  23%|██▎       | 247/1060 [02:12<05:39,  2.39it/s]"
     ]
    },
    {
     "name": "stdout",
     "output_type": "stream",
     "text": [
      "Expected tool_calls in ai_message.additional_kwargs, but none found.\n"
     ]
    },
    {
     "name": "stderr",
     "output_type": "stream",
     "text": [
      "Processing Conversations:  24%|██▍       | 253/1060 [02:15<05:37,  2.39it/s]"
     ]
    },
    {
     "name": "stdout",
     "output_type": "stream",
     "text": [
      "Expected tool_calls in ai_message.additional_kwargs, but none found.\n"
     ]
    },
    {
     "name": "stderr",
     "output_type": "stream",
     "text": [
      "Processing Conversations:  24%|██▍       | 255/1060 [02:16<06:38,  2.02it/s]"
     ]
    },
    {
     "name": "stdout",
     "output_type": "stream",
     "text": [
      "Expected tool_calls in ai_message.additional_kwargs, but none found.\n"
     ]
    },
    {
     "name": "stderr",
     "output_type": "stream",
     "text": [
      "Processing Conversations:  24%|██▍       | 256/1060 [02:17<06:50,  1.96it/s]"
     ]
    },
    {
     "name": "stdout",
     "output_type": "stream",
     "text": [
      "Expected tool_calls in ai_message.additional_kwargs, but none found.\n"
     ]
    },
    {
     "name": "stderr",
     "output_type": "stream",
     "text": [
      "Processing Conversations:  25%|██▍       | 260/1060 [02:19<06:24,  2.08it/s]"
     ]
    },
    {
     "name": "stdout",
     "output_type": "stream",
     "text": [
      "Expected tool_calls in ai_message.additional_kwargs, but none found.\n"
     ]
    },
    {
     "name": "stderr",
     "output_type": "stream",
     "text": [
      "Processing Conversations:  26%|██▌       | 272/1060 [02:25<06:12,  2.12it/s]"
     ]
    },
    {
     "name": "stdout",
     "output_type": "stream",
     "text": [
      "Expected tool_calls in ai_message.additional_kwargs, but none found.\n"
     ]
    },
    {
     "name": "stderr",
     "output_type": "stream",
     "text": [
      "Processing Conversations:  26%|██▋       | 279/1060 [02:27<04:25,  2.94it/s]"
     ]
    },
    {
     "name": "stdout",
     "output_type": "stream",
     "text": [
      "Expected tool_calls in ai_message.additional_kwargs, but none found.\n"
     ]
    },
    {
     "name": "stderr",
     "output_type": "stream",
     "text": [
      "Processing Conversations:  26%|██▋       | 280/1060 [02:28<05:40,  2.29it/s]"
     ]
    },
    {
     "name": "stdout",
     "output_type": "stream",
     "text": [
      "Expected tool_calls in ai_message.additional_kwargs, but none found.\n"
     ]
    },
    {
     "name": "stderr",
     "output_type": "stream",
     "text": [
      "Processing Conversations:  27%|██▋       | 284/1060 [02:29<03:47,  3.42it/s]"
     ]
    },
    {
     "name": "stdout",
     "output_type": "stream",
     "text": [
      "Expected tool_calls in ai_message.additional_kwargs, but none found.\n"
     ]
    },
    {
     "name": "stderr",
     "output_type": "stream",
     "text": [
      "Processing Conversations:  27%|██▋       | 288/1060 [02:31<04:48,  2.68it/s]"
     ]
    },
    {
     "name": "stdout",
     "output_type": "stream",
     "text": [
      "Expected tool_calls in ai_message.additional_kwargs, but none found.\n"
     ]
    },
    {
     "name": "stderr",
     "output_type": "stream",
     "text": [
      "Processing Conversations:  28%|██▊       | 292/1060 [02:34<07:29,  1.71it/s]"
     ]
    },
    {
     "name": "stdout",
     "output_type": "stream",
     "text": [
      "Expected tool_calls in ai_message.additional_kwargs, but none found.\n"
     ]
    },
    {
     "name": "stderr",
     "output_type": "stream",
     "text": [
      "Processing Conversations:  28%|██▊       | 295/1060 [02:35<06:38,  1.92it/s]"
     ]
    },
    {
     "name": "stdout",
     "output_type": "stream",
     "text": [
      "Expected tool_calls in ai_message.additional_kwargs, but none found.\n"
     ]
    },
    {
     "name": "stderr",
     "output_type": "stream",
     "text": [
      "Processing Conversations:  28%|██▊       | 302/1060 [02:39<06:49,  1.85it/s]"
     ]
    },
    {
     "name": "stdout",
     "output_type": "stream",
     "text": [
      "Expected tool_calls in ai_message.additional_kwargs, but none found.\n"
     ]
    },
    {
     "name": "stderr",
     "output_type": "stream",
     "text": [
      "Processing Conversations:  29%|██▉       | 305/1060 [02:39<04:32,  2.77it/s]"
     ]
    },
    {
     "name": "stdout",
     "output_type": "stream",
     "text": [
      "Expected tool_calls in ai_message.additional_kwargs, but none found.\n"
     ]
    },
    {
     "name": "stderr",
     "output_type": "stream",
     "text": [
      "Processing Conversations:  29%|██▉       | 311/1060 [02:42<04:11,  2.98it/s]"
     ]
    },
    {
     "name": "stdout",
     "output_type": "stream",
     "text": [
      "Expected tool_calls in ai_message.additional_kwargs, but none found.\n"
     ]
    },
    {
     "name": "stderr",
     "output_type": "stream",
     "text": [
      "Processing Conversations:  31%|███       | 325/1060 [02:47<03:57,  3.10it/s]"
     ]
    },
    {
     "name": "stdout",
     "output_type": "stream",
     "text": [
      "Expected tool_calls in ai_message.additional_kwargs, but none found.\n"
     ]
    },
    {
     "name": "stderr",
     "output_type": "stream",
     "text": [
      "Processing Conversations:  31%|███       | 328/1060 [02:49<04:50,  2.52it/s]"
     ]
    },
    {
     "name": "stdout",
     "output_type": "stream",
     "text": [
      "Expected tool_calls in ai_message.additional_kwargs, but none found.\n"
     ]
    },
    {
     "name": "stderr",
     "output_type": "stream",
     "text": [
      "Processing Conversations:  32%|███▏      | 337/1060 [02:54<08:05,  1.49it/s]"
     ]
    },
    {
     "name": "stdout",
     "output_type": "stream",
     "text": [
      "Expected tool_calls in ai_message.additional_kwargs, but none found.\n"
     ]
    },
    {
     "name": "stderr",
     "output_type": "stream",
     "text": [
      "Processing Conversations:  33%|███▎      | 355/1060 [03:04<05:47,  2.03it/s]"
     ]
    },
    {
     "name": "stdout",
     "output_type": "stream",
     "text": [
      "Expected tool_calls in ai_message.additional_kwargs, but none found.\n"
     ]
    },
    {
     "name": "stderr",
     "output_type": "stream",
     "text": [
      "Processing Conversations:  34%|███▎      | 356/1060 [03:05<07:00,  1.67it/s]"
     ]
    },
    {
     "name": "stdout",
     "output_type": "stream",
     "text": [
      "Expected tool_calls in ai_message.additional_kwargs, but none found.\n"
     ]
    },
    {
     "name": "stderr",
     "output_type": "stream",
     "text": [
      "Processing Conversations:  34%|███▍      | 359/1060 [03:06<05:33,  2.10it/s]"
     ]
    },
    {
     "name": "stdout",
     "output_type": "stream",
     "text": [
      "Expected tool_calls in ai_message.additional_kwargs, but none found.\n"
     ]
    },
    {
     "name": "stderr",
     "output_type": "stream",
     "text": [
      "Processing Conversations:  34%|███▍      | 362/1060 [03:07<05:17,  2.20it/s]"
     ]
    },
    {
     "name": "stdout",
     "output_type": "stream",
     "text": [
      "Expected tool_calls in ai_message.additional_kwargs, but none found.\n"
     ]
    },
    {
     "name": "stderr",
     "output_type": "stream",
     "text": [
      "Processing Conversations:  37%|███▋      | 390/1060 [03:20<07:35,  1.47it/s]"
     ]
    },
    {
     "name": "stdout",
     "output_type": "stream",
     "text": [
      "Expected tool_calls in ai_message.additional_kwargs, but none found.\n"
     ]
    },
    {
     "name": "stderr",
     "output_type": "stream",
     "text": [
      "Processing Conversations:  38%|███▊      | 404/1060 [03:29<06:22,  1.71it/s]"
     ]
    },
    {
     "name": "stdout",
     "output_type": "stream",
     "text": [
      "Expected tool_calls in ai_message.additional_kwargs, but none found.\n",
      "Expected tool_calls in ai_message.additional_kwargs, but none found.\n"
     ]
    },
    {
     "name": "stderr",
     "output_type": "stream",
     "text": [
      "Processing Conversations:  40%|███▉      | 421/1060 [03:36<02:57,  3.60it/s]"
     ]
    },
    {
     "name": "stdout",
     "output_type": "stream",
     "text": [
      "Expected tool_calls in ai_message.additional_kwargs, but none found.\n"
     ]
    },
    {
     "name": "stderr",
     "output_type": "stream",
     "text": [
      "Processing Conversations:  40%|████      | 425/1060 [03:39<04:49,  2.20it/s]"
     ]
    },
    {
     "name": "stdout",
     "output_type": "stream",
     "text": [
      "Expected tool_calls in ai_message.additional_kwargs, but none found.\n"
     ]
    },
    {
     "name": "stderr",
     "output_type": "stream",
     "text": [
      "Processing Conversations:  40%|████      | 429/1060 [03:40<04:31,  2.33it/s]"
     ]
    },
    {
     "name": "stdout",
     "output_type": "stream",
     "text": [
      "Expected tool_calls in ai_message.additional_kwargs, but none found.\n"
     ]
    },
    {
     "name": "stderr",
     "output_type": "stream",
     "text": [
      "Processing Conversations:  41%|████      | 431/1060 [03:42<07:25,  1.41it/s]"
     ]
    },
    {
     "name": "stdout",
     "output_type": "stream",
     "text": [
      "Expected tool_calls in ai_message.additional_kwargs, but none found.\n"
     ]
    },
    {
     "name": "stderr",
     "output_type": "stream",
     "text": [
      "Processing Conversations:  41%|████▏     | 439/1060 [03:45<03:13,  3.21it/s]"
     ]
    },
    {
     "name": "stdout",
     "output_type": "stream",
     "text": [
      "Expected tool_calls in ai_message.additional_kwargs, but none found.\n",
      "Expected tool_calls in ai_message.additional_kwargs, but none found.\n"
     ]
    },
    {
     "name": "stderr",
     "output_type": "stream",
     "text": [
      "Processing Conversations:  42%|████▏     | 449/1060 [03:47<02:45,  3.70it/s]"
     ]
    },
    {
     "name": "stdout",
     "output_type": "stream",
     "text": [
      "Expected tool_calls in ai_message.additional_kwargs, but none found.\n"
     ]
    },
    {
     "name": "stderr",
     "output_type": "stream",
     "text": [
      "Processing Conversations:  42%|████▏     | 450/1060 [03:49<06:19,  1.61it/s]"
     ]
    },
    {
     "name": "stdout",
     "output_type": "stream",
     "text": [
      "Expected tool_calls in ai_message.additional_kwargs, but none found.\n"
     ]
    },
    {
     "name": "stderr",
     "output_type": "stream",
     "text": [
      "Processing Conversations:  43%|████▎     | 458/1060 [03:54<04:45,  2.11it/s]"
     ]
    },
    {
     "name": "stdout",
     "output_type": "stream",
     "text": [
      "Expected tool_calls in ai_message.additional_kwargs, but none found.\n"
     ]
    },
    {
     "name": "stderr",
     "output_type": "stream",
     "text": [
      "Processing Conversations:  44%|████▍     | 465/1060 [03:58<07:45,  1.28it/s]"
     ]
    },
    {
     "name": "stdout",
     "output_type": "stream",
     "text": [
      "Expected tool_calls in ai_message.additional_kwargs, but none found.\n"
     ]
    },
    {
     "name": "stderr",
     "output_type": "stream",
     "text": [
      "Processing Conversations:  44%|████▍     | 467/1060 [03:59<05:43,  1.73it/s]"
     ]
    },
    {
     "name": "stdout",
     "output_type": "stream",
     "text": [
      "Expected tool_calls in ai_message.additional_kwargs, but none found.\n"
     ]
    },
    {
     "name": "stderr",
     "output_type": "stream",
     "text": [
      "Processing Conversations:  45%|████▍     | 476/1060 [04:02<03:12,  3.03it/s]"
     ]
    },
    {
     "name": "stdout",
     "output_type": "stream",
     "text": [
      "Expected tool_calls in ai_message.additional_kwargs, but none found.\n"
     ]
    },
    {
     "name": "stderr",
     "output_type": "stream",
     "text": [
      "Processing Conversations:  46%|████▌     | 483/1060 [04:09<07:57,  1.21it/s]"
     ]
    },
    {
     "name": "stdout",
     "output_type": "stream",
     "text": [
      "Expected tool_calls in ai_message.additional_kwargs, but none found.\n"
     ]
    },
    {
     "name": "stderr",
     "output_type": "stream",
     "text": [
      "Processing Conversations:  47%|████▋     | 493/1060 [04:16<05:14,  1.80it/s]"
     ]
    },
    {
     "name": "stdout",
     "output_type": "stream",
     "text": [
      "Expected tool_calls in ai_message.additional_kwargs, but none found.\n"
     ]
    },
    {
     "name": "stderr",
     "output_type": "stream",
     "text": [
      "Processing Conversations:  47%|████▋     | 495/1060 [04:18<07:17,  1.29it/s]"
     ]
    },
    {
     "name": "stdout",
     "output_type": "stream",
     "text": [
      "Expected tool_calls in ai_message.additional_kwargs, but none found.\n"
     ]
    },
    {
     "name": "stderr",
     "output_type": "stream",
     "text": [
      "Processing Conversations:  47%|████▋     | 498/1060 [04:20<06:11,  1.51it/s]"
     ]
    },
    {
     "name": "stdout",
     "output_type": "stream",
     "text": [
      "Expected tool_calls in ai_message.additional_kwargs, but none found.\n"
     ]
    },
    {
     "name": "stderr",
     "output_type": "stream",
     "text": [
      "Processing Conversations:  48%|████▊     | 514/1060 [04:27<05:18,  1.71it/s]"
     ]
    },
    {
     "name": "stdout",
     "output_type": "stream",
     "text": [
      "Expected tool_calls in ai_message.additional_kwargs, but none found.\n"
     ]
    },
    {
     "name": "stderr",
     "output_type": "stream",
     "text": [
      "Processing Conversations:  49%|████▉     | 519/1060 [04:31<04:51,  1.86it/s]"
     ]
    },
    {
     "name": "stdout",
     "output_type": "stream",
     "text": [
      "Expected tool_calls in ai_message.additional_kwargs, but none found.\n"
     ]
    },
    {
     "name": "stderr",
     "output_type": "stream",
     "text": [
      "Processing Conversations:  50%|████▉     | 525/1060 [04:35<07:28,  1.19it/s]"
     ]
    },
    {
     "name": "stdout",
     "output_type": "stream",
     "text": [
      "Expected tool_calls in ai_message.additional_kwargs, but none found.\n"
     ]
    },
    {
     "name": "stderr",
     "output_type": "stream",
     "text": [
      "Processing Conversations:  51%|█████     | 537/1060 [04:40<03:21,  2.60it/s]"
     ]
    },
    {
     "name": "stdout",
     "output_type": "stream",
     "text": [
      "Expected tool_calls in ai_message.additional_kwargs, but none found.\n"
     ]
    },
    {
     "name": "stderr",
     "output_type": "stream",
     "text": [
      "Processing Conversations:  52%|█████▏    | 546/1060 [04:45<04:06,  2.08it/s]"
     ]
    },
    {
     "name": "stdout",
     "output_type": "stream",
     "text": [
      "Expected tool_calls in ai_message.additional_kwargs, but none found.\n"
     ]
    },
    {
     "name": "stderr",
     "output_type": "stream",
     "text": [
      "Processing Conversations:  52%|█████▏    | 555/1060 [04:50<03:27,  2.44it/s]"
     ]
    },
    {
     "name": "stdout",
     "output_type": "stream",
     "text": [
      "Expected tool_calls in ai_message.additional_kwargs, but none found.\n"
     ]
    },
    {
     "name": "stderr",
     "output_type": "stream",
     "text": [
      "Processing Conversations:  53%|█████▎    | 560/1060 [04:52<02:29,  3.35it/s]"
     ]
    },
    {
     "name": "stdout",
     "output_type": "stream",
     "text": [
      "Expected tool_calls in ai_message.additional_kwargs, but none found.\n"
     ]
    },
    {
     "name": "stderr",
     "output_type": "stream",
     "text": [
      "Processing Conversations:  53%|█████▎    | 564/1060 [04:54<03:50,  2.15it/s]"
     ]
    },
    {
     "name": "stdout",
     "output_type": "stream",
     "text": [
      "Expected tool_calls in ai_message.additional_kwargs, but none found.\n"
     ]
    },
    {
     "name": "stderr",
     "output_type": "stream",
     "text": [
      "Processing Conversations:  54%|█████▎    | 569/1060 [04:56<03:07,  2.62it/s]"
     ]
    },
    {
     "name": "stdout",
     "output_type": "stream",
     "text": [
      "Expected tool_calls in ai_message.additional_kwargs, but none found.\n"
     ]
    },
    {
     "name": "stderr",
     "output_type": "stream",
     "text": [
      "Processing Conversations:  54%|█████▍    | 573/1060 [04:59<04:45,  1.71it/s]"
     ]
    },
    {
     "name": "stdout",
     "output_type": "stream",
     "text": [
      "Expected tool_calls in ai_message.additional_kwargs, but none found.\n",
      "Expected tool_calls in ai_message.additional_kwargs, but none found.\n"
     ]
    },
    {
     "name": "stderr",
     "output_type": "stream",
     "text": [
      "Processing Conversations:  55%|█████▍    | 579/1060 [05:01<03:07,  2.57it/s]"
     ]
    },
    {
     "name": "stdout",
     "output_type": "stream",
     "text": [
      "Expected tool_calls in ai_message.additional_kwargs, but none found.\n"
     ]
    },
    {
     "name": "stderr",
     "output_type": "stream",
     "text": [
      "Processing Conversations:  56%|█████▌    | 596/1060 [05:12<05:52,  1.31it/s]"
     ]
    },
    {
     "name": "stdout",
     "output_type": "stream",
     "text": [
      "Expected tool_calls in ai_message.additional_kwargs, but none found.\n"
     ]
    },
    {
     "name": "stderr",
     "output_type": "stream",
     "text": [
      "Processing Conversations:  57%|█████▋    | 603/1060 [05:14<02:49,  2.69it/s]"
     ]
    },
    {
     "name": "stdout",
     "output_type": "stream",
     "text": [
      "Expected tool_calls in ai_message.additional_kwargs, but none found.\n"
     ]
    },
    {
     "name": "stderr",
     "output_type": "stream",
     "text": [
      "Processing Conversations:  57%|█████▋    | 607/1060 [05:16<02:59,  2.53it/s]"
     ]
    },
    {
     "name": "stdout",
     "output_type": "stream",
     "text": [
      "Expected tool_calls in ai_message.additional_kwargs, but none found.\n"
     ]
    },
    {
     "name": "stderr",
     "output_type": "stream",
     "text": [
      "Processing Conversations:  58%|█████▊    | 614/1060 [05:20<04:01,  1.85it/s]"
     ]
    },
    {
     "name": "stdout",
     "output_type": "stream",
     "text": [
      "Expected tool_calls in ai_message.additional_kwargs, but none found.\n"
     ]
    },
    {
     "name": "stderr",
     "output_type": "stream",
     "text": [
      "Processing Conversations:  58%|█████▊    | 616/1060 [05:23<06:56,  1.07it/s]"
     ]
    },
    {
     "name": "stdout",
     "output_type": "stream",
     "text": [
      "Expected tool_calls in ai_message.additional_kwargs, but none found.\n"
     ]
    },
    {
     "name": "stderr",
     "output_type": "stream",
     "text": [
      "Processing Conversations:  59%|█████▉    | 627/1060 [05:32<06:56,  1.04it/s]"
     ]
    },
    {
     "name": "stdout",
     "output_type": "stream",
     "text": [
      "Expected tool_calls in ai_message.additional_kwargs, but none found.\n"
     ]
    },
    {
     "name": "stderr",
     "output_type": "stream",
     "text": [
      "Processing Conversations:  59%|█████▉    | 629/1060 [05:33<05:31,  1.30it/s]"
     ]
    },
    {
     "name": "stdout",
     "output_type": "stream",
     "text": [
      "Expected tool_calls in ai_message.additional_kwargs, but none found.\n"
     ]
    },
    {
     "name": "stderr",
     "output_type": "stream",
     "text": [
      "Processing Conversations:  61%|██████▏   | 650/1060 [05:46<04:14,  1.61it/s]"
     ]
    },
    {
     "name": "stdout",
     "output_type": "stream",
     "text": [
      "Expected tool_calls in ai_message.additional_kwargs, but none found.\n"
     ]
    },
    {
     "name": "stderr",
     "output_type": "stream",
     "text": [
      "Processing Conversations:  62%|██████▏   | 652/1060 [05:47<03:47,  1.79it/s]"
     ]
    },
    {
     "name": "stdout",
     "output_type": "stream",
     "text": [
      "Expected tool_calls in ai_message.additional_kwargs, but none found.\n"
     ]
    },
    {
     "name": "stderr",
     "output_type": "stream",
     "text": [
      "Processing Conversations:  62%|██████▏   | 655/1060 [05:47<02:04,  3.25it/s]"
     ]
    },
    {
     "name": "stdout",
     "output_type": "stream",
     "text": [
      "Expected tool_calls in ai_message.additional_kwargs, but none found.\n"
     ]
    },
    {
     "name": "stderr",
     "output_type": "stream",
     "text": [
      "Processing Conversations:  62%|██████▏   | 661/1060 [05:49<01:42,  3.88it/s]"
     ]
    },
    {
     "name": "stdout",
     "output_type": "stream",
     "text": [
      "Expected tool_calls in ai_message.additional_kwargs, but none found.\n"
     ]
    },
    {
     "name": "stderr",
     "output_type": "stream",
     "text": [
      "Processing Conversations:  63%|██████▎   | 668/1060 [05:52<03:47,  1.72it/s]"
     ]
    },
    {
     "name": "stdout",
     "output_type": "stream",
     "text": [
      "Expected tool_calls in ai_message.additional_kwargs, but none found.\n"
     ]
    },
    {
     "name": "stderr",
     "output_type": "stream",
     "text": [
      "Processing Conversations:  64%|██████▍   | 683/1060 [06:02<04:57,  1.27it/s]"
     ]
    },
    {
     "name": "stdout",
     "output_type": "stream",
     "text": [
      "Expected tool_calls in ai_message.additional_kwargs, but none found.\n"
     ]
    },
    {
     "name": "stderr",
     "output_type": "stream",
     "text": [
      "Processing Conversations:  65%|██████▍   | 685/1060 [06:03<04:12,  1.48it/s]"
     ]
    },
    {
     "name": "stdout",
     "output_type": "stream",
     "text": [
      "Expected tool_calls in ai_message.additional_kwargs, but none found.\n"
     ]
    },
    {
     "name": "stderr",
     "output_type": "stream",
     "text": [
      "Processing Conversations:  65%|██████▌   | 689/1060 [06:05<03:24,  1.81it/s]"
     ]
    },
    {
     "name": "stdout",
     "output_type": "stream",
     "text": [
      "Expected tool_calls in ai_message.additional_kwargs, but none found.\n"
     ]
    },
    {
     "name": "stderr",
     "output_type": "stream",
     "text": [
      "Processing Conversations:  66%|██████▌   | 697/1060 [06:08<02:26,  2.48it/s]"
     ]
    },
    {
     "name": "stdout",
     "output_type": "stream",
     "text": [
      "Expected tool_calls in ai_message.additional_kwargs, but none found.\n"
     ]
    },
    {
     "name": "stderr",
     "output_type": "stream",
     "text": [
      "Processing Conversations:  66%|██████▌   | 700/1060 [06:10<02:44,  2.19it/s]"
     ]
    },
    {
     "name": "stdout",
     "output_type": "stream",
     "text": [
      "Expected tool_calls in ai_message.additional_kwargs, but none found.\n"
     ]
    },
    {
     "name": "stderr",
     "output_type": "stream",
     "text": [
      "Processing Conversations:  69%|██████▉   | 733/1060 [06:25<02:43,  2.00it/s]"
     ]
    },
    {
     "name": "stdout",
     "output_type": "stream",
     "text": [
      "Expected tool_calls in ai_message.additional_kwargs, but none found.\n"
     ]
    },
    {
     "name": "stderr",
     "output_type": "stream",
     "text": [
      "Processing Conversations:  70%|███████   | 747/1060 [06:34<02:50,  1.83it/s]"
     ]
    },
    {
     "name": "stdout",
     "output_type": "stream",
     "text": [
      "Expected tool_calls in ai_message.additional_kwargs, but none found.\n"
     ]
    },
    {
     "name": "stderr",
     "output_type": "stream",
     "text": [
      "Processing Conversations:  71%|███████   | 750/1060 [06:35<02:11,  2.36it/s]"
     ]
    },
    {
     "name": "stdout",
     "output_type": "stream",
     "text": [
      "Expected tool_calls in ai_message.additional_kwargs, but none found.\n"
     ]
    },
    {
     "name": "stderr",
     "output_type": "stream",
     "text": [
      "Processing Conversations:  71%|███████   | 752/1060 [06:38<04:05,  1.25it/s]"
     ]
    },
    {
     "name": "stdout",
     "output_type": "stream",
     "text": [
      "Expected tool_calls in ai_message.additional_kwargs, but none found.\n"
     ]
    },
    {
     "name": "stderr",
     "output_type": "stream",
     "text": [
      "Processing Conversations:  71%|███████▏  | 756/1060 [06:39<02:09,  2.35it/s]"
     ]
    },
    {
     "name": "stdout",
     "output_type": "stream",
     "text": [
      "Expected tool_calls in ai_message.additional_kwargs, but none found.\n"
     ]
    },
    {
     "name": "stderr",
     "output_type": "stream",
     "text": [
      "Processing Conversations:  72%|███████▏  | 758/1060 [06:40<02:14,  2.25it/s]"
     ]
    },
    {
     "name": "stdout",
     "output_type": "stream",
     "text": [
      "Expected tool_calls in ai_message.additional_kwargs, but none found.\n"
     ]
    },
    {
     "name": "stderr",
     "output_type": "stream",
     "text": [
      "Processing Conversations:  74%|███████▍  | 786/1060 [06:55<02:36,  1.75it/s]"
     ]
    },
    {
     "name": "stdout",
     "output_type": "stream",
     "text": [
      "Expected tool_calls in ai_message.additional_kwargs, but none found.\n"
     ]
    },
    {
     "name": "stderr",
     "output_type": "stream",
     "text": [
      "Processing Conversations:  74%|███████▍  | 787/1060 [06:57<03:10,  1.43it/s]"
     ]
    },
    {
     "name": "stdout",
     "output_type": "stream",
     "text": [
      "Expected tool_calls in ai_message.additional_kwargs, but none found.\n"
     ]
    },
    {
     "name": "stderr",
     "output_type": "stream",
     "text": [
      "Processing Conversations:  75%|███████▍  | 790/1060 [06:59<03:19,  1.35it/s]"
     ]
    },
    {
     "name": "stdout",
     "output_type": "stream",
     "text": [
      "Expected tool_calls in ai_message.additional_kwargs, but none found.\n"
     ]
    },
    {
     "name": "stderr",
     "output_type": "stream",
     "text": [
      "Processing Conversations:  75%|███████▌  | 795/1060 [07:01<01:44,  2.53it/s]"
     ]
    },
    {
     "name": "stdout",
     "output_type": "stream",
     "text": [
      "Expected tool_calls in ai_message.additional_kwargs, but none found.\n"
     ]
    },
    {
     "name": "stderr",
     "output_type": "stream",
     "text": [
      "Processing Conversations:  75%|███████▌  | 797/1060 [07:03<02:57,  1.48it/s]"
     ]
    },
    {
     "name": "stdout",
     "output_type": "stream",
     "text": [
      "Expected tool_calls in ai_message.additional_kwargs, but none found.\n"
     ]
    },
    {
     "name": "stderr",
     "output_type": "stream",
     "text": [
      "Processing Conversations:  76%|███████▌  | 803/1060 [07:07<03:07,  1.37it/s]"
     ]
    },
    {
     "name": "stdout",
     "output_type": "stream",
     "text": [
      "Expected tool_calls in ai_message.additional_kwargs, but none found.\n"
     ]
    },
    {
     "name": "stderr",
     "output_type": "stream",
     "text": [
      "Processing Conversations:  77%|███████▋  | 819/1060 [07:17<02:30,  1.60it/s]"
     ]
    },
    {
     "name": "stdout",
     "output_type": "stream",
     "text": [
      "Expected tool_calls in ai_message.additional_kwargs, but none found.\n"
     ]
    },
    {
     "name": "stderr",
     "output_type": "stream",
     "text": [
      "Processing Conversations:  78%|███████▊  | 822/1060 [07:20<02:39,  1.50it/s]"
     ]
    },
    {
     "name": "stdout",
     "output_type": "stream",
     "text": [
      "Expected tool_calls in ai_message.additional_kwargs, but none found.\n"
     ]
    },
    {
     "name": "stderr",
     "output_type": "stream",
     "text": [
      "Processing Conversations:  78%|███████▊  | 832/1060 [07:27<04:32,  1.19s/it]"
     ]
    },
    {
     "name": "stdout",
     "output_type": "stream",
     "text": [
      "Expected tool_calls in ai_message.additional_kwargs, but none found.\n"
     ]
    },
    {
     "name": "stderr",
     "output_type": "stream",
     "text": [
      "Processing Conversations:  80%|███████▉  | 843/1060 [07:32<02:06,  1.71it/s]"
     ]
    },
    {
     "name": "stdout",
     "output_type": "stream",
     "text": [
      "Expected tool_calls in ai_message.additional_kwargs, but none found.\n"
     ]
    },
    {
     "name": "stderr",
     "output_type": "stream",
     "text": [
      "Processing Conversations:  80%|███████▉  | 847/1060 [07:34<01:51,  1.92it/s]"
     ]
    },
    {
     "name": "stdout",
     "output_type": "stream",
     "text": [
      "Expected tool_calls in ai_message.additional_kwargs, but none found.\n"
     ]
    },
    {
     "name": "stderr",
     "output_type": "stream",
     "text": [
      "Processing Conversations:  83%|████████▎ | 882/1060 [07:54<01:43,  1.73it/s]"
     ]
    },
    {
     "name": "stdout",
     "output_type": "stream",
     "text": [
      "Expected tool_calls in ai_message.additional_kwargs, but none found.\n"
     ]
    },
    {
     "name": "stderr",
     "output_type": "stream",
     "text": [
      "Processing Conversations:  84%|████████▍ | 893/1060 [07:58<01:01,  2.73it/s]"
     ]
    },
    {
     "name": "stdout",
     "output_type": "stream",
     "text": [
      "Expected tool_calls in ai_message.additional_kwargs, but none found.\n"
     ]
    },
    {
     "name": "stderr",
     "output_type": "stream",
     "text": [
      "Processing Conversations:  85%|████████▌ | 901/1060 [08:02<00:57,  2.76it/s]"
     ]
    },
    {
     "name": "stdout",
     "output_type": "stream",
     "text": [
      "Expected tool_calls in ai_message.additional_kwargs, but none found.\n"
     ]
    },
    {
     "name": "stderr",
     "output_type": "stream",
     "text": [
      "Processing Conversations:  85%|████████▌ | 905/1060 [08:03<00:54,  2.87it/s]"
     ]
    },
    {
     "name": "stdout",
     "output_type": "stream",
     "text": [
      "Expected tool_calls in ai_message.additional_kwargs, but none found.\n"
     ]
    },
    {
     "name": "stderr",
     "output_type": "stream",
     "text": [
      "Processing Conversations:  86%|████████▌ | 912/1060 [08:07<01:00,  2.45it/s]"
     ]
    },
    {
     "name": "stdout",
     "output_type": "stream",
     "text": [
      "Expected tool_calls in ai_message.additional_kwargs, but none found.\n"
     ]
    },
    {
     "name": "stderr",
     "output_type": "stream",
     "text": [
      "Processing Conversations:  86%|████████▌ | 913/1060 [08:07<01:10,  2.08it/s]"
     ]
    },
    {
     "name": "stdout",
     "output_type": "stream",
     "text": [
      "Expected tool_calls in ai_message.additional_kwargs, but none found.\n"
     ]
    },
    {
     "name": "stderr",
     "output_type": "stream",
     "text": [
      "Processing Conversations:  87%|████████▋ | 922/1060 [08:11<00:41,  3.35it/s]"
     ]
    },
    {
     "name": "stdout",
     "output_type": "stream",
     "text": [
      "Expected tool_calls in ai_message.additional_kwargs, but none found.\n"
     ]
    },
    {
     "name": "stderr",
     "output_type": "stream",
     "text": [
      "Processing Conversations:  87%|████████▋ | 924/1060 [08:12<01:07,  2.00it/s]"
     ]
    },
    {
     "name": "stdout",
     "output_type": "stream",
     "text": [
      "Expected tool_calls in ai_message.additional_kwargs, but none found.\n"
     ]
    },
    {
     "name": "stderr",
     "output_type": "stream",
     "text": [
      "Processing Conversations:  89%|████████▉ | 943/1060 [08:21<01:08,  1.70it/s]"
     ]
    },
    {
     "name": "stdout",
     "output_type": "stream",
     "text": [
      "Expected tool_calls in ai_message.additional_kwargs, but none found.\n"
     ]
    },
    {
     "name": "stderr",
     "output_type": "stream",
     "text": [
      "Processing Conversations:  89%|████████▉ | 944/1060 [08:22<01:28,  1.31it/s]"
     ]
    },
    {
     "name": "stdout",
     "output_type": "stream",
     "text": [
      "Expected tool_calls in ai_message.additional_kwargs, but none found.\n"
     ]
    },
    {
     "name": "stderr",
     "output_type": "stream",
     "text": [
      "Processing Conversations:  90%|█████████ | 955/1060 [08:28<01:14,  1.41it/s]"
     ]
    },
    {
     "name": "stdout",
     "output_type": "stream",
     "text": [
      "Expected tool_calls in ai_message.additional_kwargs, but none found.\n"
     ]
    },
    {
     "name": "stderr",
     "output_type": "stream",
     "text": [
      "Processing Conversations:  90%|█████████ | 958/1060 [08:30<00:56,  1.79it/s]"
     ]
    },
    {
     "name": "stdout",
     "output_type": "stream",
     "text": [
      "Expected tool_calls in ai_message.additional_kwargs, but none found.\n"
     ]
    },
    {
     "name": "stderr",
     "output_type": "stream",
     "text": [
      "Processing Conversations:  91%|█████████ | 961/1060 [08:31<00:43,  2.27it/s]"
     ]
    },
    {
     "name": "stdout",
     "output_type": "stream",
     "text": [
      "Expected tool_calls in ai_message.additional_kwargs, but none found.\n"
     ]
    },
    {
     "name": "stderr",
     "output_type": "stream",
     "text": [
      "Processing Conversations:  92%|█████████▏| 978/1060 [08:39<00:40,  2.00it/s]"
     ]
    },
    {
     "name": "stdout",
     "output_type": "stream",
     "text": [
      "Expected tool_calls in ai_message.additional_kwargs, but none found.\n"
     ]
    },
    {
     "name": "stderr",
     "output_type": "stream",
     "text": [
      "Processing Conversations:  93%|█████████▎| 982/1060 [08:43<01:16,  1.02it/s]"
     ]
    },
    {
     "name": "stdout",
     "output_type": "stream",
     "text": [
      "Expected tool_calls in ai_message.additional_kwargs, but none found.\n"
     ]
    },
    {
     "name": "stderr",
     "output_type": "stream",
     "text": [
      "Processing Conversations:  94%|█████████▎| 992/1060 [08:49<00:40,  1.70it/s]"
     ]
    },
    {
     "name": "stdout",
     "output_type": "stream",
     "text": [
      "Expected tool_calls in ai_message.additional_kwargs, but none found.\n",
      "Expected tool_calls in ai_message.additional_kwargs, but none found.\n"
     ]
    },
    {
     "name": "stderr",
     "output_type": "stream",
     "text": [
      "Processing Conversations:  95%|█████████▍| 1005/1060 [08:59<00:34,  1.59it/s]"
     ]
    },
    {
     "name": "stdout",
     "output_type": "stream",
     "text": [
      "Expected tool_calls in ai_message.additional_kwargs, but none found.\n"
     ]
    },
    {
     "name": "stderr",
     "output_type": "stream",
     "text": [
      "Processing Conversations:  96%|█████████▋| 1021/1060 [09:09<00:22,  1.76it/s]"
     ]
    },
    {
     "name": "stdout",
     "output_type": "stream",
     "text": [
      "Expected tool_calls in ai_message.additional_kwargs, but none found.\n"
     ]
    },
    {
     "name": "stderr",
     "output_type": "stream",
     "text": [
      "Processing Conversations:  97%|█████████▋| 1028/1060 [09:13<00:24,  1.32it/s]"
     ]
    },
    {
     "name": "stdout",
     "output_type": "stream",
     "text": [
      "Expected tool_calls in ai_message.additional_kwargs, but none found.\n"
     ]
    },
    {
     "name": "stderr",
     "output_type": "stream",
     "text": [
      "Processing Conversations:  98%|█████████▊| 1037/1060 [09:17<00:10,  2.25it/s]"
     ]
    },
    {
     "name": "stdout",
     "output_type": "stream",
     "text": [
      "Expected tool_calls in ai_message.additional_kwargs, but none found.\n"
     ]
    },
    {
     "name": "stderr",
     "output_type": "stream",
     "text": [
      "Processing Conversations:  99%|█████████▊| 1045/1060 [09:20<00:06,  2.39it/s]"
     ]
    },
    {
     "name": "stdout",
     "output_type": "stream",
     "text": [
      "Expected tool_calls in ai_message.additional_kwargs, but none found.\n"
     ]
    },
    {
     "name": "stderr",
     "output_type": "stream",
     "text": [
      "Processing Conversations:  99%|█████████▉| 1049/1060 [09:23<00:04,  2.42it/s]"
     ]
    },
    {
     "name": "stdout",
     "output_type": "stream",
     "text": [
      "Expected tool_calls in ai_message.additional_kwargs, but none found.\n"
     ]
    },
    {
     "name": "stderr",
     "output_type": "stream",
     "text": [
      "Processing Conversations:  99%|█████████▉| 1054/1060 [09:26<00:03,  1.70it/s]"
     ]
    },
    {
     "name": "stdout",
     "output_type": "stream",
     "text": [
      "Expected tool_calls in ai_message.additional_kwargs, but none found.\n"
     ]
    },
    {
     "name": "stderr",
     "output_type": "stream",
     "text": [
      "Processing Conversations: 100%|█████████▉| 1055/1060 [09:26<00:03,  1.59it/s]"
     ]
    },
    {
     "name": "stdout",
     "output_type": "stream",
     "text": [
      "Expected tool_calls in ai_message.additional_kwargs, but none found.\n"
     ]
    },
    {
     "name": "stderr",
     "output_type": "stream",
     "text": [
      "Processing Conversations: 100%|█████████▉| 1057/1060 [09:28<00:02,  1.26it/s]"
     ]
    },
    {
     "name": "stdout",
     "output_type": "stream",
     "text": [
      "Expected tool_calls in ai_message.additional_kwargs, but none found.\n"
     ]
    },
    {
     "name": "stderr",
     "output_type": "stream",
     "text": [
      "Processing Conversations: 100%|██████████| 1060/1060 [09:32<00:00,  1.85it/s]"
     ]
    },
    {
     "name": "stdout",
     "output_type": "stream",
     "text": [
      "============================================================\n",
      "DONE.\n",
      "============================================================\n"
     ]
    },
    {
     "name": "stderr",
     "output_type": "stream",
     "text": [
      "\n"
     ]
    }
   ],
   "source": [
    "from py_files.utils import DATA_DIR\n",
    "import os\n",
    "import pickle\n",
    "from datetime import datetime\n",
    "\n",
    "batch_folder_prefix = DATA_DIR + 'jsonl_conversations/batch_'\n",
    "progress_backup_folder = DATA_DIR + 'progress_backup/'\n",
    "current_date = datetime.now().strftime('%Y-%m-%d__%H-%M-%S')\n",
    "\n",
    "analytics_functions = {\n",
    "    'behavioural_tags': get_behavioural_tags_data_batch_conversations,\n",
    "    'use_case_data': get_use_case_data_batch_conversations,\n",
    "    'areas_of_focus_data': get_areas_of_focus_data_batch_conversations,\n",
    "    'domain_data': get_domain_data_batch_conversations,\n",
    "    'programming_language_data': get_programming_language_data_batch_conversations,\n",
    "    'dependency_data': get_dependency_data_batch_conversations,\n",
    "}\n",
    "batch_results = {}\n",
    "\n",
    "number_of_batches_total = len(BATCH_IDS)\n",
    "for idx, batch_id in enumerate(BATCH_IDS):\n",
    "    print('='*60)\n",
    "    print(f\"Processing batch {idx + 1} of {number_of_batches_total}, batch: {batch_id}\")\n",
    "    batch_folder = batch_folder_prefix + str(batch_id)\n",
    "    batch_results[batch_id] = {}\n",
    "    \n",
    "    for analytics_type, analytics_function in analytics_functions.items():\n",
    "        analytics_remaining = len(analytics_functions) - list(analytics_functions.keys()).index(analytics_type)\n",
    "        print(f\"  Generating {analytics_type.replace('_', ' ')}... ({analytics_remaining}/{len(analytics_functions)} analytics for this batch LEFT)\")\n",
    "        print('-'*5)\n",
    "        batch_results[batch_id][analytics_type] = analytics_function(\n",
    "            batch_folder, max_workers=max_workers, limit_items_to_first_n=LIMIT_ITEMS_TO_FIRST_N\n",
    "        )\n",
    "        # Save progress after each item\n",
    "        progress_backup_path = os.path.join(progress_backup_folder, f'{current_date}.pkl')\n",
    "        os.makedirs(os.path.dirname(progress_backup_path), exist_ok=True)\n",
    "        with open(progress_backup_path, 'wb') as backup_file:\n",
    "            pickle.dump(batch_results, backup_file)\n",
    "\n",
    "print('='*60)\n",
    "print('DONE.')\n",
    "print('='*60)"
   ]
  },
  {
   "cell_type": "code",
   "execution_count": 20,
   "metadata": {},
   "outputs": [
    {
     "data": {
      "text/html": [
       "<div>\n",
       "<style scoped>\n",
       "    .dataframe tbody tr th:only-of-type {\n",
       "        vertical-align: middle;\n",
       "    }\n",
       "\n",
       "    .dataframe tbody tr th {\n",
       "        vertical-align: top;\n",
       "    }\n",
       "\n",
       "    .dataframe thead th {\n",
       "        text-align: right;\n",
       "    }\n",
       "</style>\n",
       "<table border=\"1\" class=\"dataframe\">\n",
       "  <thead>\n",
       "    <tr style=\"text-align: right;\">\n",
       "      <th></th>\n",
       "      <th>task_link</th>\n",
       "      <th>jsonl_link</th>\n",
       "      <th>metadata__topic</th>\n",
       "      <th>number_of_turns</th>\n",
       "      <th>duration_mins</th>\n",
       "      <th>batch_id</th>\n",
       "      <th>Unnamed: 0</th>\n",
       "      <th>colab_link</th>\n",
       "      <th>behavioural_tags</th>\n",
       "      <th>use_case_data</th>\n",
       "      <th>areas_of_focus_data</th>\n",
       "      <th>domain_data</th>\n",
       "      <th>programming_language_data</th>\n",
       "      <th>dependency_data</th>\n",
       "    </tr>\n",
       "  </thead>\n",
       "  <tbody>\n",
       "    <tr>\n",
       "      <th>0</th>\n",
       "      <td>https://colab.research.google.com/drive/1X4H8L...</td>\n",
       "      <td>https://drive.google.com/file/d/1cAGKy7u_sYzZW...</td>\n",
       "      <td>algorithms &gt; by_data_structure &gt; strings</td>\n",
       "      <td>6</td>\n",
       "      <td>119</td>\n",
       "      <td>1</td>\n",
       "      <td>NaN</td>\n",
       "      <td>https://colab.research.google.com/drive/1X4H8L...</td>\n",
       "      <td>{'behaviours': [{'top_level': 'Continuation Fo...</td>\n",
       "      <td>{'summary': 'The user is using the Assistant f...</td>\n",
       "      <td>{'top_level': 'Basic scripting', 'sub_level': ...</td>\n",
       "      <td>{'top_level': 'Python Basics &amp; Scripting', 'su...</td>\n",
       "      <td>{'language_presence': [{'language': 'Python', ...</td>\n",
       "      <td>{'dependency_presence': []}</td>\n",
       "    </tr>\n",
       "    <tr>\n",
       "      <th>1</th>\n",
       "      <td>https://colab.research.google.com/drive/1G_d7Z...</td>\n",
       "      <td>https://drive.google.com/file/d/1ql2hECkLQG3pI...</td>\n",
       "      <td>algorithms &gt; by_data_structure &gt; strings</td>\n",
       "      <td>3</td>\n",
       "      <td>60</td>\n",
       "      <td>1</td>\n",
       "      <td>NaN</td>\n",
       "      <td>https://colab.research.google.com/drive/1G_d7Z...</td>\n",
       "      <td>{'behaviours': [{'top_level': 'Continuation Fo...</td>\n",
       "      <td>{'summary': 'The user is using the Assistant f...</td>\n",
       "      <td>{'top_level': 'General coding help', 'sub_leve...</td>\n",
       "      <td>{'top_level': 'Python Basics &amp; Scripting', 'su...</td>\n",
       "      <td>{'language_presence': [{'language': 'Python', ...</td>\n",
       "      <td>{'dependency_presence': [{'dependency': 'strin...</td>\n",
       "    </tr>\n",
       "    <tr>\n",
       "      <th>2</th>\n",
       "      <td>https://colab.research.google.com/drive/1vYEPg...</td>\n",
       "      <td>https://drive.google.com/file/d/1YMkZcyiEqpqo3...</td>\n",
       "      <td>algorithms &gt; by_data_structure &gt; strings</td>\n",
       "      <td>3</td>\n",
       "      <td>50</td>\n",
       "      <td>1</td>\n",
       "      <td>NaN</td>\n",
       "      <td>https://colab.research.google.com/drive/1vYEPg...</td>\n",
       "      <td>{'behaviours': [{'top_level': 'Continuation Fo...</td>\n",
       "      <td>{'summary': 'User utilizes Assistant for codin...</td>\n",
       "      <td>{'top_level': 'Basic scripting', 'sub_level': ...</td>\n",
       "      <td>{'top_level': 'Python Basics &amp; Scripting', 'su...</td>\n",
       "      <td>{'language_presence': [{'language': 'Python', ...</td>\n",
       "      <td>{'dependency_presence': [{'dependency': 'vanil...</td>\n",
       "    </tr>\n",
       "    <tr>\n",
       "      <th>3</th>\n",
       "      <td>https://colab.research.google.com/drive/1_arMF...</td>\n",
       "      <td>https://drive.google.com/file/d/1Z2bdCHcRWyr6k...</td>\n",
       "      <td>algorithms &gt; by_topic &gt; divide_and_conquer</td>\n",
       "      <td>1</td>\n",
       "      <td>10</td>\n",
       "      <td>1</td>\n",
       "      <td>NaN</td>\n",
       "      <td>https://colab.research.google.com/drive/1_arMF...</td>\n",
       "      <td>{'behaviours': [{'top_level': 'Continuation Fo...</td>\n",
       "      <td>{'summary': 'User seeks assistance with coding...</td>\n",
       "      <td>{'top_level': 'General coding help', 'sub_leve...</td>\n",
       "      <td>{'top_level': 'Problem Solving', 'sub_level': ...</td>\n",
       "      <td>{'language_presence': [{'language': 'Python', ...</td>\n",
       "      <td>{'dependency_presence': [{'dependency': 'vanil...</td>\n",
       "    </tr>\n",
       "    <tr>\n",
       "      <th>4</th>\n",
       "      <td>https://colab.research.google.com/drive/10Ahc4...</td>\n",
       "      <td>https://drive.google.com/file/d/1n7v8gQtsbwrbB...</td>\n",
       "      <td>algorithms &gt; by_topic &gt; divide_and_conquer</td>\n",
       "      <td>1</td>\n",
       "      <td>10</td>\n",
       "      <td>1</td>\n",
       "      <td>NaN</td>\n",
       "      <td>https://colab.research.google.com/drive/10Ahc4...</td>\n",
       "      <td>{'behaviours': [{'top_level': 'Continuation Fo...</td>\n",
       "      <td>{'summary': 'User employs the Assistant to und...</td>\n",
       "      <td>{'top_level': 'Basic scripting', 'sub_level': ...</td>\n",
       "      <td>{'top_level': 'Problem Solving', 'sub_level': ...</td>\n",
       "      <td>{'language_presence': [{'language': 'Python', ...</td>\n",
       "      <td>{'dependency_presence': []}</td>\n",
       "    </tr>\n",
       "    <tr>\n",
       "      <th>...</th>\n",
       "      <td>...</td>\n",
       "      <td>...</td>\n",
       "      <td>...</td>\n",
       "      <td>...</td>\n",
       "      <td>...</td>\n",
       "      <td>...</td>\n",
       "      <td>...</td>\n",
       "      <td>...</td>\n",
       "      <td>...</td>\n",
       "      <td>...</td>\n",
       "      <td>...</td>\n",
       "      <td>...</td>\n",
       "      <td>...</td>\n",
       "      <td>...</td>\n",
       "    </tr>\n",
       "    <tr>\n",
       "      <th>3014</th>\n",
       "      <td>https://colab.research.google.com/drive/1x_-q3...</td>\n",
       "      <td>dummy</td>\n",
       "      <td>UNK</td>\n",
       "      <td>4</td>\n",
       "      <td>-1</td>\n",
       "      <td>5</td>\n",
       "      <td>1055.0</td>\n",
       "      <td>https://colab.research.google.com/drive/1x_-q3...</td>\n",
       "      <td>{'behaviours': [{'top_level': 'Continuation Fo...</td>\n",
       "      <td>{'summary': 'User employs Assistant for data v...</td>\n",
       "      <td>{'top_level': 'Basic scripting', 'sub_level': ...</td>\n",
       "      <td>{'top_level': 'Data Analysis', 'sub_level': 'D...</td>\n",
       "      <td>{'language_presence': [{'language': 'Python', ...</td>\n",
       "      <td>{'dependency_presence': [{'dependency': 'matpl...</td>\n",
       "    </tr>\n",
       "    <tr>\n",
       "      <th>3015</th>\n",
       "      <td>https://colab.research.google.com/drive/1lekWL...</td>\n",
       "      <td>dummy</td>\n",
       "      <td>UNK</td>\n",
       "      <td>2</td>\n",
       "      <td>-1</td>\n",
       "      <td>5</td>\n",
       "      <td>1056.0</td>\n",
       "      <td>https://colab.research.google.com/drive/1lekWL...</td>\n",
       "      <td>{'behaviours': [{'top_level': 'Continuation Fo...</td>\n",
       "      <td>{'summary': 'User employs Assistant to develop...</td>\n",
       "      <td>{'top_level': 'Write unit test', 'sub_level': ...</td>\n",
       "      <td>{'top_level': 'Machine Learning', 'sub_level':...</td>\n",
       "      <td>{'language_presence': [{'language': 'Python', ...</td>\n",
       "      <td>{'dependency_presence': [{'dependency': 'unitt...</td>\n",
       "    </tr>\n",
       "    <tr>\n",
       "      <th>3016</th>\n",
       "      <td>https://colab.research.google.com/drive/1QXk9F...</td>\n",
       "      <td>dummy</td>\n",
       "      <td>UNK</td>\n",
       "      <td>2</td>\n",
       "      <td>-1</td>\n",
       "      <td>5</td>\n",
       "      <td>1057.0</td>\n",
       "      <td>https://colab.research.google.com/drive/1QXk9F...</td>\n",
       "      <td>{'behaviours': [{'top_level': 'Continuation Fo...</td>\n",
       "      <td>{'summary': 'User seeks assistance in code ref...</td>\n",
       "      <td>{'top_level': 'General coding help', 'sub_leve...</td>\n",
       "      <td>{'top_level': 'Data Analysis', 'sub_level': 'P...</td>\n",
       "      <td>{'language_presence': [{'language': 'Python', ...</td>\n",
       "      <td>{'dependency_presence': [{'dependency': 'panda...</td>\n",
       "    </tr>\n",
       "    <tr>\n",
       "      <th>3017</th>\n",
       "      <td>https://colab.research.google.com/drive/1qNCDX...</td>\n",
       "      <td>dummy</td>\n",
       "      <td>UNK</td>\n",
       "      <td>3</td>\n",
       "      <td>-1</td>\n",
       "      <td>5</td>\n",
       "      <td>1058.0</td>\n",
       "      <td>https://colab.research.google.com/drive/1qNCDX...</td>\n",
       "      <td>{'behaviours': [{'top_level': 'Continuation Fo...</td>\n",
       "      <td>{'summary': 'The user is using the Assistant t...</td>\n",
       "      <td>{'top_level': 'Interview preparation', 'sub_le...</td>\n",
       "      <td>{'top_level': 'Web Development', 'sub_level': ...</td>\n",
       "      <td>{'language_presence': [{'language': 'CSS', 'pe...</td>\n",
       "      <td>{'dependency_presence': [{'dependency': 'SASS'...</td>\n",
       "    </tr>\n",
       "    <tr>\n",
       "      <th>3018</th>\n",
       "      <td>https://colab.research.google.com/drive/1PFqmH...</td>\n",
       "      <td>dummy</td>\n",
       "      <td>UNK</td>\n",
       "      <td>7</td>\n",
       "      <td>-1</td>\n",
       "      <td>5</td>\n",
       "      <td>1059.0</td>\n",
       "      <td>https://colab.research.google.com/drive/1PFqmH...</td>\n",
       "      <td>{'behaviours': [{'top_level': 'Continuation Fo...</td>\n",
       "      <td>{'summary': 'User prepares for a job interview...</td>\n",
       "      <td>{'top_level': 'Interview preparation', 'sub_le...</td>\n",
       "      <td>{'top_level': 'Data Analysis', 'sub_level': 'D...</td>\n",
       "      <td>{'language_presence': [{'language': 'Python', ...</td>\n",
       "      <td>{'dependency_presence': [{'dependency': 'Panda...</td>\n",
       "    </tr>\n",
       "  </tbody>\n",
       "</table>\n",
       "<p>3019 rows × 14 columns</p>\n",
       "</div>"
      ],
      "text/plain": [
       "                                              task_link  \\\n",
       "0     https://colab.research.google.com/drive/1X4H8L...   \n",
       "1     https://colab.research.google.com/drive/1G_d7Z...   \n",
       "2     https://colab.research.google.com/drive/1vYEPg...   \n",
       "3     https://colab.research.google.com/drive/1_arMF...   \n",
       "4     https://colab.research.google.com/drive/10Ahc4...   \n",
       "...                                                 ...   \n",
       "3014  https://colab.research.google.com/drive/1x_-q3...   \n",
       "3015  https://colab.research.google.com/drive/1lekWL...   \n",
       "3016  https://colab.research.google.com/drive/1QXk9F...   \n",
       "3017  https://colab.research.google.com/drive/1qNCDX...   \n",
       "3018  https://colab.research.google.com/drive/1PFqmH...   \n",
       "\n",
       "                                             jsonl_link  \\\n",
       "0     https://drive.google.com/file/d/1cAGKy7u_sYzZW...   \n",
       "1     https://drive.google.com/file/d/1ql2hECkLQG3pI...   \n",
       "2     https://drive.google.com/file/d/1YMkZcyiEqpqo3...   \n",
       "3     https://drive.google.com/file/d/1Z2bdCHcRWyr6k...   \n",
       "4     https://drive.google.com/file/d/1n7v8gQtsbwrbB...   \n",
       "...                                                 ...   \n",
       "3014                                              dummy   \n",
       "3015                                              dummy   \n",
       "3016                                              dummy   \n",
       "3017                                              dummy   \n",
       "3018                                              dummy   \n",
       "\n",
       "                                 metadata__topic number_of_turns  \\\n",
       "0       algorithms > by_data_structure > strings               6   \n",
       "1       algorithms > by_data_structure > strings               3   \n",
       "2       algorithms > by_data_structure > strings               3   \n",
       "3     algorithms > by_topic > divide_and_conquer               1   \n",
       "4     algorithms > by_topic > divide_and_conquer               1   \n",
       "...                                          ...             ...   \n",
       "3014                                         UNK               4   \n",
       "3015                                         UNK               2   \n",
       "3016                                         UNK               2   \n",
       "3017                                         UNK               3   \n",
       "3018                                         UNK               7   \n",
       "\n",
       "     duration_mins  batch_id  Unnamed: 0  \\\n",
       "0              119         1         NaN   \n",
       "1               60         1         NaN   \n",
       "2               50         1         NaN   \n",
       "3               10         1         NaN   \n",
       "4               10         1         NaN   \n",
       "...            ...       ...         ...   \n",
       "3014            -1         5      1055.0   \n",
       "3015            -1         5      1056.0   \n",
       "3016            -1         5      1057.0   \n",
       "3017            -1         5      1058.0   \n",
       "3018            -1         5      1059.0   \n",
       "\n",
       "                                             colab_link  \\\n",
       "0     https://colab.research.google.com/drive/1X4H8L...   \n",
       "1     https://colab.research.google.com/drive/1G_d7Z...   \n",
       "2     https://colab.research.google.com/drive/1vYEPg...   \n",
       "3     https://colab.research.google.com/drive/1_arMF...   \n",
       "4     https://colab.research.google.com/drive/10Ahc4...   \n",
       "...                                                 ...   \n",
       "3014  https://colab.research.google.com/drive/1x_-q3...   \n",
       "3015  https://colab.research.google.com/drive/1lekWL...   \n",
       "3016  https://colab.research.google.com/drive/1QXk9F...   \n",
       "3017  https://colab.research.google.com/drive/1qNCDX...   \n",
       "3018  https://colab.research.google.com/drive/1PFqmH...   \n",
       "\n",
       "                                       behavioural_tags  \\\n",
       "0     {'behaviours': [{'top_level': 'Continuation Fo...   \n",
       "1     {'behaviours': [{'top_level': 'Continuation Fo...   \n",
       "2     {'behaviours': [{'top_level': 'Continuation Fo...   \n",
       "3     {'behaviours': [{'top_level': 'Continuation Fo...   \n",
       "4     {'behaviours': [{'top_level': 'Continuation Fo...   \n",
       "...                                                 ...   \n",
       "3014  {'behaviours': [{'top_level': 'Continuation Fo...   \n",
       "3015  {'behaviours': [{'top_level': 'Continuation Fo...   \n",
       "3016  {'behaviours': [{'top_level': 'Continuation Fo...   \n",
       "3017  {'behaviours': [{'top_level': 'Continuation Fo...   \n",
       "3018  {'behaviours': [{'top_level': 'Continuation Fo...   \n",
       "\n",
       "                                          use_case_data  \\\n",
       "0     {'summary': 'The user is using the Assistant f...   \n",
       "1     {'summary': 'The user is using the Assistant f...   \n",
       "2     {'summary': 'User utilizes Assistant for codin...   \n",
       "3     {'summary': 'User seeks assistance with coding...   \n",
       "4     {'summary': 'User employs the Assistant to und...   \n",
       "...                                                 ...   \n",
       "3014  {'summary': 'User employs Assistant for data v...   \n",
       "3015  {'summary': 'User employs Assistant to develop...   \n",
       "3016  {'summary': 'User seeks assistance in code ref...   \n",
       "3017  {'summary': 'The user is using the Assistant t...   \n",
       "3018  {'summary': 'User prepares for a job interview...   \n",
       "\n",
       "                                    areas_of_focus_data  \\\n",
       "0     {'top_level': 'Basic scripting', 'sub_level': ...   \n",
       "1     {'top_level': 'General coding help', 'sub_leve...   \n",
       "2     {'top_level': 'Basic scripting', 'sub_level': ...   \n",
       "3     {'top_level': 'General coding help', 'sub_leve...   \n",
       "4     {'top_level': 'Basic scripting', 'sub_level': ...   \n",
       "...                                                 ...   \n",
       "3014  {'top_level': 'Basic scripting', 'sub_level': ...   \n",
       "3015  {'top_level': 'Write unit test', 'sub_level': ...   \n",
       "3016  {'top_level': 'General coding help', 'sub_leve...   \n",
       "3017  {'top_level': 'Interview preparation', 'sub_le...   \n",
       "3018  {'top_level': 'Interview preparation', 'sub_le...   \n",
       "\n",
       "                                            domain_data  \\\n",
       "0     {'top_level': 'Python Basics & Scripting', 'su...   \n",
       "1     {'top_level': 'Python Basics & Scripting', 'su...   \n",
       "2     {'top_level': 'Python Basics & Scripting', 'su...   \n",
       "3     {'top_level': 'Problem Solving', 'sub_level': ...   \n",
       "4     {'top_level': 'Problem Solving', 'sub_level': ...   \n",
       "...                                                 ...   \n",
       "3014  {'top_level': 'Data Analysis', 'sub_level': 'D...   \n",
       "3015  {'top_level': 'Machine Learning', 'sub_level':...   \n",
       "3016  {'top_level': 'Data Analysis', 'sub_level': 'P...   \n",
       "3017  {'top_level': 'Web Development', 'sub_level': ...   \n",
       "3018  {'top_level': 'Data Analysis', 'sub_level': 'D...   \n",
       "\n",
       "                              programming_language_data  \\\n",
       "0     {'language_presence': [{'language': 'Python', ...   \n",
       "1     {'language_presence': [{'language': 'Python', ...   \n",
       "2     {'language_presence': [{'language': 'Python', ...   \n",
       "3     {'language_presence': [{'language': 'Python', ...   \n",
       "4     {'language_presence': [{'language': 'Python', ...   \n",
       "...                                                 ...   \n",
       "3014  {'language_presence': [{'language': 'Python', ...   \n",
       "3015  {'language_presence': [{'language': 'Python', ...   \n",
       "3016  {'language_presence': [{'language': 'Python', ...   \n",
       "3017  {'language_presence': [{'language': 'CSS', 'pe...   \n",
       "3018  {'language_presence': [{'language': 'Python', ...   \n",
       "\n",
       "                                        dependency_data  \n",
       "0                           {'dependency_presence': []}  \n",
       "1     {'dependency_presence': [{'dependency': 'strin...  \n",
       "2     {'dependency_presence': [{'dependency': 'vanil...  \n",
       "3     {'dependency_presence': [{'dependency': 'vanil...  \n",
       "4                           {'dependency_presence': []}  \n",
       "...                                                 ...  \n",
       "3014  {'dependency_presence': [{'dependency': 'matpl...  \n",
       "3015  {'dependency_presence': [{'dependency': 'unitt...  \n",
       "3016  {'dependency_presence': [{'dependency': 'panda...  \n",
       "3017  {'dependency_presence': [{'dependency': 'SASS'...  \n",
       "3018  {'dependency_presence': [{'dependency': 'Panda...  \n",
       "\n",
       "[3019 rows x 14 columns]"
      ]
     },
     "execution_count": 20,
     "metadata": {},
     "output_type": "execute_result"
    }
   ],
   "source": [
    "import pandas as pd\n",
    "\n",
    "# Function to flatten the batch_results into a list of dictionaries\n",
    "def flatten_batch_results(batch_results):\n",
    "    flattened_data = []\n",
    "    for batch_id, analytics_types in batch_results.items():\n",
    "        for analytics_type, analytics_items in analytics_types.items():\n",
    "            for item in analytics_items:\n",
    "                item_data = {\n",
    "                    'batch_id': batch_id,\n",
    "                    'colab_link': item['colab_link'],\n",
    "                    analytics_type: {k: v for k, v in item.items() if k not in ['colab_link', 'id']}\n",
    "                }\n",
    "                flattened_data.append(item_data)\n",
    "    return flattened_data\n",
    "\n",
    "# Flatten the batch_results\n",
    "flattened_data = flatten_batch_results(batch_results)\n",
    "\n",
    "# Create a dataframe from the flattened data\n",
    "batch_results_df = pd.DataFrame(flattened_data)\n",
    "\n",
    "# Function to extend the delivered_df with analytics data\n",
    "def extend_delivered_df(delivered_df, batch_results_df):\n",
    "    for analytics_type in analytics_functions.keys():\n",
    "        analytics_df = batch_results_df[['batch_id', 'colab_link', analytics_type]].dropna()\n",
    "        # Merge on 'colab_link' and exclude 'batch_id' and 'colab_link' from the right dataframe\n",
    "        merged_df = delivered_df.merge(analytics_df, left_on='task_link', right_on='colab_link', how='left', suffixes=('', '_right'))\n",
    "        # Drop the '_right' columns after merging\n",
    "        for col in ['batch_id_right', 'colab_link_right']:\n",
    "            if col in merged_df.columns:\n",
    "                merged_df.drop(columns=[col], inplace=True)\n",
    "        delivered_df = merged_df\n",
    "    return delivered_df\n",
    "\n",
    "# Extend the delivered_df with the batch_results_df\n",
    "extended_delivered_df = extend_delivered_df(delivered_df, batch_results_df)\n",
    "\n",
    "# Filter the extended dataframe to show only rows with non-null analytics data\n",
    "filtered_extended_delivered_df = extended_delivered_df[\n",
    "    extended_delivered_df.filter(like='_data').notnull().any(axis=1)\n",
    "]\n",
    "\n",
    "filtered_extended_delivered_df\n"
   ]
  },
  {
   "cell_type": "code",
   "execution_count": 21,
   "metadata": {},
   "outputs": [
    {
     "data": {
      "text/plain": [
       "Index(['task_link', 'jsonl_link', 'metadata__topic', 'number_of_turns',\n",
       "       'duration_mins', 'batch_id', 'Unnamed: 0', 'colab_link',\n",
       "       'behavioural_tags', 'use_case_data', 'areas_of_focus_data',\n",
       "       'domain_data', 'programming_language_data', 'dependency_data'],\n",
       "      dtype='object')"
      ]
     },
     "execution_count": 21,
     "metadata": {},
     "output_type": "execute_result"
    }
   ],
   "source": [
    "filtered_extended_delivered_df.columns"
   ]
  },
  {
   "cell_type": "code",
   "execution_count": 22,
   "metadata": {},
   "outputs": [],
   "source": [
    "\n",
    "def extract_summary(data):\n",
    "    return data.get('summary', '') if pd.notnull(data) else ''\n",
    "\n",
    "\n",
    "expanded_enriched_df = filtered_extended_delivered_df.copy()\n",
    "expanded_enriched_df.drop(columns=['colab_link', 'jsonl_link'], inplace=True)\n",
    "\n",
    "\n",
    "\n",
    "def expand_language_data(row):\n",
    "    language_presence = row['programming_language_data'].get('language_presence', [])\n",
    "    task_link = row['task_link']\n",
    "    return [{'task_link': task_link, 'language': lang['language'].lower(), 'percentage': lang['percentage']} for lang in language_presence]\n",
    "\n",
    "programming_language_data = expanded_enriched_df.apply(expand_language_data, axis=1).explode()\n",
    "programming_language_data = pd.DataFrame(programming_language_data[~programming_language_data.isna()].tolist())\n",
    "\n",
    "\n",
    "expanded_enriched_df.drop(columns=['programming_language_data'], inplace=True)\n",
    "\n",
    "def expand_dependency_data(row):\n",
    "    dependency_presence = row['dependency_data'].get('dependency_presence', [])\n",
    "    task_link = row['task_link']\n",
    "    return [{'task_link': task_link, 'dependency': dep['dependency'].lower(), 'percentage': dep['percentage']} for dep in dependency_presence]\n",
    "\n",
    "dependency_data = expanded_enriched_df.apply(expand_dependency_data, axis=1).explode()\n",
    "dependency_data = pd.DataFrame(dependency_data[~dependency_data.isna()].tolist())\n",
    "\n",
    "\n",
    "expanded_enriched_df.drop(columns=['dependency_data'], inplace=True)\n",
    "\n",
    "\n",
    "\n",
    "expanded_enriched_df['use_case__summary'] = expanded_enriched_df['use_case_data'].map(extract_summary)\n",
    "\n",
    "def expand_tags(row):\n",
    "    tags = row['use_case_data'].get('tags', [])\n",
    "    task_link = row['task_link']\n",
    "    return [{'task_link': task_link, 'use_case': tag.lower()} for tag in tags]\n",
    "\n",
    "use_case_tags_data = expanded_enriched_df.apply(expand_tags, axis=1).explode()\n",
    "use_case_tags_data = pd.DataFrame(use_case_tags_data[~use_case_tags_data.isna()].tolist())\n",
    "\n",
    "expanded_enriched_df.drop(columns=['use_case_data'], inplace=True)\n",
    "\n",
    "def extract_area_of_focus(data):\n",
    "    if pd.notnull(data):\n",
    "        return {\n",
    "            'area_of_focus__top_level': data.get('top_level', '').lower(),\n",
    "            'area_of_focus__sub_level': data.get('sub_level', '').lower(),\n",
    "            'area_of_focus__detailed_level': data.get('detailed_level', '').lower(),\n",
    "            #'area_of_focus_custom_category': data.get('new_filled_category', False)\n",
    "        }\n",
    "    else:\n",
    "        return {\n",
    "            'area_of_focus__top_level': '',\n",
    "            'area_of_focus__sub_level': '',\n",
    "            'area_of_focus__detailed_level': '',\n",
    "            #'area_of_focus_custom_category': False\n",
    "        }\n",
    "\n",
    "areas_of_focus_columns = expanded_enriched_df['areas_of_focus_data'].map(extract_area_of_focus).apply(pd.Series)\n",
    "expanded_enriched_df = pd.concat([expanded_enriched_df, areas_of_focus_columns], axis=1)\n",
    "expanded_enriched_df.drop(columns=['areas_of_focus_data'], inplace=True)\n",
    "\n",
    "def expand_domain_data(domain_data):\n",
    "    if pd.notnull(domain_data):\n",
    "        return {\n",
    "            'domain__top_level': domain_data.get('top_level', '').lower(),\n",
    "            'domain__sub_level': domain_data.get('sub_level', '').lower(),\n",
    "            'domain__detailed_level': domain_data.get('detailed_level', '').lower()\n",
    "        }\n",
    "    else:\n",
    "        return {\n",
    "            'domain__top_level': '',\n",
    "            'domain__sub_level': '',\n",
    "            'domain__detailed_level': ''\n",
    "        }\n",
    "\n",
    "domain_data_columns = expanded_enriched_df['domain_data'].map(expand_domain_data).apply(pd.Series)\n",
    "expanded_enriched_df = pd.concat([expanded_enriched_df, domain_data_columns], axis=1)\n",
    "expanded_enriched_df.drop(columns=['domain_data'], inplace=True)\n",
    "\n",
    "\n",
    "def extract_behavioural_tags(row):\n",
    "    data = row['behavioural_tags']\n",
    "    if pd.notnull(data) and 'behaviours' in data:\n",
    "        tags = data['behaviours']\n",
    "        return [\n",
    "            {\n",
    "                'task_link': row['task_link'],\n",
    "                'top_level': tag.get('top_level', '').lower(),\n",
    "                'sub_level': tag.get('sub_level', '').lower(),\n",
    "                'custom_category': tag.get('new_filled_category', False)\n",
    "            }\n",
    "            for tag in tags\n",
    "        ]\n",
    "    return []\n",
    "\n",
    "behavioural_tags_data = expanded_enriched_df.apply(extract_behavioural_tags, axis=1).explode()\n",
    "behavioural_tags_data = pd.DataFrame(behavioural_tags_data[~behavioural_tags_data.isna()].tolist())\n",
    "\n",
    "\n",
    "expanded_enriched_df.drop(columns=['behavioural_tags'], inplace=True)\n",
    "#cols = list(expanded_enriched_df.columns)\n",
    "#cols.append(cols.pop(cols.index('area_of_focus_custom_category')))\n",
    "#expanded_enriched_df = expanded_enriched_df[cols]\n",
    "\n",
    "\n",
    "\n",
    "\n",
    "import os\n",
    "\n",
    "def save_to_csv(df, dir_name, suffix):\n",
    "    filename = f'{base_filename}-{suffix}.csv'\n",
    "    path = os.path.join(dir_name, filename)\n",
    "    df.to_csv(path)\n",
    "\n",
    "base_filename = f'batches{\".\".join(map(str, BATCH_IDS))}_'\n",
    "base_filename += f'{\"full\" if LIMIT_ITEMS_TO_FIRST_N is None else str(LIMIT_ITEMS_TO_FIRST_N) + \"items\"}'\n",
    "from datetime import datetime\n",
    "timestamp = datetime.now().strftime('%Y-%m-%d_%H-%M-%S')\n",
    "bundle_dir = f'{DATA_DIR}/{base_filename}_{timestamp}'\n",
    "os.makedirs(bundle_dir, exist_ok=True)\n",
    "\n",
    "save_to_csv(expanded_enriched_df, bundle_dir, 'expanded_enriched_df')\n",
    "save_to_csv(use_case_tags_data, bundle_dir, 'use_case_tags')\n",
    "save_to_csv(behavioural_tags_data, bundle_dir, 'behavioural_tags')\n",
    "save_to_csv(programming_language_data, bundle_dir, 'programming_language_tags')\n",
    "save_to_csv(dependency_data, bundle_dir, 'dependency_tags')"
   ]
  },
  {
   "cell_type": "code",
   "execution_count": 23,
   "metadata": {},
   "outputs": [],
   "source": [
    "\n",
    "import gspread\n",
    "from gspread_dataframe import set_with_dataframe\n",
    "\n",
    "from utils import service_account_path\n",
    "\n",
    "PROD_OUTPUT_SHEET_URL = \"https://docs.google.com/spreadsheets/d/1wUWll720oz6Rnc4YKHeWFWbZbTMWbda2rfVh8jPLU2g\"\n",
    "\n",
    "def set_sheet_with_df(sheet_url, sheet_name, df):\n",
    "    gc = gspread.service_account(filename=service_account_path)\n",
    "    sh = gc.open_by_url(sheet_url)\n",
    "    try:\n",
    "        worksheet = sh.worksheet(sheet_name)\n",
    "    except gspread.WorksheetNotFound:\n",
    "        worksheet = sh.add_worksheet(title=sheet_name, rows=1, cols=1)\n",
    "\n",
    "    set_with_dataframe(worksheet, df, resize=True)"
   ]
  },
  {
   "cell_type": "code",
   "execution_count": 36,
   "metadata": {},
   "outputs": [
    {
     "name": "stdout",
     "output_type": "stream",
     "text": [
      "Updating sheet: Expanded Enriched Data\n",
      "Sheet Expanded Enriched Data updated successfully.\n",
      "------------------------------------------------------------\n"
     ]
    },
    {
     "data": {
      "text/plain": [
       "7.9092631340026855"
      ]
     },
     "execution_count": 36,
     "metadata": {},
     "output_type": "execute_result"
    }
   ],
   "source": [
    "sheet_names_and_dataframes = [\n",
    "    ('Expanded Enriched Data', expanded_enriched_df.drop(columns=['Unnamed: 0'])),\n",
    "    ('Behavioural Tags', behavioural_tags_data),\n",
    "    ('Use Case Tags', use_case_tags_data),\n",
    "    ('Programming Language Tags', programming_language_data),\n",
    "    ('Dependency Tags', dependency_data)\n",
    "]\n",
    "\n",
    "import time\n",
    "\n",
    "start_time = time.time()\n",
    "for sheet_name, dataframe in sheet_names_and_dataframes:\n",
    "    print(f\"Updating sheet: {sheet_name}\")\n",
    "    set_sheet_with_df(PROD_OUTPUT_SHEET_URL, sheet_name, dataframe)\n",
    "    print(f\"Sheet {sheet_name} updated successfully.\")\n",
    "    print('-'*60)\n",
    "\n",
    "time.time() - start_time"
   ]
  },
  {
   "cell_type": "code",
   "execution_count": 33,
   "metadata": {},
   "outputs": [
    {
     "data": {
      "text/html": [
       "<div>\n",
       "<style scoped>\n",
       "    .dataframe tbody tr th:only-of-type {\n",
       "        vertical-align: middle;\n",
       "    }\n",
       "\n",
       "    .dataframe tbody tr th {\n",
       "        vertical-align: top;\n",
       "    }\n",
       "\n",
       "    .dataframe thead th {\n",
       "        text-align: right;\n",
       "    }\n",
       "</style>\n",
       "<table border=\"1\" class=\"dataframe\">\n",
       "  <thead>\n",
       "    <tr style=\"text-align: right;\">\n",
       "      <th></th>\n",
       "      <th>task_link</th>\n",
       "      <th>metadata__topic</th>\n",
       "      <th>number_of_turns</th>\n",
       "      <th>duration_mins</th>\n",
       "      <th>batch_id</th>\n",
       "      <th>Unnamed: 0</th>\n",
       "      <th>use_case__summary</th>\n",
       "      <th>area_of_focus__top_level</th>\n",
       "      <th>area_of_focus__sub_level</th>\n",
       "      <th>area_of_focus__detailed_level</th>\n",
       "      <th>domain__top_level</th>\n",
       "      <th>domain__sub_level</th>\n",
       "      <th>domain__detailed_level</th>\n",
       "    </tr>\n",
       "  </thead>\n",
       "  <tbody>\n",
       "    <tr>\n",
       "      <th>0</th>\n",
       "      <td>https://colab.research.google.com/drive/1X4H8L...</td>\n",
       "      <td>algorithms &gt; by_data_structure &gt; strings</td>\n",
       "      <td>6</td>\n",
       "      <td>119</td>\n",
       "      <td>1</td>\n",
       "      <td>NaN</td>\n",
       "      <td>The user is using the Assistant for coding ass...</td>\n",
       "      <td>basic scripting</td>\n",
       "      <td>write simple code in python</td>\n",
       "      <td>string manipulation and list comprehensions</td>\n",
       "      <td>python basics &amp; scripting</td>\n",
       "      <td>python programming</td>\n",
       "      <td>string manipulation and list comprehensions</td>\n",
       "    </tr>\n",
       "    <tr>\n",
       "      <th>1</th>\n",
       "      <td>https://colab.research.google.com/drive/1G_d7Z...</td>\n",
       "      <td>algorithms &gt; by_data_structure &gt; strings</td>\n",
       "      <td>3</td>\n",
       "      <td>60</td>\n",
       "      <td>1</td>\n",
       "      <td>NaN</td>\n",
       "      <td>The user is using the Assistant for coding ass...</td>\n",
       "      <td>general coding help</td>\n",
       "      <td>explain complex code snippets</td>\n",
       "      <td>modify function logic</td>\n",
       "      <td>python basics &amp; scripting</td>\n",
       "      <td>string manipulation</td>\n",
       "      <td>string reversal with special character handling</td>\n",
       "    </tr>\n",
       "    <tr>\n",
       "      <th>2</th>\n",
       "      <td>https://colab.research.google.com/drive/1vYEPg...</td>\n",
       "      <td>algorithms &gt; by_data_structure &gt; strings</td>\n",
       "      <td>3</td>\n",
       "      <td>50</td>\n",
       "      <td>1</td>\n",
       "      <td>NaN</td>\n",
       "      <td>User utilizes Assistant for coding assistance,...</td>\n",
       "      <td>basic scripting</td>\n",
       "      <td>write simple code in python</td>\n",
       "      <td>string manipulation with conditions</td>\n",
       "      <td>python basics &amp; scripting</td>\n",
       "      <td>string manipulation</td>\n",
       "      <td>list comprehension and string joining</td>\n",
       "    </tr>\n",
       "    <tr>\n",
       "      <th>3</th>\n",
       "      <td>https://colab.research.google.com/drive/1_arMF...</td>\n",
       "      <td>algorithms &gt; by_topic &gt; divide_and_conquer</td>\n",
       "      <td>1</td>\n",
       "      <td>10</td>\n",
       "      <td>1</td>\n",
       "      <td>NaN</td>\n",
       "      <td>User seeks assistance with coding, specificall...</td>\n",
       "      <td>general coding help</td>\n",
       "      <td>explain complex code snippets</td>\n",
       "      <td>merge sort implementation</td>\n",
       "      <td>problem solving</td>\n",
       "      <td>python basics &amp; scripting</td>\n",
       "      <td>algorithm implementation</td>\n",
       "    </tr>\n",
       "    <tr>\n",
       "      <th>4</th>\n",
       "      <td>https://colab.research.google.com/drive/10Ahc4...</td>\n",
       "      <td>algorithms &gt; by_topic &gt; divide_and_conquer</td>\n",
       "      <td>1</td>\n",
       "      <td>10</td>\n",
       "      <td>1</td>\n",
       "      <td>NaN</td>\n",
       "      <td>User employs the Assistant to understand and i...</td>\n",
       "      <td>basic scripting</td>\n",
       "      <td>write simple code in python</td>\n",
       "      <td>exponentiation by squaring</td>\n",
       "      <td>problem solving</td>\n",
       "      <td>algorithms</td>\n",
       "      <td>divide and conquer</td>\n",
       "    </tr>\n",
       "    <tr>\n",
       "      <th>5</th>\n",
       "      <td>https://colab.research.google.com/drive/112imm...</td>\n",
       "      <td>python_language_and_scripting &gt; generators_and...</td>\n",
       "      <td>2</td>\n",
       "      <td>17</td>\n",
       "      <td>1</td>\n",
       "      <td>NaN</td>\n",
       "      <td>The user is utilizing the Assistant to improve...</td>\n",
       "      <td>basic scripting</td>\n",
       "      <td>write simple code in python</td>\n",
       "      <td>implement generator function</td>\n",
       "      <td>python basics &amp; scripting</td>\n",
       "      <td>file handling</td>\n",
       "      <td>generators and memory management</td>\n",
       "    </tr>\n",
       "    <tr>\n",
       "      <th>6</th>\n",
       "      <td>https://colab.research.google.com/drive/126FIJ...</td>\n",
       "      <td>ml_principles</td>\n",
       "      <td>1</td>\n",
       "      <td>11</td>\n",
       "      <td>1</td>\n",
       "      <td>NaN</td>\n",
       "      <td>The user is using the Assistant for educationa...</td>\n",
       "      <td>basic scripting</td>\n",
       "      <td>ml code snippets</td>\n",
       "      <td>cross-validation example</td>\n",
       "      <td>machine learning</td>\n",
       "      <td>model evaluation</td>\n",
       "      <td>cross-validation with scikit-learn</td>\n",
       "    </tr>\n",
       "    <tr>\n",
       "      <th>7</th>\n",
       "      <td>https://colab.research.google.com/drive/16Dh4I...</td>\n",
       "      <td>algorithms &gt; by_data_structure &gt; trees</td>\n",
       "      <td>1</td>\n",
       "      <td>10</td>\n",
       "      <td>1</td>\n",
       "      <td>NaN</td>\n",
       "      <td>User seeks assistance for programming related ...</td>\n",
       "      <td>basic scripting</td>\n",
       "      <td>write simple code in python</td>\n",
       "      <td>binary tree depth function</td>\n",
       "      <td>problem solving</td>\n",
       "      <td>python basics &amp; scripting</td>\n",
       "      <td>algorithms and data structures</td>\n",
       "    </tr>\n",
       "    <tr>\n",
       "      <th>8</th>\n",
       "      <td>https://colab.research.google.com/drive/176efu...</td>\n",
       "      <td>python_language_and_scripting &gt; scripting_and_...</td>\n",
       "      <td>1</td>\n",
       "      <td>10</td>\n",
       "      <td>1</td>\n",
       "      <td>NaN</td>\n",
       "      <td>User employs Assistant for coding assistance i...</td>\n",
       "      <td>basic scripting</td>\n",
       "      <td>write simple code in python</td>\n",
       "      <td>download images using requests</td>\n",
       "      <td>python basics &amp; scripting</td>\n",
       "      <td>scripting</td>\n",
       "      <td>web scraping</td>\n",
       "    </tr>\n",
       "    <tr>\n",
       "      <th>9</th>\n",
       "      <td>https://colab.research.google.com/drive/17jate...</td>\n",
       "      <td>algorithms &gt; by_data_structure &gt; strings</td>\n",
       "      <td>2</td>\n",
       "      <td>20</td>\n",
       "      <td>1</td>\n",
       "      <td>NaN</td>\n",
       "      <td>The user is using the Assistant to learn progr...</td>\n",
       "      <td>basic scripting</td>\n",
       "      <td>write simple code in python</td>\n",
       "      <td>string operations</td>\n",
       "      <td>python basics &amp; scripting</td>\n",
       "      <td>string manipulation</td>\n",
       "      <td>character counting and index finding</td>\n",
       "    </tr>\n",
       "    <tr>\n",
       "      <th>10</th>\n",
       "      <td>https://colab.research.google.com/drive/1890qa...</td>\n",
       "      <td>algorithms &gt; by_data_structure &gt; strings</td>\n",
       "      <td>2</td>\n",
       "      <td>25</td>\n",
       "      <td>1</td>\n",
       "      <td>NaN</td>\n",
       "      <td>User seeks coding assistance for anagram valid...</td>\n",
       "      <td>basic scripting</td>\n",
       "      <td>write simple code in python</td>\n",
       "      <td>anagram check function</td>\n",
       "      <td>python basics &amp; scripting</td>\n",
       "      <td>string manipulation</td>\n",
       "      <td>anagram detection</td>\n",
       "    </tr>\n",
       "    <tr>\n",
       "      <th>11</th>\n",
       "      <td>https://colab.research.google.com/drive/18bKue...</td>\n",
       "      <td>algorithms &gt; by_topic &gt; combinatorics</td>\n",
       "      <td>1</td>\n",
       "      <td>12</td>\n",
       "      <td>1</td>\n",
       "      <td>NaN</td>\n",
       "      <td>User seeks coding assistance for algorithmic p...</td>\n",
       "      <td>basic scripting</td>\n",
       "      <td>write simple code in python</td>\n",
       "      <td>fibonacci sequence algorithm</td>\n",
       "      <td>python basics &amp; scripting</td>\n",
       "      <td>algorithms</td>\n",
       "      <td>fibonacci sequence</td>\n",
       "    </tr>\n",
       "    <tr>\n",
       "      <th>12</th>\n",
       "      <td>https://colab.research.google.com/drive/18JdS3...</td>\n",
       "      <td>algorithms &gt; by_data_structure &gt; stacks</td>\n",
       "      <td>1</td>\n",
       "      <td>10</td>\n",
       "      <td>1</td>\n",
       "      <td>NaN</td>\n",
       "      <td>User employs Assistant for coding assistance t...</td>\n",
       "      <td>general coding help</td>\n",
       "      <td>refactor code</td>\n",
       "      <td>enforce type checking</td>\n",
       "      <td>python basics &amp; scripting</td>\n",
       "      <td>object-oriented programming</td>\n",
       "      <td>type checking in methods</td>\n",
       "    </tr>\n",
       "    <tr>\n",
       "      <th>13</th>\n",
       "      <td>https://colab.research.google.com/drive/19f2Pc...</td>\n",
       "      <td>algorithms &gt; by_data_structure &gt; graphs</td>\n",
       "      <td>1</td>\n",
       "      <td>25</td>\n",
       "      <td>1</td>\n",
       "      <td>NaN</td>\n",
       "      <td>User seeks assistance with algorithm implement...</td>\n",
       "      <td>basic scripting</td>\n",
       "      <td>write simple code in python</td>\n",
       "      <td>dijkstra's algorithm example</td>\n",
       "      <td>problem solving</td>\n",
       "      <td>algorithms</td>\n",
       "      <td>graph algorithms</td>\n",
       "    </tr>\n",
       "    <tr>\n",
       "      <th>14</th>\n",
       "      <td>https://colab.research.google.com/drive/1Awxj_...</td>\n",
       "      <td>algorithms &gt; by_data_structure &gt; trees</td>\n",
       "      <td>1</td>\n",
       "      <td>30</td>\n",
       "      <td>1</td>\n",
       "      <td>NaN</td>\n",
       "      <td>User seeks assistance for coding related to bi...</td>\n",
       "      <td>basic scripting</td>\n",
       "      <td>write simple code in python</td>\n",
       "      <td>tree traversal algorithm</td>\n",
       "      <td>python basics &amp; scripting</td>\n",
       "      <td>algorithms</td>\n",
       "      <td>tree traversal</td>\n",
       "    </tr>\n",
       "    <tr>\n",
       "      <th>15</th>\n",
       "      <td>https://colab.research.google.com/drive/1AY8OR...</td>\n",
       "      <td>python_language_and_scripting &gt; packaging</td>\n",
       "      <td>1</td>\n",
       "      <td>5</td>\n",
       "      <td>1</td>\n",
       "      <td>NaN</td>\n",
       "      <td>User uses Assistant to refine a Python package...</td>\n",
       "      <td>general coding help</td>\n",
       "      <td>refactor code</td>\n",
       "      <td>modify package namespace</td>\n",
       "      <td>python basics &amp; scripting</td>\n",
       "      <td>module management</td>\n",
       "      <td>package initialization</td>\n",
       "    </tr>\n",
       "    <tr>\n",
       "      <th>16</th>\n",
       "      <td>https://colab.research.google.com/drive/1bOkl5...</td>\n",
       "      <td>algorithms &gt; by_topic &gt; dynamic_programming</td>\n",
       "      <td>1</td>\n",
       "      <td>10</td>\n",
       "      <td>1</td>\n",
       "      <td>NaN</td>\n",
       "      <td>The user is using the Assistant to learn progr...</td>\n",
       "      <td>basic scripting</td>\n",
       "      <td>write simple code in python</td>\n",
       "      <td>dynamic programming implementation</td>\n",
       "      <td>problem solving</td>\n",
       "      <td>python basics &amp; scripting</td>\n",
       "      <td>dynamic programming</td>\n",
       "    </tr>\n",
       "    <tr>\n",
       "      <th>17</th>\n",
       "      <td>https://colab.research.google.com/drive/1bwFNi...</td>\n",
       "      <td>python_language_and_scripting &gt; python_2_vs_3</td>\n",
       "      <td>2</td>\n",
       "      <td>10</td>\n",
       "      <td>1</td>\n",
       "      <td>NaN</td>\n",
       "      <td>The user is using the Assistant for coding ass...</td>\n",
       "      <td>basic scripting</td>\n",
       "      <td>write simple code in python</td>\n",
       "      <td>python 2 to 3 migration</td>\n",
       "      <td>python basics &amp; scripting</td>\n",
       "      <td>python 3 syntax</td>\n",
       "      <td>exception handling and string formatting</td>\n",
       "    </tr>\n",
       "    <tr>\n",
       "      <th>18</th>\n",
       "      <td>https://colab.research.google.com/drive/1CghGg...</td>\n",
       "      <td>python_language_and_scripting &gt; basic_python_s...</td>\n",
       "      <td>1</td>\n",
       "      <td>10</td>\n",
       "      <td>1</td>\n",
       "      <td>NaN</td>\n",
       "      <td>User seeks assistance with Python programming ...</td>\n",
       "      <td>basic scripting</td>\n",
       "      <td>write simple code in python</td>\n",
       "      <td>dictionary usage example</td>\n",
       "      <td>python basics &amp; scripting</td>\n",
       "      <td>python data structures</td>\n",
       "      <td>dictionaries and access methods</td>\n",
       "    </tr>\n",
       "    <tr>\n",
       "      <th>19</th>\n",
       "      <td>https://colab.research.google.com/drive/1cpJ9c...</td>\n",
       "      <td>algorithms &gt; by_data_structure &gt; strings</td>\n",
       "      <td>2</td>\n",
       "      <td>20</td>\n",
       "      <td>1</td>\n",
       "      <td>NaN</td>\n",
       "      <td>User employs Assistant to refine code for text...</td>\n",
       "      <td>basic scripting</td>\n",
       "      <td>write simple code in python</td>\n",
       "      <td>string manipulation</td>\n",
       "      <td>python basics &amp; scripting</td>\n",
       "      <td>string manipulation</td>\n",
       "      <td>regular expressions</td>\n",
       "    </tr>\n",
       "    <tr>\n",
       "      <th>20</th>\n",
       "      <td>https://colab.research.google.com/drive/1d5mxl...</td>\n",
       "      <td>algorithms &gt; by_topic &gt; game_theory</td>\n",
       "      <td>1</td>\n",
       "      <td>11</td>\n",
       "      <td>1</td>\n",
       "      <td>NaN</td>\n",
       "      <td>User seeks assistance for academic or research...</td>\n",
       "      <td>basic scripting</td>\n",
       "      <td>write simple code in python</td>\n",
       "      <td>cooperative game theory function</td>\n",
       "      <td>python basics &amp; scripting</td>\n",
       "      <td>python scripting</td>\n",
       "      <td>game theory algorithm implementation</td>\n",
       "    </tr>\n",
       "    <tr>\n",
       "      <th>21</th>\n",
       "      <td>https://colab.research.google.com/drive/1dtjaz...</td>\n",
       "      <td>algorithms &gt; by_data_structure &gt; trees</td>\n",
       "      <td>1</td>\n",
       "      <td>2</td>\n",
       "      <td>1</td>\n",
       "      <td>NaN</td>\n",
       "      <td>User seeks assistance for modifying code for e...</td>\n",
       "      <td>general coding help</td>\n",
       "      <td>explain complex code snippets</td>\n",
       "      <td>add print statement to binary tree traversal</td>\n",
       "      <td>problem solving</td>\n",
       "      <td>algorithms</td>\n",
       "      <td>binary tree traversal</td>\n",
       "    </tr>\n",
       "    <tr>\n",
       "      <th>22</th>\n",
       "      <td>https://colab.research.google.com/drive/1exOkj...</td>\n",
       "      <td>unit_testing_methodology &gt; code_coverage</td>\n",
       "      <td>1</td>\n",
       "      <td>20</td>\n",
       "      <td>1</td>\n",
       "      <td>NaN</td>\n",
       "      <td>User seeks assistance for measuring code cover...</td>\n",
       "      <td>write unit test</td>\n",
       "      <td>cover different languages</td>\n",
       "      <td>python code coverage</td>\n",
       "      <td>testing</td>\n",
       "      <td>code coverage</td>\n",
       "      <td>python code coverage with coverage.py</td>\n",
       "    </tr>\n",
       "    <tr>\n",
       "      <th>23</th>\n",
       "      <td>https://colab.research.google.com/drive/1fdFjW...</td>\n",
       "      <td>algorithms &gt; by_topic &gt; game_theory</td>\n",
       "      <td>1</td>\n",
       "      <td>15</td>\n",
       "      <td>1</td>\n",
       "      <td>NaN</td>\n",
       "      <td>User seeks assistance for game development.</td>\n",
       "      <td>basic scripting</td>\n",
       "      <td>write simple code in python</td>\n",
       "      <td>minimax algorithm implementation</td>\n",
       "      <td>problem solving</td>\n",
       "      <td>python basics &amp; scripting</td>\n",
       "      <td>implementing algorithms</td>\n",
       "    </tr>\n",
       "    <tr>\n",
       "      <th>24</th>\n",
       "      <td>https://colab.research.google.com/drive/1FK4tZ...</td>\n",
       "      <td>algorithms &gt; by_data_structure &gt; heaps</td>\n",
       "      <td>1</td>\n",
       "      <td>20</td>\n",
       "      <td>1</td>\n",
       "      <td>NaN</td>\n",
       "      <td>The user is using the Assistant to modify code...</td>\n",
       "      <td>basic scripting</td>\n",
       "      <td>write simple code in python</td>\n",
       "      <td>heap data structure manipulation</td>\n",
       "      <td>problem solving</td>\n",
       "      <td>python basics &amp; scripting</td>\n",
       "      <td>data structures</td>\n",
       "    </tr>\n",
       "    <tr>\n",
       "      <th>25</th>\n",
       "      <td>https://colab.research.google.com/drive/1fktzA...</td>\n",
       "      <td>unit_testing_methodology &gt; security_testing</td>\n",
       "      <td>1</td>\n",
       "      <td>10</td>\n",
       "      <td>1</td>\n",
       "      <td>NaN</td>\n",
       "      <td>The user is enhancing security for an authenti...</td>\n",
       "      <td>write unit test</td>\n",
       "      <td>cover different languages</td>\n",
       "      <td>python security test</td>\n",
       "      <td>security</td>\n",
       "      <td>application security</td>\n",
       "      <td>user authentication security</td>\n",
       "    </tr>\n",
       "    <tr>\n",
       "      <th>26</th>\n",
       "      <td>https://colab.research.google.com/drive/1flx6g...</td>\n",
       "      <td>algorithms &gt; by_topic &gt; backtracking</td>\n",
       "      <td>1</td>\n",
       "      <td>15</td>\n",
       "      <td>1</td>\n",
       "      <td>NaN</td>\n",
       "      <td>User seeks assistance for programming a comple...</td>\n",
       "      <td>interview preparation</td>\n",
       "      <td>write optimal code</td>\n",
       "      <td>algorithmic coding challenge</td>\n",
       "      <td>problem solving</td>\n",
       "      <td>algorithms</td>\n",
       "      <td>backtracking</td>\n",
       "    </tr>\n",
       "    <tr>\n",
       "      <th>27</th>\n",
       "      <td>https://colab.research.google.com/drive/1fnQWy...</td>\n",
       "      <td>algorithms &gt; by_data_structure &gt; strings</td>\n",
       "      <td>2</td>\n",
       "      <td>20</td>\n",
       "      <td>1</td>\n",
       "      <td>NaN</td>\n",
       "      <td>User seeks programming assistance for string m...</td>\n",
       "      <td>basic scripting</td>\n",
       "      <td>write simple code in python</td>\n",
       "      <td>string manipulation using slicing</td>\n",
       "      <td>python basics &amp; scripting</td>\n",
       "      <td>string manipulation</td>\n",
       "      <td>string slicing</td>\n",
       "    </tr>\n",
       "    <tr>\n",
       "      <th>28</th>\n",
       "      <td>https://colab.research.google.com/drive/1g7T4_...</td>\n",
       "      <td>unit_testing_methodology &gt; integration_testing</td>\n",
       "      <td>1</td>\n",
       "      <td>30</td>\n",
       "      <td>1</td>\n",
       "      <td>NaN</td>\n",
       "      <td>The user is utilizing the Assistant to improve...</td>\n",
       "      <td>write unit test</td>\n",
       "      <td>explain code with comments</td>\n",
       "      <td>add teardown to tests</td>\n",
       "      <td>testing</td>\n",
       "      <td>integration testing</td>\n",
       "      <td>test setup and teardown</td>\n",
       "    </tr>\n",
       "    <tr>\n",
       "      <th>29</th>\n",
       "      <td>https://colab.research.google.com/drive/1GCcxI...</td>\n",
       "      <td>python_language_and_scripting &gt; memory_managem...</td>\n",
       "      <td>1</td>\n",
       "      <td>15</td>\n",
       "      <td>1</td>\n",
       "      <td>NaN</td>\n",
       "      <td>The user is using the Assistant to learn and a...</td>\n",
       "      <td>general coding help</td>\n",
       "      <td>explain complex code snippets</td>\n",
       "      <td>memory profiling in python</td>\n",
       "      <td>python basics &amp; scripting</td>\n",
       "      <td>performance optimization</td>\n",
       "      <td>memory profiling</td>\n",
       "    </tr>\n",
       "  </tbody>\n",
       "</table>\n",
       "</div>"
      ],
      "text/plain": [
       "                                            task_link  \\\n",
       "0   https://colab.research.google.com/drive/1X4H8L...   \n",
       "1   https://colab.research.google.com/drive/1G_d7Z...   \n",
       "2   https://colab.research.google.com/drive/1vYEPg...   \n",
       "3   https://colab.research.google.com/drive/1_arMF...   \n",
       "4   https://colab.research.google.com/drive/10Ahc4...   \n",
       "5   https://colab.research.google.com/drive/112imm...   \n",
       "6   https://colab.research.google.com/drive/126FIJ...   \n",
       "7   https://colab.research.google.com/drive/16Dh4I...   \n",
       "8   https://colab.research.google.com/drive/176efu...   \n",
       "9   https://colab.research.google.com/drive/17jate...   \n",
       "10  https://colab.research.google.com/drive/1890qa...   \n",
       "11  https://colab.research.google.com/drive/18bKue...   \n",
       "12  https://colab.research.google.com/drive/18JdS3...   \n",
       "13  https://colab.research.google.com/drive/19f2Pc...   \n",
       "14  https://colab.research.google.com/drive/1Awxj_...   \n",
       "15  https://colab.research.google.com/drive/1AY8OR...   \n",
       "16  https://colab.research.google.com/drive/1bOkl5...   \n",
       "17  https://colab.research.google.com/drive/1bwFNi...   \n",
       "18  https://colab.research.google.com/drive/1CghGg...   \n",
       "19  https://colab.research.google.com/drive/1cpJ9c...   \n",
       "20  https://colab.research.google.com/drive/1d5mxl...   \n",
       "21  https://colab.research.google.com/drive/1dtjaz...   \n",
       "22  https://colab.research.google.com/drive/1exOkj...   \n",
       "23  https://colab.research.google.com/drive/1fdFjW...   \n",
       "24  https://colab.research.google.com/drive/1FK4tZ...   \n",
       "25  https://colab.research.google.com/drive/1fktzA...   \n",
       "26  https://colab.research.google.com/drive/1flx6g...   \n",
       "27  https://colab.research.google.com/drive/1fnQWy...   \n",
       "28  https://colab.research.google.com/drive/1g7T4_...   \n",
       "29  https://colab.research.google.com/drive/1GCcxI...   \n",
       "\n",
       "                                      metadata__topic number_of_turns  \\\n",
       "0            algorithms > by_data_structure > strings               6   \n",
       "1            algorithms > by_data_structure > strings               3   \n",
       "2            algorithms > by_data_structure > strings               3   \n",
       "3          algorithms > by_topic > divide_and_conquer               1   \n",
       "4          algorithms > by_topic > divide_and_conquer               1   \n",
       "5   python_language_and_scripting > generators_and...               2   \n",
       "6                                       ml_principles               1   \n",
       "7              algorithms > by_data_structure > trees               1   \n",
       "8   python_language_and_scripting > scripting_and_...               1   \n",
       "9            algorithms > by_data_structure > strings               2   \n",
       "10           algorithms > by_data_structure > strings               2   \n",
       "11              algorithms > by_topic > combinatorics               1   \n",
       "12            algorithms > by_data_structure > stacks               1   \n",
       "13            algorithms > by_data_structure > graphs               1   \n",
       "14             algorithms > by_data_structure > trees               1   \n",
       "15          python_language_and_scripting > packaging               1   \n",
       "16        algorithms > by_topic > dynamic_programming               1   \n",
       "17      python_language_and_scripting > python_2_vs_3               2   \n",
       "18  python_language_and_scripting > basic_python_s...               1   \n",
       "19           algorithms > by_data_structure > strings               2   \n",
       "20                algorithms > by_topic > game_theory               1   \n",
       "21             algorithms > by_data_structure > trees               1   \n",
       "22           unit_testing_methodology > code_coverage               1   \n",
       "23                algorithms > by_topic > game_theory               1   \n",
       "24             algorithms > by_data_structure > heaps               1   \n",
       "25        unit_testing_methodology > security_testing               1   \n",
       "26               algorithms > by_topic > backtracking               1   \n",
       "27           algorithms > by_data_structure > strings               2   \n",
       "28     unit_testing_methodology > integration_testing               1   \n",
       "29  python_language_and_scripting > memory_managem...               1   \n",
       "\n",
       "   duration_mins  batch_id  Unnamed: 0  \\\n",
       "0            119         1         NaN   \n",
       "1             60         1         NaN   \n",
       "2             50         1         NaN   \n",
       "3             10         1         NaN   \n",
       "4             10         1         NaN   \n",
       "5             17         1         NaN   \n",
       "6             11         1         NaN   \n",
       "7             10         1         NaN   \n",
       "8             10         1         NaN   \n",
       "9             20         1         NaN   \n",
       "10            25         1         NaN   \n",
       "11            12         1         NaN   \n",
       "12            10         1         NaN   \n",
       "13            25         1         NaN   \n",
       "14            30         1         NaN   \n",
       "15             5         1         NaN   \n",
       "16            10         1         NaN   \n",
       "17            10         1         NaN   \n",
       "18            10         1         NaN   \n",
       "19            20         1         NaN   \n",
       "20            11         1         NaN   \n",
       "21             2         1         NaN   \n",
       "22            20         1         NaN   \n",
       "23            15         1         NaN   \n",
       "24            20         1         NaN   \n",
       "25            10         1         NaN   \n",
       "26            15         1         NaN   \n",
       "27            20         1         NaN   \n",
       "28            30         1         NaN   \n",
       "29            15         1         NaN   \n",
       "\n",
       "                                    use_case__summary  \\\n",
       "0   The user is using the Assistant for coding ass...   \n",
       "1   The user is using the Assistant for coding ass...   \n",
       "2   User utilizes Assistant for coding assistance,...   \n",
       "3   User seeks assistance with coding, specificall...   \n",
       "4   User employs the Assistant to understand and i...   \n",
       "5   The user is utilizing the Assistant to improve...   \n",
       "6   The user is using the Assistant for educationa...   \n",
       "7   User seeks assistance for programming related ...   \n",
       "8   User employs Assistant for coding assistance i...   \n",
       "9   The user is using the Assistant to learn progr...   \n",
       "10  User seeks coding assistance for anagram valid...   \n",
       "11  User seeks coding assistance for algorithmic p...   \n",
       "12  User employs Assistant for coding assistance t...   \n",
       "13  User seeks assistance with algorithm implement...   \n",
       "14  User seeks assistance for coding related to bi...   \n",
       "15  User uses Assistant to refine a Python package...   \n",
       "16  The user is using the Assistant to learn progr...   \n",
       "17  The user is using the Assistant for coding ass...   \n",
       "18  User seeks assistance with Python programming ...   \n",
       "19  User employs Assistant to refine code for text...   \n",
       "20  User seeks assistance for academic or research...   \n",
       "21  User seeks assistance for modifying code for e...   \n",
       "22  User seeks assistance for measuring code cover...   \n",
       "23        User seeks assistance for game development.   \n",
       "24  The user is using the Assistant to modify code...   \n",
       "25  The user is enhancing security for an authenti...   \n",
       "26  User seeks assistance for programming a comple...   \n",
       "27  User seeks programming assistance for string m...   \n",
       "28  The user is utilizing the Assistant to improve...   \n",
       "29  The user is using the Assistant to learn and a...   \n",
       "\n",
       "   area_of_focus__top_level       area_of_focus__sub_level  \\\n",
       "0           basic scripting    write simple code in python   \n",
       "1       general coding help  explain complex code snippets   \n",
       "2           basic scripting    write simple code in python   \n",
       "3       general coding help  explain complex code snippets   \n",
       "4           basic scripting    write simple code in python   \n",
       "5           basic scripting    write simple code in python   \n",
       "6           basic scripting               ml code snippets   \n",
       "7           basic scripting    write simple code in python   \n",
       "8           basic scripting    write simple code in python   \n",
       "9           basic scripting    write simple code in python   \n",
       "10          basic scripting    write simple code in python   \n",
       "11          basic scripting    write simple code in python   \n",
       "12      general coding help                  refactor code   \n",
       "13          basic scripting    write simple code in python   \n",
       "14          basic scripting    write simple code in python   \n",
       "15      general coding help                  refactor code   \n",
       "16          basic scripting    write simple code in python   \n",
       "17          basic scripting    write simple code in python   \n",
       "18          basic scripting    write simple code in python   \n",
       "19          basic scripting    write simple code in python   \n",
       "20          basic scripting    write simple code in python   \n",
       "21      general coding help  explain complex code snippets   \n",
       "22          write unit test      cover different languages   \n",
       "23          basic scripting    write simple code in python   \n",
       "24          basic scripting    write simple code in python   \n",
       "25          write unit test      cover different languages   \n",
       "26    interview preparation             write optimal code   \n",
       "27          basic scripting    write simple code in python   \n",
       "28          write unit test     explain code with comments   \n",
       "29      general coding help  explain complex code snippets   \n",
       "\n",
       "                   area_of_focus__detailed_level          domain__top_level  \\\n",
       "0    string manipulation and list comprehensions  python basics & scripting   \n",
       "1                          modify function logic  python basics & scripting   \n",
       "2            string manipulation with conditions  python basics & scripting   \n",
       "3                      merge sort implementation            problem solving   \n",
       "4                     exponentiation by squaring            problem solving   \n",
       "5                   implement generator function  python basics & scripting   \n",
       "6                       cross-validation example           machine learning   \n",
       "7                     binary tree depth function            problem solving   \n",
       "8                 download images using requests  python basics & scripting   \n",
       "9                              string operations  python basics & scripting   \n",
       "10                        anagram check function  python basics & scripting   \n",
       "11                  fibonacci sequence algorithm  python basics & scripting   \n",
       "12                         enforce type checking  python basics & scripting   \n",
       "13                  dijkstra's algorithm example            problem solving   \n",
       "14                      tree traversal algorithm  python basics & scripting   \n",
       "15                      modify package namespace  python basics & scripting   \n",
       "16            dynamic programming implementation            problem solving   \n",
       "17                       python 2 to 3 migration  python basics & scripting   \n",
       "18                      dictionary usage example  python basics & scripting   \n",
       "19                           string manipulation  python basics & scripting   \n",
       "20              cooperative game theory function  python basics & scripting   \n",
       "21  add print statement to binary tree traversal            problem solving   \n",
       "22                          python code coverage                    testing   \n",
       "23              minimax algorithm implementation            problem solving   \n",
       "24              heap data structure manipulation            problem solving   \n",
       "25                          python security test                   security   \n",
       "26                  algorithmic coding challenge            problem solving   \n",
       "27             string manipulation using slicing  python basics & scripting   \n",
       "28                         add teardown to tests                    testing   \n",
       "29                    memory profiling in python  python basics & scripting   \n",
       "\n",
       "              domain__sub_level  \\\n",
       "0            python programming   \n",
       "1           string manipulation   \n",
       "2           string manipulation   \n",
       "3     python basics & scripting   \n",
       "4                    algorithms   \n",
       "5                 file handling   \n",
       "6              model evaluation   \n",
       "7     python basics & scripting   \n",
       "8                     scripting   \n",
       "9           string manipulation   \n",
       "10          string manipulation   \n",
       "11                   algorithms   \n",
       "12  object-oriented programming   \n",
       "13                   algorithms   \n",
       "14                   algorithms   \n",
       "15            module management   \n",
       "16    python basics & scripting   \n",
       "17              python 3 syntax   \n",
       "18       python data structures   \n",
       "19          string manipulation   \n",
       "20             python scripting   \n",
       "21                   algorithms   \n",
       "22                code coverage   \n",
       "23    python basics & scripting   \n",
       "24    python basics & scripting   \n",
       "25         application security   \n",
       "26                   algorithms   \n",
       "27          string manipulation   \n",
       "28          integration testing   \n",
       "29     performance optimization   \n",
       "\n",
       "                             domain__detailed_level  \n",
       "0       string manipulation and list comprehensions  \n",
       "1   string reversal with special character handling  \n",
       "2             list comprehension and string joining  \n",
       "3                          algorithm implementation  \n",
       "4                                divide and conquer  \n",
       "5                  generators and memory management  \n",
       "6                cross-validation with scikit-learn  \n",
       "7                    algorithms and data structures  \n",
       "8                                      web scraping  \n",
       "9              character counting and index finding  \n",
       "10                                anagram detection  \n",
       "11                               fibonacci sequence  \n",
       "12                         type checking in methods  \n",
       "13                                 graph algorithms  \n",
       "14                                   tree traversal  \n",
       "15                           package initialization  \n",
       "16                              dynamic programming  \n",
       "17         exception handling and string formatting  \n",
       "18                  dictionaries and access methods  \n",
       "19                              regular expressions  \n",
       "20             game theory algorithm implementation  \n",
       "21                            binary tree traversal  \n",
       "22            python code coverage with coverage.py  \n",
       "23                          implementing algorithms  \n",
       "24                                  data structures  \n",
       "25                     user authentication security  \n",
       "26                                     backtracking  \n",
       "27                                   string slicing  \n",
       "28                          test setup and teardown  \n",
       "29                                 memory profiling  "
      ]
     },
     "execution_count": 33,
     "metadata": {},
     "output_type": "execute_result"
    }
   ],
   "source": [
    "expanded_enriched_df.head(30)"
   ]
  },
  {
   "cell_type": "code",
   "execution_count": 38,
   "metadata": {},
   "outputs": [
    {
     "data": {
      "application/vnd.plotly.v1+json": {
       "config": {
        "plotlyServerURL": "https://plot.ly"
       },
       "data": [
        {
         "branchvalues": "total",
         "domain": {
          "x": [
           0,
           1
          ],
          "y": [
           0,
           1
          ]
         },
         "hovertemplate": "labels=%{label}<br>count=%{value}<br>parent=%{parent}<br>id=%{id}<extra></extra>",
         "ids": [
          "other/adaptation strategy",
          "user actions/add error handling",
          "other/add functionality",
          "other/advanced explanation",
          "other/algorithm complexity inquiry",
          "respond to assistant/answer a question",
          "other/automation inquiry",
          "other/best practices",
          "other/best practices advice",
          "other/bug reporting process",
          "pivoting follow up/change in direction",
          "pivoting follow up/change in focus or goal",
          "pivoting follow up/change in topic",
          "respond to assistant/clarify an ambiguity",
          "other/code explanation",
          "other/code implementation",
          "other/code improvement",
          "other/code improvement suggestions",
          "other/code modification",
          "other/code testing",
          "other/combined optimization",
          "other/commenting best practices",
          "other/comparative analysis request",
          "other/complex example request",
          "other/complexity explanation",
          "other/consider edge cases",
          "other/consider performance aspects",
          "other/custom implementation inquiry",
          "continuation follow up/customize functionality",
          "other/data handling inquiry",
          "other/data structure discussion",
          "other/demonstrate with example",
          "other/discuss applications",
          "other/discuss best practices",
          "other/discuss complexity",
          "other/discuss design pattern",
          "other/discuss efficiency improvement",
          "other/discuss fairness and bias",
          "other/discuss hosting options",
          "other/discuss issues",
          "other/discuss optimizations",
          "other/discuss testing strategies",
          "other/dynamic adjustment",
          "other/educational explanation",
          "other/educational inquiry",
          "other/empty message",
          "respond to assistant/end the conversation",
          "other/enhance collaboration",
          "other/environment management suggestion",
          "other/explain a concept",
          "other/explain concept",
          "other/explain functionality",
          "other/explore enhancements",
          "user actions/express appreciation",
          "other/general inquiry",
          "other/geographic consideration",
          "other/guided instruction",
          "other/historical inquiry",
          "other/implement feature",
          "other/implementation explanation",
          "other/include method",
          "continuation follow up/incrementally build",
          "other/information inquiry",
          "user actions/inquire about error handling",
          "other/inquiry on reproducibility",
          "other/integrate ci/cd",
          "continuation follow up/integrate with something else",
          "other/integration guidance",
          "other/integration use case",
          "other/interactive learning",
          "other/interview simulation",
          "other/learning/inquiry",
          "other/literature inquiry",
          "other/machine learning discussion",
          "other/misunderstanding clarification",
          "other/mock dependencies",
          "other/mock interview",
          "other/mocking techniques",
          "other/monitoring implementation",
          "other/new tag",
          "other/new tag: best practices discussion",
          "other/new tag: explore alternatives",
          "other/new tag: test environment setup",
          "other/new tag: tool limitations inquiry",
          "other/new use case example",
          "other/optimization discussion",
          "other/optimization inquiry",
          "other/package creation guidance",
          "other/parallelization inquiry",
          "other/pattern recognition inquiry",
          "other/performance inquiry",
          "other/performance measurement",
          "other/performance optimization",
          "other/performance tracking",
          "other/positive feedback",
          "other/positive reinforcement",
          "other/practical application inquiry",
          "other/practical demonstration",
          "other/precision in functions",
          "other/proactive guidance",
          "other/problem solving",
          "user actions/provide additional information",
          "other/provide assurance",
          "other/provide code example",
          "other/provide code snippet",
          "other/provide detailed explanation",
          "other/provide example",
          "other/provide example code",
          "other/provide examples",
          "other/provide guidance",
          "other/provide technical example",
          "other/provide technical guidance",
          "other/provide troubleshooting steps",
          "other/real-time interaction",
          "continuation follow up/remove nan rows",
          "user actions/request additional functionality",
          "user actions/request alternative method",
          "continuation follow up/request alternatives",
          "user actions/request alternatives",
          "user actions/request code improvement",
          "other/request debugging tips",
          "user actions/request examples",
          "continuation follow up/request for clarification/elaboration",
          "respond to assistant/request for clarification/elaboration",
          "user actions/request for clarification/elaboration",
          "user actions/request for demonstration",
          "other/requesting update method",
          "other/security discussion",
          "other/seek compatibility advice",
          "other/seeking advice",
          "other/seeking best practices",
          "other/seeking debugging help",
          "other/seeking explanation",
          "other/seeking further learning",
          "other/seeking guidance",
          "other/seeking optimization",
          "other/seeking optimization advice",
          "other/seeking solutions",
          "other/seeking technical assistance",
          "other/seeking technical help",
          "continuation follow up/simplify code",
          "other/space complexity optimization",
          "other/strategy explanation",
          "other/structuring advice",
          "other/suggest improvement",
          "other/suggest improvements",
          "other/suggest optimizations",
          "other/summarize information",
          "continuation follow up/supplement/extend",
          "other/technical assistance",
          "other/technical discussion",
          "other/technical explanation",
          "other/technical guidance",
          "other/technical inquiry",
          "other/technical instruction",
          "other/technical issue discussion",
          "other/test for overfitting",
          "other/testing best practices",
          "other/tool recommendation",
          "other/troubleshooting process",
          "user actions/user asks about efficiency",
          "user actions/user asks for advice",
          "user actions/user asks for assistance",
          "user actions/user asks for examples",
          "user actions/user asks for guidance",
          "user actions/user asks for help",
          "user actions/user asks for information",
          "user actions/user asks for more information",
          "user actions/user asks for opinion",
          "user actions/user asks for optimization strategies",
          "user actions/user asks for practical applications",
          "user actions/user asks for resources",
          "user actions/user confronts assistant about mistakes",
          "user actions/user contradicts themselves",
          "user actions/user explores more",
          "user actions/user expresses frustration",
          "user actions/user inquires about best practices",
          "user actions/user inquires about error handling",
          "user actions/user inquires about security",
          "user actions/user makes mistakes",
          "user actions/user offers assistance",
          "user actions/user provides detailed explanation",
          "user actions/user provides example",
          "user actions/user provides examples",
          "user actions/user provides information",
          "user actions/user requests alternative solution",
          "user actions/user requests assistance",
          "user actions/user requests customization",
          "user actions/user requests examples",
          "user actions/user requests guidance",
          "user actions/user requests implementation",
          "user actions/user requests information",
          "user actions/user requests more challenging content",
          "user actions/user requests more information",
          "user actions/user requests specific guidance",
          "user actions/user seeks advice",
          "user actions/user seeks education",
          "user actions/user seeks guidance",
          "user actions/user seeks information",
          "user actions/user seeks library recommendations",
          "user actions/user seeks optimization advice",
          "user actions/user seeks prevention advice",
          "user actions/user seeks tools",
          "user actions/user shares knowledge",
          "other/visual comparison",
          "other/visual differentiation inquiry",
          "other/visual explanation request",
          "other/visualization methods",
          "other/visualize data",
          "continuation follow up",
          "other",
          "pivoting follow up",
          "respond to assistant",
          "user actions"
         ],
         "labels": [
          "adaptation strategy",
          "add error handling",
          "add functionality",
          "advanced explanation",
          "algorithm complexity inquiry",
          "answer a question",
          "automation inquiry",
          "best practices",
          "best practices advice",
          "bug reporting process",
          "change in direction",
          "change in focus or goal",
          "change in topic",
          "clarify an ambiguity",
          "code explanation",
          "code implementation",
          "code improvement",
          "code improvement suggestions",
          "code modification",
          "code testing",
          "combined optimization",
          "commenting best practices",
          "comparative analysis request",
          "complex example request",
          "complexity explanation",
          "consider edge cases",
          "consider performance aspects",
          "custom implementation inquiry",
          "customize functionality",
          "data handling inquiry",
          "data structure discussion",
          "demonstrate with example",
          "discuss applications",
          "discuss best practices",
          "discuss complexity",
          "discuss design pattern",
          "discuss efficiency improvement",
          "discuss fairness and bias",
          "discuss hosting options",
          "discuss issues",
          "discuss optimizations",
          "discuss testing strategies",
          "dynamic adjustment",
          "educational explanation",
          "educational inquiry",
          "empty message",
          "end the conversation",
          "enhance collaboration",
          "environment management suggestion",
          "explain a concept",
          "explain concept",
          "explain functionality",
          "explore enhancements",
          "express appreciation",
          "general inquiry",
          "geographic consideration",
          "guided instruction",
          "historical inquiry",
          "implement feature",
          "implementation explanation",
          "include method",
          "incrementally build",
          "information inquiry",
          "inquire about error handling",
          "inquiry on reproducibility",
          "integrate ci/cd",
          "integrate with something else",
          "integration guidance",
          "integration use case",
          "interactive learning",
          "interview simulation",
          "learning/inquiry",
          "literature inquiry",
          "machine learning discussion",
          "misunderstanding clarification",
          "mock dependencies",
          "mock interview",
          "mocking techniques",
          "monitoring implementation",
          "new tag",
          "new tag: best practices discussion",
          "new tag: explore alternatives",
          "new tag: test environment setup",
          "new tag: tool limitations inquiry",
          "new use case example",
          "optimization discussion",
          "optimization inquiry",
          "package creation guidance",
          "parallelization inquiry",
          "pattern recognition inquiry",
          "performance inquiry",
          "performance measurement",
          "performance optimization",
          "performance tracking",
          "positive feedback",
          "positive reinforcement",
          "practical application inquiry",
          "practical demonstration",
          "precision in functions",
          "proactive guidance",
          "problem solving",
          "provide additional information",
          "provide assurance",
          "provide code example",
          "provide code snippet",
          "provide detailed explanation",
          "provide example",
          "provide example code",
          "provide examples",
          "provide guidance",
          "provide technical example",
          "provide technical guidance",
          "provide troubleshooting steps",
          "real-time interaction",
          "remove nan rows",
          "request additional functionality",
          "request alternative method",
          "request alternatives",
          "request alternatives",
          "request code improvement",
          "request debugging tips",
          "request examples",
          "request for clarification/elaboration",
          "request for clarification/elaboration",
          "request for clarification/elaboration",
          "request for demonstration",
          "requesting update method",
          "security discussion",
          "seek compatibility advice",
          "seeking advice",
          "seeking best practices",
          "seeking debugging help",
          "seeking explanation",
          "seeking further learning",
          "seeking guidance",
          "seeking optimization",
          "seeking optimization advice",
          "seeking solutions",
          "seeking technical assistance",
          "seeking technical help",
          "simplify code",
          "space complexity optimization",
          "strategy explanation",
          "structuring advice",
          "suggest improvement",
          "suggest improvements",
          "suggest optimizations",
          "summarize information",
          "supplement/extend",
          "technical assistance",
          "technical discussion",
          "technical explanation",
          "technical guidance",
          "technical inquiry",
          "technical instruction",
          "technical issue discussion",
          "test for overfitting",
          "testing best practices",
          "tool recommendation",
          "troubleshooting process",
          "user asks about efficiency",
          "user asks for advice",
          "user asks for assistance",
          "user asks for examples",
          "user asks for guidance",
          "user asks for help",
          "user asks for information",
          "user asks for more information",
          "user asks for opinion",
          "user asks for optimization strategies",
          "user asks for practical applications",
          "user asks for resources",
          "user confronts assistant about mistakes",
          "user contradicts themselves",
          "user explores more",
          "user expresses frustration",
          "user inquires about best practices",
          "user inquires about error handling",
          "user inquires about security",
          "user makes mistakes",
          "user offers assistance",
          "user provides detailed explanation",
          "user provides example",
          "user provides examples",
          "user provides information",
          "user requests alternative solution",
          "user requests assistance",
          "user requests customization",
          "user requests examples",
          "user requests guidance",
          "user requests implementation",
          "user requests information",
          "user requests more challenging content",
          "user requests more information",
          "user requests specific guidance",
          "user seeks advice",
          "user seeks education",
          "user seeks guidance",
          "user seeks information",
          "user seeks library recommendations",
          "user seeks optimization advice",
          "user seeks prevention advice",
          "user seeks tools",
          "user shares knowledge",
          "visual comparison",
          "visual differentiation inquiry",
          "visual explanation request",
          "visualization methods",
          "visualize data",
          "continuation follow up",
          "other",
          "pivoting follow up",
          "respond to assistant",
          "user actions"
         ],
         "name": "",
         "parents": [
          "other",
          "user actions",
          "other",
          "other",
          "other",
          "respond to assistant",
          "other",
          "other",
          "other",
          "other",
          "pivoting follow up",
          "pivoting follow up",
          "pivoting follow up",
          "respond to assistant",
          "other",
          "other",
          "other",
          "other",
          "other",
          "other",
          "other",
          "other",
          "other",
          "other",
          "other",
          "other",
          "other",
          "other",
          "continuation follow up",
          "other",
          "other",
          "other",
          "other",
          "other",
          "other",
          "other",
          "other",
          "other",
          "other",
          "other",
          "other",
          "other",
          "other",
          "other",
          "other",
          "other",
          "respond to assistant",
          "other",
          "other",
          "other",
          "other",
          "other",
          "other",
          "user actions",
          "other",
          "other",
          "other",
          "other",
          "other",
          "other",
          "other",
          "continuation follow up",
          "other",
          "user actions",
          "other",
          "other",
          "continuation follow up",
          "other",
          "other",
          "other",
          "other",
          "other",
          "other",
          "other",
          "other",
          "other",
          "other",
          "other",
          "other",
          "other",
          "other",
          "other",
          "other",
          "other",
          "other",
          "other",
          "other",
          "other",
          "other",
          "other",
          "other",
          "other",
          "other",
          "other",
          "other",
          "other",
          "other",
          "other",
          "other",
          "other",
          "other",
          "user actions",
          "other",
          "other",
          "other",
          "other",
          "other",
          "other",
          "other",
          "other",
          "other",
          "other",
          "other",
          "other",
          "continuation follow up",
          "user actions",
          "user actions",
          "continuation follow up",
          "user actions",
          "user actions",
          "other",
          "user actions",
          "continuation follow up",
          "respond to assistant",
          "user actions",
          "user actions",
          "other",
          "other",
          "other",
          "other",
          "other",
          "other",
          "other",
          "other",
          "other",
          "other",
          "other",
          "other",
          "other",
          "other",
          "continuation follow up",
          "other",
          "other",
          "other",
          "other",
          "other",
          "other",
          "other",
          "continuation follow up",
          "other",
          "other",
          "other",
          "other",
          "other",
          "other",
          "other",
          "other",
          "other",
          "other",
          "other",
          "user actions",
          "user actions",
          "user actions",
          "user actions",
          "user actions",
          "user actions",
          "user actions",
          "user actions",
          "user actions",
          "user actions",
          "user actions",
          "user actions",
          "user actions",
          "user actions",
          "user actions",
          "user actions",
          "user actions",
          "user actions",
          "user actions",
          "user actions",
          "user actions",
          "user actions",
          "user actions",
          "user actions",
          "user actions",
          "user actions",
          "user actions",
          "user actions",
          "user actions",
          "user actions",
          "user actions",
          "user actions",
          "user actions",
          "user actions",
          "user actions",
          "user actions",
          "user actions",
          "user actions",
          "user actions",
          "user actions",
          "user actions",
          "user actions",
          "user actions",
          "user actions",
          "other",
          "other",
          "other",
          "other",
          "other",
          "",
          "",
          "",
          "",
          ""
         ],
         "type": "treemap",
         "values": [
          1,
          1,
          1,
          1,
          1,
          2791,
          1,
          1,
          1,
          1,
          14,
          43,
          43,
          346,
          3,
          1,
          1,
          1,
          2,
          1,
          1,
          1,
          1,
          1,
          1,
          1,
          1,
          1,
          1,
          1,
          1,
          1,
          1,
          1,
          1,
          1,
          1,
          1,
          1,
          1,
          1,
          1,
          1,
          6,
          5,
          4,
          126,
          1,
          1,
          3,
          3,
          1,
          1,
          1,
          1,
          1,
          1,
          1,
          1,
          1,
          1,
          2356,
          1,
          1,
          1,
          1,
          303,
          1,
          1,
          1,
          1,
          1,
          1,
          1,
          1,
          1,
          1,
          1,
          1,
          1,
          1,
          1,
          1,
          1,
          1,
          1,
          1,
          1,
          1,
          1,
          1,
          1,
          1,
          1,
          11,
          2,
          1,
          1,
          1,
          1,
          1,
          1,
          1,
          2,
          1,
          1,
          11,
          1,
          7,
          1,
          1,
          1,
          1,
          1,
          1,
          1,
          1,
          204,
          4,
          1,
          1,
          1,
          2352,
          2,
          1,
          1,
          1,
          2,
          1,
          1,
          2,
          1,
          1,
          1,
          1,
          1,
          1,
          1,
          1,
          1,
          1,
          1,
          1,
          1,
          1,
          1,
          1,
          1,
          1129,
          3,
          4,
          8,
          2,
          2,
          1,
          3,
          1,
          1,
          1,
          1,
          1,
          3,
          1,
          6,
          7,
          1,
          1,
          3,
          1,
          1,
          1,
          1,
          55,
          2,
          1,
          2,
          1,
          1,
          1,
          369,
          1,
          1,
          5,
          1,
          7,
          1,
          2,
          1,
          1,
          1,
          1,
          3,
          1,
          1,
          1,
          7,
          1,
          1,
          1,
          1,
          1,
          1,
          1,
          1,
          1,
          1,
          1,
          1,
          1,
          6347,
          204,
          100,
          3265,
          516
         ]
        }
       ],
       "layout": {
        "font": {
         "family": "Courier New, monospace",
         "size": 18
        },
        "height": 800,
        "legend": {
         "tracegroupgap": 0
        },
        "margin": {
         "b": 50,
         "l": 50,
         "r": 50,
         "t": 100
        },
        "template": {
         "data": {
          "bar": [
           {
            "error_x": {
             "color": "#2a3f5f"
            },
            "error_y": {
             "color": "#2a3f5f"
            },
            "marker": {
             "line": {
              "color": "#E5ECF6",
              "width": 0.5
             },
             "pattern": {
              "fillmode": "overlay",
              "size": 10,
              "solidity": 0.2
             }
            },
            "type": "bar"
           }
          ],
          "barpolar": [
           {
            "marker": {
             "line": {
              "color": "#E5ECF6",
              "width": 0.5
             },
             "pattern": {
              "fillmode": "overlay",
              "size": 10,
              "solidity": 0.2
             }
            },
            "type": "barpolar"
           }
          ],
          "carpet": [
           {
            "aaxis": {
             "endlinecolor": "#2a3f5f",
             "gridcolor": "white",
             "linecolor": "white",
             "minorgridcolor": "white",
             "startlinecolor": "#2a3f5f"
            },
            "baxis": {
             "endlinecolor": "#2a3f5f",
             "gridcolor": "white",
             "linecolor": "white",
             "minorgridcolor": "white",
             "startlinecolor": "#2a3f5f"
            },
            "type": "carpet"
           }
          ],
          "choropleth": [
           {
            "colorbar": {
             "outlinewidth": 0,
             "ticks": ""
            },
            "type": "choropleth"
           }
          ],
          "contour": [
           {
            "colorbar": {
             "outlinewidth": 0,
             "ticks": ""
            },
            "colorscale": [
             [
              0,
              "#0d0887"
             ],
             [
              0.1111111111111111,
              "#46039f"
             ],
             [
              0.2222222222222222,
              "#7201a8"
             ],
             [
              0.3333333333333333,
              "#9c179e"
             ],
             [
              0.4444444444444444,
              "#bd3786"
             ],
             [
              0.5555555555555556,
              "#d8576b"
             ],
             [
              0.6666666666666666,
              "#ed7953"
             ],
             [
              0.7777777777777778,
              "#fb9f3a"
             ],
             [
              0.8888888888888888,
              "#fdca26"
             ],
             [
              1,
              "#f0f921"
             ]
            ],
            "type": "contour"
           }
          ],
          "contourcarpet": [
           {
            "colorbar": {
             "outlinewidth": 0,
             "ticks": ""
            },
            "type": "contourcarpet"
           }
          ],
          "heatmap": [
           {
            "colorbar": {
             "outlinewidth": 0,
             "ticks": ""
            },
            "colorscale": [
             [
              0,
              "#0d0887"
             ],
             [
              0.1111111111111111,
              "#46039f"
             ],
             [
              0.2222222222222222,
              "#7201a8"
             ],
             [
              0.3333333333333333,
              "#9c179e"
             ],
             [
              0.4444444444444444,
              "#bd3786"
             ],
             [
              0.5555555555555556,
              "#d8576b"
             ],
             [
              0.6666666666666666,
              "#ed7953"
             ],
             [
              0.7777777777777778,
              "#fb9f3a"
             ],
             [
              0.8888888888888888,
              "#fdca26"
             ],
             [
              1,
              "#f0f921"
             ]
            ],
            "type": "heatmap"
           }
          ],
          "heatmapgl": [
           {
            "colorbar": {
             "outlinewidth": 0,
             "ticks": ""
            },
            "colorscale": [
             [
              0,
              "#0d0887"
             ],
             [
              0.1111111111111111,
              "#46039f"
             ],
             [
              0.2222222222222222,
              "#7201a8"
             ],
             [
              0.3333333333333333,
              "#9c179e"
             ],
             [
              0.4444444444444444,
              "#bd3786"
             ],
             [
              0.5555555555555556,
              "#d8576b"
             ],
             [
              0.6666666666666666,
              "#ed7953"
             ],
             [
              0.7777777777777778,
              "#fb9f3a"
             ],
             [
              0.8888888888888888,
              "#fdca26"
             ],
             [
              1,
              "#f0f921"
             ]
            ],
            "type": "heatmapgl"
           }
          ],
          "histogram": [
           {
            "marker": {
             "pattern": {
              "fillmode": "overlay",
              "size": 10,
              "solidity": 0.2
             }
            },
            "type": "histogram"
           }
          ],
          "histogram2d": [
           {
            "colorbar": {
             "outlinewidth": 0,
             "ticks": ""
            },
            "colorscale": [
             [
              0,
              "#0d0887"
             ],
             [
              0.1111111111111111,
              "#46039f"
             ],
             [
              0.2222222222222222,
              "#7201a8"
             ],
             [
              0.3333333333333333,
              "#9c179e"
             ],
             [
              0.4444444444444444,
              "#bd3786"
             ],
             [
              0.5555555555555556,
              "#d8576b"
             ],
             [
              0.6666666666666666,
              "#ed7953"
             ],
             [
              0.7777777777777778,
              "#fb9f3a"
             ],
             [
              0.8888888888888888,
              "#fdca26"
             ],
             [
              1,
              "#f0f921"
             ]
            ],
            "type": "histogram2d"
           }
          ],
          "histogram2dcontour": [
           {
            "colorbar": {
             "outlinewidth": 0,
             "ticks": ""
            },
            "colorscale": [
             [
              0,
              "#0d0887"
             ],
             [
              0.1111111111111111,
              "#46039f"
             ],
             [
              0.2222222222222222,
              "#7201a8"
             ],
             [
              0.3333333333333333,
              "#9c179e"
             ],
             [
              0.4444444444444444,
              "#bd3786"
             ],
             [
              0.5555555555555556,
              "#d8576b"
             ],
             [
              0.6666666666666666,
              "#ed7953"
             ],
             [
              0.7777777777777778,
              "#fb9f3a"
             ],
             [
              0.8888888888888888,
              "#fdca26"
             ],
             [
              1,
              "#f0f921"
             ]
            ],
            "type": "histogram2dcontour"
           }
          ],
          "mesh3d": [
           {
            "colorbar": {
             "outlinewidth": 0,
             "ticks": ""
            },
            "type": "mesh3d"
           }
          ],
          "parcoords": [
           {
            "line": {
             "colorbar": {
              "outlinewidth": 0,
              "ticks": ""
             }
            },
            "type": "parcoords"
           }
          ],
          "pie": [
           {
            "automargin": true,
            "type": "pie"
           }
          ],
          "scatter": [
           {
            "fillpattern": {
             "fillmode": "overlay",
             "size": 10,
             "solidity": 0.2
            },
            "type": "scatter"
           }
          ],
          "scatter3d": [
           {
            "line": {
             "colorbar": {
              "outlinewidth": 0,
              "ticks": ""
             }
            },
            "marker": {
             "colorbar": {
              "outlinewidth": 0,
              "ticks": ""
             }
            },
            "type": "scatter3d"
           }
          ],
          "scattercarpet": [
           {
            "marker": {
             "colorbar": {
              "outlinewidth": 0,
              "ticks": ""
             }
            },
            "type": "scattercarpet"
           }
          ],
          "scattergeo": [
           {
            "marker": {
             "colorbar": {
              "outlinewidth": 0,
              "ticks": ""
             }
            },
            "type": "scattergeo"
           }
          ],
          "scattergl": [
           {
            "marker": {
             "colorbar": {
              "outlinewidth": 0,
              "ticks": ""
             }
            },
            "type": "scattergl"
           }
          ],
          "scattermapbox": [
           {
            "marker": {
             "colorbar": {
              "outlinewidth": 0,
              "ticks": ""
             }
            },
            "type": "scattermapbox"
           }
          ],
          "scatterpolar": [
           {
            "marker": {
             "colorbar": {
              "outlinewidth": 0,
              "ticks": ""
             }
            },
            "type": "scatterpolar"
           }
          ],
          "scatterpolargl": [
           {
            "marker": {
             "colorbar": {
              "outlinewidth": 0,
              "ticks": ""
             }
            },
            "type": "scatterpolargl"
           }
          ],
          "scatterternary": [
           {
            "marker": {
             "colorbar": {
              "outlinewidth": 0,
              "ticks": ""
             }
            },
            "type": "scatterternary"
           }
          ],
          "surface": [
           {
            "colorbar": {
             "outlinewidth": 0,
             "ticks": ""
            },
            "colorscale": [
             [
              0,
              "#0d0887"
             ],
             [
              0.1111111111111111,
              "#46039f"
             ],
             [
              0.2222222222222222,
              "#7201a8"
             ],
             [
              0.3333333333333333,
              "#9c179e"
             ],
             [
              0.4444444444444444,
              "#bd3786"
             ],
             [
              0.5555555555555556,
              "#d8576b"
             ],
             [
              0.6666666666666666,
              "#ed7953"
             ],
             [
              0.7777777777777778,
              "#fb9f3a"
             ],
             [
              0.8888888888888888,
              "#fdca26"
             ],
             [
              1,
              "#f0f921"
             ]
            ],
            "type": "surface"
           }
          ],
          "table": [
           {
            "cells": {
             "fill": {
              "color": "#EBF0F8"
             },
             "line": {
              "color": "white"
             }
            },
            "header": {
             "fill": {
              "color": "#C8D4E3"
             },
             "line": {
              "color": "white"
             }
            },
            "type": "table"
           }
          ]
         },
         "layout": {
          "annotationdefaults": {
           "arrowcolor": "#2a3f5f",
           "arrowhead": 0,
           "arrowwidth": 1
          },
          "autotypenumbers": "strict",
          "coloraxis": {
           "colorbar": {
            "outlinewidth": 0,
            "ticks": ""
           }
          },
          "colorscale": {
           "diverging": [
            [
             0,
             "#8e0152"
            ],
            [
             0.1,
             "#c51b7d"
            ],
            [
             0.2,
             "#de77ae"
            ],
            [
             0.3,
             "#f1b6da"
            ],
            [
             0.4,
             "#fde0ef"
            ],
            [
             0.5,
             "#f7f7f7"
            ],
            [
             0.6,
             "#e6f5d0"
            ],
            [
             0.7,
             "#b8e186"
            ],
            [
             0.8,
             "#7fbc41"
            ],
            [
             0.9,
             "#4d9221"
            ],
            [
             1,
             "#276419"
            ]
           ],
           "sequential": [
            [
             0,
             "#0d0887"
            ],
            [
             0.1111111111111111,
             "#46039f"
            ],
            [
             0.2222222222222222,
             "#7201a8"
            ],
            [
             0.3333333333333333,
             "#9c179e"
            ],
            [
             0.4444444444444444,
             "#bd3786"
            ],
            [
             0.5555555555555556,
             "#d8576b"
            ],
            [
             0.6666666666666666,
             "#ed7953"
            ],
            [
             0.7777777777777778,
             "#fb9f3a"
            ],
            [
             0.8888888888888888,
             "#fdca26"
            ],
            [
             1,
             "#f0f921"
            ]
           ],
           "sequentialminus": [
            [
             0,
             "#0d0887"
            ],
            [
             0.1111111111111111,
             "#46039f"
            ],
            [
             0.2222222222222222,
             "#7201a8"
            ],
            [
             0.3333333333333333,
             "#9c179e"
            ],
            [
             0.4444444444444444,
             "#bd3786"
            ],
            [
             0.5555555555555556,
             "#d8576b"
            ],
            [
             0.6666666666666666,
             "#ed7953"
            ],
            [
             0.7777777777777778,
             "#fb9f3a"
            ],
            [
             0.8888888888888888,
             "#fdca26"
            ],
            [
             1,
             "#f0f921"
            ]
           ]
          },
          "colorway": [
           "#636efa",
           "#EF553B",
           "#00cc96",
           "#ab63fa",
           "#FFA15A",
           "#19d3f3",
           "#FF6692",
           "#B6E880",
           "#FF97FF",
           "#FECB52"
          ],
          "font": {
           "color": "#2a3f5f"
          },
          "geo": {
           "bgcolor": "white",
           "lakecolor": "white",
           "landcolor": "#E5ECF6",
           "showlakes": true,
           "showland": true,
           "subunitcolor": "white"
          },
          "hoverlabel": {
           "align": "left"
          },
          "hovermode": "closest",
          "mapbox": {
           "style": "light"
          },
          "paper_bgcolor": "white",
          "plot_bgcolor": "#E5ECF6",
          "polar": {
           "angularaxis": {
            "gridcolor": "white",
            "linecolor": "white",
            "ticks": ""
           },
           "bgcolor": "#E5ECF6",
           "radialaxis": {
            "gridcolor": "white",
            "linecolor": "white",
            "ticks": ""
           }
          },
          "scene": {
           "xaxis": {
            "backgroundcolor": "#E5ECF6",
            "gridcolor": "white",
            "gridwidth": 2,
            "linecolor": "white",
            "showbackground": true,
            "ticks": "",
            "zerolinecolor": "white"
           },
           "yaxis": {
            "backgroundcolor": "#E5ECF6",
            "gridcolor": "white",
            "gridwidth": 2,
            "linecolor": "white",
            "showbackground": true,
            "ticks": "",
            "zerolinecolor": "white"
           },
           "zaxis": {
            "backgroundcolor": "#E5ECF6",
            "gridcolor": "white",
            "gridwidth": 2,
            "linecolor": "white",
            "showbackground": true,
            "ticks": "",
            "zerolinecolor": "white"
           }
          },
          "shapedefaults": {
           "line": {
            "color": "#2a3f5f"
           }
          },
          "ternary": {
           "aaxis": {
            "gridcolor": "white",
            "linecolor": "white",
            "ticks": ""
           },
           "baxis": {
            "gridcolor": "white",
            "linecolor": "white",
            "ticks": ""
           },
           "bgcolor": "#E5ECF6",
           "caxis": {
            "gridcolor": "white",
            "linecolor": "white",
            "ticks": ""
           }
          },
          "title": {
           "x": 0.05
          },
          "xaxis": {
           "automargin": true,
           "gridcolor": "white",
           "linecolor": "white",
           "ticks": "",
           "title": {
            "standoff": 15
           },
           "zerolinecolor": "white",
           "zerolinewidth": 2
          },
          "yaxis": {
           "automargin": true,
           "gridcolor": "white",
           "linecolor": "white",
           "ticks": "",
           "title": {
            "standoff": 15
           },
           "zerolinecolor": "white",
           "zerolinewidth": 2
          }
         }
        },
        "title": {
         "font": {
          "size": 24
         },
         "text": "Hierarchical Domain Classification"
        },
        "treemapcolorway": [
         "#326FDC",
         "#47ABFD",
         "#959595",
         "#FFFFFF",
         "#EFEFEF",
         "#000000"
        ],
        "width": 1200
       }
      }
     },
     "metadata": {},
     "output_type": "display_data"
    }
   ],
   "source": [
    "import pandas as pd\n",
    "import plotly.express as px\n",
    "from operations.delivery.analytics.utils import turing_palette\n",
    "\n",
    "\n",
    "turing_palette = [\n",
    "    \"#326FDC\",  # Celtic Blue\n",
    "    \"#47ABFD\",  # Argentinian Blue\n",
    "    \"#959595\",  # Battleship gray\n",
    "    \"#FFFFFF\",  # White\n",
    "    \"#EFEFEF\",  # Anti-flash white\n",
    "    \"#000000\",  # Black\n",
    "]\n",
    "\n",
    "df = behavioural_tags_data\n",
    "fig = px.treemap(\n",
    "    df, \n",
    "    path=['top_level', 'sub_level'], \n",
    "    title=\"Hierarchical Domain Classification\",\n",
    "    height=800,\n",
    "    width=1200,\n",
    "    color_discrete_sequence=turing_palette\n",
    ")\n",
    "fig.update_layout(\n",
    "    margin=dict(t=100, l=50, r=50, b=50),\n",
    "    title_font=dict(size=24),\n",
    "    font=dict(size=18, family='Courier New, monospace')\n",
    ")\n",
    "fig.show()"
   ]
  },
  {
   "cell_type": "code",
   "execution_count": null,
   "metadata": {},
   "outputs": [],
   "source": [
    "import matplotlib.pyplot as plt\n",
    "import seaborn as sns\n",
    "\n",
    "# Plot hierarchical data of behavioural_tags_data\n",
    "def plot_hierarchical_data(df):\n",
    "    plt.figure(figsize=(15, 8))\n",
    "    sns.countplot(data=df, y='top_level', hue='sub_level', palette='viridis')\n",
    "    plt.title('Distribution of Behavioural Tags')\n",
    "    plt.xlabel('Count')\n",
    "    plt.ylabel('Top Level Categories')\n",
    "    plt.legend(title='Sub Level Categories', bbox_to_anchor=(1.05, 1), loc='upper left')\n",
    "    plt.tight_layout()\n",
    "    plt.show()\n",
    "\n",
    "plot_hierarchical_data(behavioural_tags_data)\n"
   ]
  },
  {
   "cell_type": "code",
   "execution_count": null,
   "metadata": {},
   "outputs": [],
   "source": [
    "import matplotlib.pyplot as plt\n",
    "\n",
    "# Plot pie chart for top level categories of behavioural_tags_data\n",
    "def plot_pie_chart(df, column, title):\n",
    "    plt.figure(figsize=(8, 8))\n",
    "    df[column].value_counts().plot.pie(autopct='%1.1f%%', startangle=90)\n",
    "    plt.title(title)\n",
    "    plt.ylabel('')  # Hide the y-label\n",
    "    plt.tight_layout()\n",
    "    plt.show()\n",
    "\n",
    "# Plot pie charts for top level and sub level categories\n",
    "plot_pie_chart(behavioural_tags_data, 'top_level', 'Distribution of Top Level Behavioural Tags')\n",
    "plot_pie_chart(behavioural_tags_data, 'sub_level', 'Distribution of Sub Level Behavioural Tags')\n"
   ]
  }
 ],
 "metadata": {
  "kernelspec": {
   "display_name": ".venv",
   "language": "python",
   "name": "python3"
  },
  "language_info": {
   "codemirror_mode": {
    "name": "ipython",
    "version": 3
   },
   "file_extension": ".py",
   "mimetype": "text/x-python",
   "name": "python",
   "nbconvert_exporter": "python",
   "pygments_lexer": "ipython3",
   "version": "3.9.18"
  }
 },
 "nbformat": 4,
 "nbformat_minor": 2
}
