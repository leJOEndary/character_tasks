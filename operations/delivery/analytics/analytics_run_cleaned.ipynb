{
 "cells": [
  {
   "cell_type": "markdown",
   "metadata": {},
   "source": [
    "# Changes required\n",
    "# TODO\n",
    "\n",
    " - Remove all “detailed_level” hierarchy and keep (use case summary, AOF top & sub lvl, domain top & sub lvl)\n",
    "    - **ETA 30m-1h**\n",
    "\n",
    " - Modify metadata tagging prompt to only be based on what the user asks for rather than what the assistant does\n",
    "    - **ETA 2h-4h**\n",
    " \n",
    " - Modify the domain__top_level to contain the following categories only\n",
    "    - python basics & scripting, other languages??, problem solving, interview prep, web development, testing, cloud computing, / frameworks, data analysis, machine learning\n",
    "\n",
    "   - Changes:\n",
    "      - Merge databases, backend, mobile and frontend into web development\n",
    "      - Testing should cover code health workflows: writing unit tests, code reviews, writing CI-CD\n",
    "\n",
    "   - **ETA 3h** - might require prompt engineering to whip the code into specifics - either by specifying sub levels for domains or giving more guidance for top levels\n",
    "\n",
    "### What's missing\n",
    " - **entrypoint** central clean, tested entrypoint to generate all analytics at once without involvement. This file is something on the way there.\n",
    "    - **ETA 3-5h** - no testing and changes, probably **1h**\n",
    " - **getting data aside from \"deliver\" batches**\n",
    "    - **ETA ??** depends on the needs\n",
    " - **Do not redo already reviewed.** GPT-reviewer work might help here as the task is similar.\n",
    "    - **ETA ??**\n",
    " - **testing merge with main**\n",
    "    - **ETA 1-2h**"
   ]
  },
  {
   "cell_type": "code",
   "execution_count": 1,
   "metadata": {},
   "outputs": [],
   "source": [
    "from py_files import utils\n",
    "from py_files.jsonl_dump import download_parse_delivered_into_jsonl, down\n",
    "from py_files.utils import DATA_DIR, service_account_path\n",
    "LIMIT_ITEMS_TO_FIRST_N = None # None for full\n",
    "BATCH_IDS = [1,2,3,4,5]\n",
    "max_workers = 20"
   ]
  },
  {
   "cell_type": "code",
   "execution_count": null,
   "metadata": {},
   "outputs": [],
   "source": [
    "delivered4 = download_parse_delivered_into_jsonl(BATCH_IDS, no_work=False)"
   ]
  },
  {
   "cell_type": "code",
   "execution_count": 3,
   "metadata": {},
   "outputs": [],
   "source": [
    "delivered_df = delivered4['delivered_df']\n",
    "conversations = delivered4['conversations']"
   ]
  },
  {
   "cell_type": "code",
   "execution_count": 16,
   "metadata": {},
   "outputs": [],
   "source": [
    "from importlib import reload\n",
    "from py_files import use_case\n",
    "reload(use_case)\n",
    "from py_files.use_case import get_use_case_data_batch_conversations\n",
    "from py_files import areas_of_focus\n",
    "reload(areas_of_focus)\n",
    "from py_files.areas_of_focus import get_areas_of_focus_data_batch_conversations\n",
    "from py_files import behaviour_tagging\n",
    "reload(behaviour_tagging)\n",
    "from py_files.behaviour_tagging import get_behavioural_tags_data_batch_conversations\n",
    "from py_files import domain_classification\n",
    "reload(domain_classification)\n",
    "from py_files.domain_classification import get_domain_data_batch_conversations\n",
    "from py_files import programming_language_tagging\n",
    "reload(programming_language_tagging)\n",
    "from py_files.programming_language_tagging import get_programming_language_data_batch_conversations\n",
    "from py_files import dependency_classification\n",
    "reload(dependency_classification)\n",
    "from py_files.dependency_classification import get_dependency_data_batch_conversations"
   ]
  },
  {
   "cell_type": "code",
   "execution_count": 17,
   "metadata": {},
   "outputs": [
    {
     "name": "stderr",
     "output_type": "stream",
     "text": [
      "\n",
      "\u001b[A\n",
      "\u001b[A\n",
      "\u001b[A\n",
      "\u001b[A\n",
      "\u001b[A\n",
      "\u001b[A\n",
      "100%|██████████| 288/288 [01:29<00:00,  3.23it/s]\n"
     ]
    },
    {
     "name": "stdout",
     "output_type": "stream",
     "text": [
      "  Generating areas of focus data... (2/3 analytics for this batch LEFT)\n",
      "-----\n"
     ]
    },
    {
     "name": "stderr",
     "output_type": "stream",
     "text": [
      "Processing Conversations: 100%|██████████| 288/288 [01:36<00:00,  2.99it/s]\n"
     ]
    },
    {
     "name": "stdout",
     "output_type": "stream",
     "text": [
      "  Generating domain data... (1/3 analytics for this batch LEFT)\n",
      "-----\n"
     ]
    },
    {
     "name": "stderr",
     "output_type": "stream",
     "text": [
      "Processing Conversations: 100%|██████████| 288/288 [01:04<00:00,  4.47it/s]\n"
     ]
    },
    {
     "name": "stdout",
     "output_type": "stream",
     "text": [
      "============================================================\n",
      "Processing batch 2 of 5, batch: 2\n",
      "  Generating use case data... (3/3 analytics for this batch LEFT)\n",
      "-----\n"
     ]
    },
    {
     "name": "stderr",
     "output_type": "stream",
     "text": [
      "100%|██████████| 425/425 [02:22<00:00,  2.98it/s]\n"
     ]
    },
    {
     "name": "stdout",
     "output_type": "stream",
     "text": [
      "  Generating areas of focus data... (2/3 analytics for this batch LEFT)\n",
      "-----\n"
     ]
    },
    {
     "name": "stderr",
     "output_type": "stream",
     "text": [
      "Processing Conversations: 100%|██████████| 425/425 [01:48<00:00,  3.93it/s]\n"
     ]
    },
    {
     "name": "stdout",
     "output_type": "stream",
     "text": [
      "  Generating domain data... (1/3 analytics for this batch LEFT)\n",
      "-----\n"
     ]
    },
    {
     "name": "stderr",
     "output_type": "stream",
     "text": [
      "Processing Conversations: 100%|██████████| 425/425 [01:29<00:00,  4.76it/s]\n"
     ]
    },
    {
     "name": "stdout",
     "output_type": "stream",
     "text": [
      "============================================================\n",
      "Processing batch 3 of 5, batch: 3\n",
      "  Generating use case data... (3/3 analytics for this batch LEFT)\n",
      "-----\n"
     ]
    },
    {
     "name": "stderr",
     "output_type": "stream",
     "text": [
      "100%|██████████| 657/657 [01:57<00:00,  5.59it/s]\n"
     ]
    },
    {
     "name": "stdout",
     "output_type": "stream",
     "text": [
      "  Generating areas of focus data... (2/3 analytics for this batch LEFT)\n",
      "-----\n"
     ]
    },
    {
     "name": "stderr",
     "output_type": "stream",
     "text": [
      "Processing Conversations: 100%|██████████| 657/657 [01:04<00:00, 10.22it/s]\n"
     ]
    },
    {
     "name": "stdout",
     "output_type": "stream",
     "text": [
      "  Generating domain data... (1/3 analytics for this batch LEFT)\n",
      "-----\n"
     ]
    },
    {
     "name": "stderr",
     "output_type": "stream",
     "text": [
      "Processing Conversations: 100%|██████████| 657/657 [02:03<00:00,  5.32it/s]\n"
     ]
    },
    {
     "name": "stdout",
     "output_type": "stream",
     "text": [
      "============================================================\n",
      "Processing batch 4 of 5, batch: 4\n",
      "  Generating use case data... (3/3 analytics for this batch LEFT)\n",
      "-----\n"
     ]
    },
    {
     "name": "stderr",
     "output_type": "stream",
     "text": [
      "100%|██████████| 477/477 [02:28<00:00,  3.21it/s]\n"
     ]
    },
    {
     "name": "stdout",
     "output_type": "stream",
     "text": [
      "  Generating areas of focus data... (2/3 analytics for this batch LEFT)\n",
      "-----\n"
     ]
    },
    {
     "name": "stderr",
     "output_type": "stream",
     "text": [
      "Processing Conversations: 100%|██████████| 477/477 [01:12<00:00,  6.59it/s]\n"
     ]
    },
    {
     "name": "stdout",
     "output_type": "stream",
     "text": [
      "  Generating domain data... (1/3 analytics for this batch LEFT)\n",
      "-----\n"
     ]
    },
    {
     "name": "stderr",
     "output_type": "stream",
     "text": [
      "Processing Conversations: 100%|██████████| 477/477 [01:05<00:00,  7.24it/s]\n"
     ]
    },
    {
     "name": "stdout",
     "output_type": "stream",
     "text": [
      "============================================================\n",
      "Processing batch 5 of 5, batch: 5\n",
      "  Generating use case data... (3/3 analytics for this batch LEFT)\n",
      "-----\n"
     ]
    },
    {
     "name": "stderr",
     "output_type": "stream",
     "text": [
      " 28%|██▊       | 268/957 [01:24<01:40,  6.82it/s]"
     ]
    },
    {
     "ename": "BadRequestError",
     "evalue": "Error code: 400 - {'error': {'message': \"This model's maximum context length is 128000 tokens. However, your messages resulted in 522470 tokens (522365 in the messages, 105 in the functions). Please reduce the length of the messages or functions.\", 'type': 'invalid_request_error', 'param': 'messages', 'code': 'context_length_exceeded'}}",
     "output_type": "error",
     "traceback": [
      "\u001b[0;31m---------------------------------------------------------------------------\u001b[0m",
      "\u001b[0;31mBadRequestError\u001b[0m                           Traceback (most recent call last)",
      "Cell \u001b[0;32mIn[17], line 31\u001b[0m\n\u001b[1;32m     29\u001b[0m \u001b[38;5;28mprint\u001b[39m(\u001b[38;5;124mf\u001b[39m\u001b[38;5;124m\"\u001b[39m\u001b[38;5;124m  Generating \u001b[39m\u001b[38;5;132;01m{\u001b[39;00manalytics_type\u001b[38;5;241m.\u001b[39mreplace(\u001b[38;5;124m'\u001b[39m\u001b[38;5;124m_\u001b[39m\u001b[38;5;124m'\u001b[39m,\u001b[38;5;250m \u001b[39m\u001b[38;5;124m'\u001b[39m\u001b[38;5;124m \u001b[39m\u001b[38;5;124m'\u001b[39m)\u001b[38;5;132;01m}\u001b[39;00m\u001b[38;5;124m... (\u001b[39m\u001b[38;5;132;01m{\u001b[39;00manalytics_remaining\u001b[38;5;132;01m}\u001b[39;00m\u001b[38;5;124m/\u001b[39m\u001b[38;5;132;01m{\u001b[39;00m\u001b[38;5;28mlen\u001b[39m(analytics_functions)\u001b[38;5;132;01m}\u001b[39;00m\u001b[38;5;124m analytics for this batch LEFT)\u001b[39m\u001b[38;5;124m\"\u001b[39m)\n\u001b[1;32m     30\u001b[0m \u001b[38;5;28mprint\u001b[39m(\u001b[38;5;124m'\u001b[39m\u001b[38;5;124m-\u001b[39m\u001b[38;5;124m'\u001b[39m\u001b[38;5;241m*\u001b[39m\u001b[38;5;241m5\u001b[39m)\n\u001b[0;32m---> 31\u001b[0m batch_results[batch_id][analytics_type] \u001b[38;5;241m=\u001b[39m \u001b[43manalytics_function\u001b[49m\u001b[43m(\u001b[49m\n\u001b[1;32m     32\u001b[0m \u001b[43m    \u001b[49m\u001b[43mbatch_folder\u001b[49m\u001b[43m,\u001b[49m\u001b[43m \u001b[49m\u001b[43mmax_workers\u001b[49m\u001b[38;5;241;43m=\u001b[39;49m\u001b[43mmax_workers\u001b[49m\u001b[43m,\u001b[49m\u001b[43m \u001b[49m\u001b[43mlimit_items_to_first_n\u001b[49m\u001b[38;5;241;43m=\u001b[39;49m\u001b[43mLIMIT_ITEMS_TO_FIRST_N\u001b[49m\n\u001b[1;32m     33\u001b[0m \u001b[43m\u001b[49m\u001b[43m)\u001b[49m\n\u001b[1;32m     34\u001b[0m \u001b[38;5;66;03m# Save progress after each item\u001b[39;00m\n\u001b[1;32m     35\u001b[0m progress_backup_path \u001b[38;5;241m=\u001b[39m os\u001b[38;5;241m.\u001b[39mpath\u001b[38;5;241m.\u001b[39mjoin(progress_backup_folder, \u001b[38;5;124mf\u001b[39m\u001b[38;5;124m'\u001b[39m\u001b[38;5;132;01m{\u001b[39;00mcurrent_date\u001b[38;5;132;01m}\u001b[39;00m\u001b[38;5;124m.pkl\u001b[39m\u001b[38;5;124m'\u001b[39m)\n",
      "File \u001b[0;32m~/projects/turing/character.ai/character_tasks/operations/delivery/analytics/py_files/use_case.py:84\u001b[0m, in \u001b[0;36mget_use_case_data_batch_conversations\u001b[0;34m(batch_folder, max_workers, limit_items_to_first_n)\u001b[0m\n\u001b[1;32m     82\u001b[0m progress_bar \u001b[38;5;241m=\u001b[39m tqdm(total\u001b[38;5;241m=\u001b[39m\u001b[38;5;28mlen\u001b[39m(futures))\n\u001b[1;32m     83\u001b[0m \u001b[38;5;28;01mfor\u001b[39;00m future \u001b[38;5;129;01min\u001b[39;00m concurrent\u001b[38;5;241m.\u001b[39mfutures\u001b[38;5;241m.\u001b[39mas_completed(futures):\n\u001b[0;32m---> 84\u001b[0m     results\u001b[38;5;241m.\u001b[39mappend(\u001b[43mfuture\u001b[49m\u001b[38;5;241;43m.\u001b[39;49m\u001b[43mresult\u001b[49m\u001b[43m(\u001b[49m\u001b[43m)\u001b[49m)\n\u001b[1;32m     85\u001b[0m     progress_bar\u001b[38;5;241m.\u001b[39mupdate(\u001b[38;5;241m1\u001b[39m)\n\u001b[1;32m     86\u001b[0m progress_bar\u001b[38;5;241m.\u001b[39mclose()\n",
      "File \u001b[0;32m~/miniconda3/lib/python3.9/concurrent/futures/_base.py:439\u001b[0m, in \u001b[0;36mFuture.result\u001b[0;34m(self, timeout)\u001b[0m\n\u001b[1;32m    437\u001b[0m     \u001b[38;5;28;01mraise\u001b[39;00m CancelledError()\n\u001b[1;32m    438\u001b[0m \u001b[38;5;28;01melif\u001b[39;00m \u001b[38;5;28mself\u001b[39m\u001b[38;5;241m.\u001b[39m_state \u001b[38;5;241m==\u001b[39m FINISHED:\n\u001b[0;32m--> 439\u001b[0m     \u001b[38;5;28;01mreturn\u001b[39;00m \u001b[38;5;28;43mself\u001b[39;49m\u001b[38;5;241;43m.\u001b[39;49m\u001b[43m__get_result\u001b[49m\u001b[43m(\u001b[49m\u001b[43m)\u001b[49m\n\u001b[1;32m    441\u001b[0m \u001b[38;5;28mself\u001b[39m\u001b[38;5;241m.\u001b[39m_condition\u001b[38;5;241m.\u001b[39mwait(timeout)\n\u001b[1;32m    443\u001b[0m \u001b[38;5;28;01mif\u001b[39;00m \u001b[38;5;28mself\u001b[39m\u001b[38;5;241m.\u001b[39m_state \u001b[38;5;129;01min\u001b[39;00m [CANCELLED, CANCELLED_AND_NOTIFIED]:\n",
      "File \u001b[0;32m~/miniconda3/lib/python3.9/concurrent/futures/_base.py:391\u001b[0m, in \u001b[0;36mFuture.__get_result\u001b[0;34m(self)\u001b[0m\n\u001b[1;32m    389\u001b[0m \u001b[38;5;28;01mif\u001b[39;00m \u001b[38;5;28mself\u001b[39m\u001b[38;5;241m.\u001b[39m_exception:\n\u001b[1;32m    390\u001b[0m     \u001b[38;5;28;01mtry\u001b[39;00m:\n\u001b[0;32m--> 391\u001b[0m         \u001b[38;5;28;01mraise\u001b[39;00m \u001b[38;5;28mself\u001b[39m\u001b[38;5;241m.\u001b[39m_exception\n\u001b[1;32m    392\u001b[0m     \u001b[38;5;28;01mfinally\u001b[39;00m:\n\u001b[1;32m    393\u001b[0m         \u001b[38;5;66;03m# Break a reference cycle with the exception in self._exception\u001b[39;00m\n\u001b[1;32m    394\u001b[0m         \u001b[38;5;28mself\u001b[39m \u001b[38;5;241m=\u001b[39m \u001b[38;5;28;01mNone\u001b[39;00m\n",
      "File \u001b[0;32m~/miniconda3/lib/python3.9/concurrent/futures/thread.py:58\u001b[0m, in \u001b[0;36m_WorkItem.run\u001b[0;34m(self)\u001b[0m\n\u001b[1;32m     55\u001b[0m     \u001b[38;5;28;01mreturn\u001b[39;00m\n\u001b[1;32m     57\u001b[0m \u001b[38;5;28;01mtry\u001b[39;00m:\n\u001b[0;32m---> 58\u001b[0m     result \u001b[38;5;241m=\u001b[39m \u001b[38;5;28;43mself\u001b[39;49m\u001b[38;5;241;43m.\u001b[39;49m\u001b[43mfn\u001b[49m\u001b[43m(\u001b[49m\u001b[38;5;241;43m*\u001b[39;49m\u001b[38;5;28;43mself\u001b[39;49m\u001b[38;5;241;43m.\u001b[39;49m\u001b[43margs\u001b[49m\u001b[43m,\u001b[49m\u001b[43m \u001b[49m\u001b[38;5;241;43m*\u001b[39;49m\u001b[38;5;241;43m*\u001b[39;49m\u001b[38;5;28;43mself\u001b[39;49m\u001b[38;5;241;43m.\u001b[39;49m\u001b[43mkwargs\u001b[49m\u001b[43m)\u001b[49m\n\u001b[1;32m     59\u001b[0m \u001b[38;5;28;01mexcept\u001b[39;00m \u001b[38;5;167;01mBaseException\u001b[39;00m \u001b[38;5;28;01mas\u001b[39;00m exc:\n\u001b[1;32m     60\u001b[0m     \u001b[38;5;28mself\u001b[39m\u001b[38;5;241m.\u001b[39mfuture\u001b[38;5;241m.\u001b[39mset_exception(exc)\n",
      "File \u001b[0;32m~/projects/turing/character.ai/character_tasks/operations/delivery/analytics/py_files/use_case.py:58\u001b[0m, in \u001b[0;36mprocess_conversation\u001b[0;34m(conversation)\u001b[0m\n\u001b[1;32m     57\u001b[0m \u001b[38;5;28;01mdef\u001b[39;00m \u001b[38;5;21mprocess_conversation\u001b[39m(conversation):\n\u001b[0;32m---> 58\u001b[0m     output \u001b[38;5;241m=\u001b[39m \u001b[43mexec_summary\u001b[49m\u001b[43m(\u001b[49m\n\u001b[1;32m     59\u001b[0m \u001b[43m        \u001b[49m\u001b[43mconversation\u001b[49m\u001b[43m,\u001b[49m\n\u001b[1;32m     60\u001b[0m \u001b[43m        \u001b[49m\u001b[43mSummaryTheme\u001b[49m\u001b[43m(\u001b[49m\n\u001b[1;32m     61\u001b[0m \u001b[43m            \u001b[49m\u001b[43mtheme\u001b[49m\u001b[38;5;241;43m=\u001b[39;49m\u001b[38;5;124;43m\"\u001b[39;49m\u001b[38;5;124;43mUser Use Case, why user uses the Assistant in this conversation, in general terms, **for what** the User is using it. Not from a technical perspective, but from a daily life situation perspective. Example: work, homework, exam, studying, inteview, debugging, etc...\u001b[39;49m\u001b[38;5;124;43m\"\u001b[39;49m\n\u001b[1;32m     62\u001b[0m \u001b[43m        \u001b[49m\u001b[43m)\u001b[49m\u001b[43m,\u001b[49m\n\u001b[1;32m     63\u001b[0m \u001b[43m    \u001b[49m\u001b[43m)\u001b[49m\n\u001b[1;32m     64\u001b[0m     record \u001b[38;5;241m=\u001b[39m {\n\u001b[1;32m     65\u001b[0m         \u001b[38;5;124m\"\u001b[39m\u001b[38;5;124mid\u001b[39m\u001b[38;5;124m\"\u001b[39m: conversation[\u001b[38;5;124m\"\u001b[39m\u001b[38;5;124mid\u001b[39m\u001b[38;5;124m\"\u001b[39m],\n\u001b[1;32m     66\u001b[0m         \u001b[38;5;124m\"\u001b[39m\u001b[38;5;124mcolab_link\u001b[39m\u001b[38;5;124m\"\u001b[39m: \u001b[38;5;124mf\u001b[39m\u001b[38;5;124m\"\u001b[39m\u001b[38;5;124mhttps://colab.research.google.com/drive/\u001b[39m\u001b[38;5;132;01m{\u001b[39;00mconversation[\u001b[38;5;124m'\u001b[39m\u001b[38;5;124mid\u001b[39m\u001b[38;5;124m'\u001b[39m]\u001b[38;5;132;01m}\u001b[39;00m\u001b[38;5;124m\"\u001b[39m,\n\u001b[1;32m     67\u001b[0m     }\n\u001b[1;32m     68\u001b[0m     record\u001b[38;5;241m.\u001b[39mupdate(output)\n",
      "File \u001b[0;32m~/projects/turing/character.ai/character_tasks/operations/delivery/analytics/py_files/use_case.py:51\u001b[0m, in \u001b[0;36mexec_summary\u001b[0;34m(conversation, summary_theme)\u001b[0m\n\u001b[1;32m     35\u001b[0m prompt_template_str \u001b[38;5;241m=\u001b[39m \u001b[38;5;124m\"\"\"\u001b[39m\n\u001b[1;32m     36\u001b[0m \u001b[38;5;124mGiven the following conversation, please, generate an executive summary for a given theme, not of the conversation.\u001b[39m\n\u001b[1;32m     37\u001b[0m \u001b[38;5;124mYou are one of many specialized analyzers, so precisely focus on your target summary theme and topic.\u001b[39m\n\u001b[0;32m   (...)\u001b[0m\n\u001b[1;32m     43\u001b[0m \u001b[38;5;124m\u001b[39m\u001b[38;5;132;01m{conversation}\u001b[39;00m\n\u001b[1;32m     44\u001b[0m \u001b[38;5;124m\u001b[39m\u001b[38;5;124m\"\"\"\u001b[39m\n\u001b[1;32m     45\u001b[0m program \u001b[38;5;241m=\u001b[39m OpenAIPydanticProgram\u001b[38;5;241m.\u001b[39mfrom_defaults(\n\u001b[1;32m     46\u001b[0m     llm\u001b[38;5;241m=\u001b[39mOpenAI(api_key\u001b[38;5;241m=\u001b[39mapi_key, model\u001b[38;5;241m=\u001b[39m\u001b[38;5;124m\"\u001b[39m\u001b[38;5;124mgpt-4-1106-preview\u001b[39m\u001b[38;5;124m\"\u001b[39m, temperature\u001b[38;5;241m=\u001b[39m\u001b[38;5;241m0\u001b[39m),\n\u001b[1;32m     47\u001b[0m     output_cls\u001b[38;5;241m=\u001b[39mSummaryResult,\n\u001b[1;32m     48\u001b[0m     prompt_template_str\u001b[38;5;241m=\u001b[39mprompt_template_str,\n\u001b[1;32m     49\u001b[0m     verbose\u001b[38;5;241m=\u001b[39m\u001b[38;5;28;01mFalse\u001b[39;00m,\n\u001b[1;32m     50\u001b[0m )\n\u001b[0;32m---> 51\u001b[0m output \u001b[38;5;241m=\u001b[39m \u001b[43mprogram\u001b[49m\u001b[43m(\u001b[49m\n\u001b[1;32m     52\u001b[0m \u001b[43m    \u001b[49m\u001b[43msummary_theme\u001b[49m\u001b[38;5;241;43m=\u001b[39;49m\u001b[43msummary_theme\u001b[49m\u001b[38;5;241;43m.\u001b[39;49m\u001b[43mmodel_dump\u001b[49m\u001b[43m(\u001b[49m\u001b[43m)\u001b[49m\u001b[43m,\u001b[49m\u001b[43m \u001b[49m\u001b[43mconversation\u001b[49m\u001b[38;5;241;43m=\u001b[39;49m\u001b[43mconversation\u001b[49m\u001b[43m[\u001b[49m\u001b[38;5;124;43m\"\u001b[39;49m\u001b[38;5;124;43mmessages\u001b[39;49m\u001b[38;5;124;43m\"\u001b[39;49m\u001b[43m]\u001b[49m\n\u001b[1;32m     53\u001b[0m \u001b[43m\u001b[49m\u001b[43m)\u001b[49m\n\u001b[1;32m     54\u001b[0m \u001b[38;5;28;01mreturn\u001b[39;00m output\n",
      "File \u001b[0;32m~/projects/turing/character.ai/character_tasks/venv/lib/python3.9/site-packages/llama_index/program/openai_program.py:171\u001b[0m, in \u001b[0;36mOpenAIPydanticProgram.__call__\u001b[0;34m(self, llm_kwargs, *args, **kwargs)\u001b[0m\n\u001b[1;32m    167\u001b[0m openai_fn_spec \u001b[38;5;241m=\u001b[39m to_openai_tool(\u001b[38;5;28mself\u001b[39m\u001b[38;5;241m.\u001b[39m_output_cls, description\u001b[38;5;241m=\u001b[39mdescription)\n\u001b[1;32m    169\u001b[0m messages \u001b[38;5;241m=\u001b[39m \u001b[38;5;28mself\u001b[39m\u001b[38;5;241m.\u001b[39m_prompt\u001b[38;5;241m.\u001b[39mformat_messages(llm\u001b[38;5;241m=\u001b[39m\u001b[38;5;28mself\u001b[39m\u001b[38;5;241m.\u001b[39m_llm, \u001b[38;5;241m*\u001b[39m\u001b[38;5;241m*\u001b[39mkwargs)\n\u001b[0;32m--> 171\u001b[0m chat_response \u001b[38;5;241m=\u001b[39m \u001b[38;5;28;43mself\u001b[39;49m\u001b[38;5;241;43m.\u001b[39;49m\u001b[43m_llm\u001b[49m\u001b[38;5;241;43m.\u001b[39;49m\u001b[43mchat\u001b[49m\u001b[43m(\u001b[49m\n\u001b[1;32m    172\u001b[0m \u001b[43m    \u001b[49m\u001b[43mmessages\u001b[49m\u001b[38;5;241;43m=\u001b[39;49m\u001b[43mmessages\u001b[49m\u001b[43m,\u001b[49m\n\u001b[1;32m    173\u001b[0m \u001b[43m    \u001b[49m\u001b[43mtools\u001b[49m\u001b[38;5;241;43m=\u001b[39;49m\u001b[43m[\u001b[49m\u001b[43mopenai_fn_spec\u001b[49m\u001b[43m]\u001b[49m\u001b[43m,\u001b[49m\n\u001b[1;32m    174\u001b[0m \u001b[43m    \u001b[49m\u001b[43mtool_choice\u001b[49m\u001b[38;5;241;43m=\u001b[39;49m\u001b[38;5;28;43mself\u001b[39;49m\u001b[38;5;241;43m.\u001b[39;49m\u001b[43m_tool_choice\u001b[49m\u001b[43m,\u001b[49m\n\u001b[1;32m    175\u001b[0m \u001b[43m    \u001b[49m\u001b[38;5;241;43m*\u001b[39;49m\u001b[38;5;241;43m*\u001b[39;49m\u001b[43mllm_kwargs\u001b[49m\u001b[43m,\u001b[49m\n\u001b[1;32m    176\u001b[0m \u001b[43m\u001b[49m\u001b[43m)\u001b[49m\n\u001b[1;32m    177\u001b[0m message \u001b[38;5;241m=\u001b[39m chat_response\u001b[38;5;241m.\u001b[39mmessage\n\u001b[1;32m    178\u001b[0m \u001b[38;5;28;01mif\u001b[39;00m \u001b[38;5;124m\"\u001b[39m\u001b[38;5;124mtool_calls\u001b[39m\u001b[38;5;124m\"\u001b[39m \u001b[38;5;129;01mnot\u001b[39;00m \u001b[38;5;129;01min\u001b[39;00m message\u001b[38;5;241m.\u001b[39madditional_kwargs:\n",
      "File \u001b[0;32m~/projects/turing/character.ai/character_tasks/venv/lib/python3.9/site-packages/llama_index/llms/base.py:97\u001b[0m, in \u001b[0;36mllm_chat_callback.<locals>.wrap.<locals>.wrapped_llm_chat\u001b[0;34m(_self, messages, **kwargs)\u001b[0m\n\u001b[1;32m     88\u001b[0m \u001b[38;5;28;01mwith\u001b[39;00m wrapper_logic(_self) \u001b[38;5;28;01mas\u001b[39;00m callback_manager:\n\u001b[1;32m     89\u001b[0m     event_id \u001b[38;5;241m=\u001b[39m callback_manager\u001b[38;5;241m.\u001b[39mon_event_start(\n\u001b[1;32m     90\u001b[0m         CBEventType\u001b[38;5;241m.\u001b[39mLLM,\n\u001b[1;32m     91\u001b[0m         payload\u001b[38;5;241m=\u001b[39m{\n\u001b[0;32m   (...)\u001b[0m\n\u001b[1;32m     95\u001b[0m         },\n\u001b[1;32m     96\u001b[0m     )\n\u001b[0;32m---> 97\u001b[0m     f_return_val \u001b[38;5;241m=\u001b[39m \u001b[43mf\u001b[49m\u001b[43m(\u001b[49m\u001b[43m_self\u001b[49m\u001b[43m,\u001b[49m\u001b[43m \u001b[49m\u001b[43mmessages\u001b[49m\u001b[43m,\u001b[49m\u001b[43m \u001b[49m\u001b[38;5;241;43m*\u001b[39;49m\u001b[38;5;241;43m*\u001b[39;49m\u001b[43mkwargs\u001b[49m\u001b[43m)\u001b[49m\n\u001b[1;32m     99\u001b[0m     \u001b[38;5;28;01mif\u001b[39;00m \u001b[38;5;28misinstance\u001b[39m(f_return_val, Generator):\n\u001b[1;32m    100\u001b[0m         \u001b[38;5;66;03m# intercept the generator and add a callback to the end\u001b[39;00m\n\u001b[1;32m    101\u001b[0m         \u001b[38;5;28;01mdef\u001b[39;00m \u001b[38;5;21mwrapped_gen\u001b[39m() \u001b[38;5;241m-\u001b[39m\u001b[38;5;241m>\u001b[39m ChatResponseGen:\n",
      "File \u001b[0;32m~/projects/turing/character.ai/character_tasks/venv/lib/python3.9/site-packages/llama_index/llms/openai.py:234\u001b[0m, in \u001b[0;36mOpenAI.chat\u001b[0;34m(self, messages, **kwargs)\u001b[0m\n\u001b[1;32m    232\u001b[0m \u001b[38;5;28;01melse\u001b[39;00m:\n\u001b[1;32m    233\u001b[0m     chat_fn \u001b[38;5;241m=\u001b[39m completion_to_chat_decorator(\u001b[38;5;28mself\u001b[39m\u001b[38;5;241m.\u001b[39m_complete)\n\u001b[0;32m--> 234\u001b[0m \u001b[38;5;28;01mreturn\u001b[39;00m \u001b[43mchat_fn\u001b[49m\u001b[43m(\u001b[49m\u001b[43mmessages\u001b[49m\u001b[43m,\u001b[49m\u001b[43m \u001b[49m\u001b[38;5;241;43m*\u001b[39;49m\u001b[38;5;241;43m*\u001b[39;49m\u001b[43mkwargs\u001b[49m\u001b[43m)\u001b[49m\n",
      "File \u001b[0;32m~/projects/turing/character.ai/character_tasks/venv/lib/python3.9/site-packages/llama_index/llms/openai.py:289\u001b[0m, in \u001b[0;36mOpenAI._chat\u001b[0;34m(self, messages, **kwargs)\u001b[0m\n\u001b[1;32m    287\u001b[0m client \u001b[38;5;241m=\u001b[39m \u001b[38;5;28mself\u001b[39m\u001b[38;5;241m.\u001b[39m_get_client()\n\u001b[1;32m    288\u001b[0m message_dicts \u001b[38;5;241m=\u001b[39m to_openai_message_dicts(messages)\n\u001b[0;32m--> 289\u001b[0m response \u001b[38;5;241m=\u001b[39m \u001b[43mclient\u001b[49m\u001b[38;5;241;43m.\u001b[39;49m\u001b[43mchat\u001b[49m\u001b[38;5;241;43m.\u001b[39;49m\u001b[43mcompletions\u001b[49m\u001b[38;5;241;43m.\u001b[39;49m\u001b[43mcreate\u001b[49m\u001b[43m(\u001b[49m\n\u001b[1;32m    290\u001b[0m \u001b[43m    \u001b[49m\u001b[43mmessages\u001b[49m\u001b[38;5;241;43m=\u001b[39;49m\u001b[43mmessage_dicts\u001b[49m\u001b[43m,\u001b[49m\n\u001b[1;32m    291\u001b[0m \u001b[43m    \u001b[49m\u001b[43mstream\u001b[49m\u001b[38;5;241;43m=\u001b[39;49m\u001b[38;5;28;43;01mFalse\u001b[39;49;00m\u001b[43m,\u001b[49m\n\u001b[1;32m    292\u001b[0m \u001b[43m    \u001b[49m\u001b[38;5;241;43m*\u001b[39;49m\u001b[38;5;241;43m*\u001b[39;49m\u001b[38;5;28;43mself\u001b[39;49m\u001b[38;5;241;43m.\u001b[39;49m\u001b[43m_get_model_kwargs\u001b[49m\u001b[43m(\u001b[49m\u001b[38;5;241;43m*\u001b[39;49m\u001b[38;5;241;43m*\u001b[39;49m\u001b[43mkwargs\u001b[49m\u001b[43m)\u001b[49m\u001b[43m,\u001b[49m\n\u001b[1;32m    293\u001b[0m \u001b[43m\u001b[49m\u001b[43m)\u001b[49m\n\u001b[1;32m    294\u001b[0m openai_message \u001b[38;5;241m=\u001b[39m response\u001b[38;5;241m.\u001b[39mchoices[\u001b[38;5;241m0\u001b[39m]\u001b[38;5;241m.\u001b[39mmessage\n\u001b[1;32m    295\u001b[0m message \u001b[38;5;241m=\u001b[39m from_openai_message(openai_message)\n",
      "File \u001b[0;32m~/projects/turing/character.ai/character_tasks/venv/lib/python3.9/site-packages/openai/_utils/_utils.py:303\u001b[0m, in \u001b[0;36mrequired_args.<locals>.inner.<locals>.wrapper\u001b[0;34m(*args, **kwargs)\u001b[0m\n\u001b[1;32m    301\u001b[0m             msg \u001b[38;5;241m=\u001b[39m \u001b[38;5;124mf\u001b[39m\u001b[38;5;124m\"\u001b[39m\u001b[38;5;124mMissing required argument: \u001b[39m\u001b[38;5;132;01m{\u001b[39;00mquote(missing[\u001b[38;5;241m0\u001b[39m])\u001b[38;5;132;01m}\u001b[39;00m\u001b[38;5;124m\"\u001b[39m\n\u001b[1;32m    302\u001b[0m     \u001b[38;5;28;01mraise\u001b[39;00m \u001b[38;5;167;01mTypeError\u001b[39;00m(msg)\n\u001b[0;32m--> 303\u001b[0m \u001b[38;5;28;01mreturn\u001b[39;00m \u001b[43mfunc\u001b[49m\u001b[43m(\u001b[49m\u001b[38;5;241;43m*\u001b[39;49m\u001b[43margs\u001b[49m\u001b[43m,\u001b[49m\u001b[43m \u001b[49m\u001b[38;5;241;43m*\u001b[39;49m\u001b[38;5;241;43m*\u001b[39;49m\u001b[43mkwargs\u001b[49m\u001b[43m)\u001b[49m\n",
      "File \u001b[0;32m~/projects/turing/character.ai/character_tasks/venv/lib/python3.9/site-packages/openai/resources/chat/completions.py:604\u001b[0m, in \u001b[0;36mCompletions.create\u001b[0;34m(self, messages, model, frequency_penalty, function_call, functions, logit_bias, max_tokens, n, presence_penalty, response_format, seed, stop, stream, temperature, tool_choice, tools, top_p, user, extra_headers, extra_query, extra_body, timeout)\u001b[0m\n\u001b[1;32m    557\u001b[0m \u001b[38;5;129m@required_args\u001b[39m([\u001b[38;5;124m\"\u001b[39m\u001b[38;5;124mmessages\u001b[39m\u001b[38;5;124m\"\u001b[39m, \u001b[38;5;124m\"\u001b[39m\u001b[38;5;124mmodel\u001b[39m\u001b[38;5;124m\"\u001b[39m], [\u001b[38;5;124m\"\u001b[39m\u001b[38;5;124mmessages\u001b[39m\u001b[38;5;124m\"\u001b[39m, \u001b[38;5;124m\"\u001b[39m\u001b[38;5;124mmodel\u001b[39m\u001b[38;5;124m\"\u001b[39m, \u001b[38;5;124m\"\u001b[39m\u001b[38;5;124mstream\u001b[39m\u001b[38;5;124m\"\u001b[39m])\n\u001b[1;32m    558\u001b[0m \u001b[38;5;28;01mdef\u001b[39;00m \u001b[38;5;21mcreate\u001b[39m(\n\u001b[1;32m    559\u001b[0m     \u001b[38;5;28mself\u001b[39m,\n\u001b[0;32m   (...)\u001b[0m\n\u001b[1;32m    602\u001b[0m     timeout: \u001b[38;5;28mfloat\u001b[39m \u001b[38;5;241m|\u001b[39m httpx\u001b[38;5;241m.\u001b[39mTimeout \u001b[38;5;241m|\u001b[39m \u001b[38;5;28;01mNone\u001b[39;00m \u001b[38;5;241m|\u001b[39m NotGiven \u001b[38;5;241m=\u001b[39m NOT_GIVEN,\n\u001b[1;32m    603\u001b[0m ) \u001b[38;5;241m-\u001b[39m\u001b[38;5;241m>\u001b[39m ChatCompletion \u001b[38;5;241m|\u001b[39m Stream[ChatCompletionChunk]:\n\u001b[0;32m--> 604\u001b[0m     \u001b[38;5;28;01mreturn\u001b[39;00m \u001b[38;5;28;43mself\u001b[39;49m\u001b[38;5;241;43m.\u001b[39;49m\u001b[43m_post\u001b[49m\u001b[43m(\u001b[49m\n\u001b[1;32m    605\u001b[0m \u001b[43m        \u001b[49m\u001b[38;5;124;43m\"\u001b[39;49m\u001b[38;5;124;43m/chat/completions\u001b[39;49m\u001b[38;5;124;43m\"\u001b[39;49m\u001b[43m,\u001b[49m\n\u001b[1;32m    606\u001b[0m \u001b[43m        \u001b[49m\u001b[43mbody\u001b[49m\u001b[38;5;241;43m=\u001b[39;49m\u001b[43mmaybe_transform\u001b[49m\u001b[43m(\u001b[49m\n\u001b[1;32m    607\u001b[0m \u001b[43m            \u001b[49m\u001b[43m{\u001b[49m\n\u001b[1;32m    608\u001b[0m \u001b[43m                \u001b[49m\u001b[38;5;124;43m\"\u001b[39;49m\u001b[38;5;124;43mmessages\u001b[39;49m\u001b[38;5;124;43m\"\u001b[39;49m\u001b[43m:\u001b[49m\u001b[43m \u001b[49m\u001b[43mmessages\u001b[49m\u001b[43m,\u001b[49m\n\u001b[1;32m    609\u001b[0m \u001b[43m                \u001b[49m\u001b[38;5;124;43m\"\u001b[39;49m\u001b[38;5;124;43mmodel\u001b[39;49m\u001b[38;5;124;43m\"\u001b[39;49m\u001b[43m:\u001b[49m\u001b[43m \u001b[49m\u001b[43mmodel\u001b[49m\u001b[43m,\u001b[49m\n\u001b[1;32m    610\u001b[0m \u001b[43m                \u001b[49m\u001b[38;5;124;43m\"\u001b[39;49m\u001b[38;5;124;43mfrequency_penalty\u001b[39;49m\u001b[38;5;124;43m\"\u001b[39;49m\u001b[43m:\u001b[49m\u001b[43m \u001b[49m\u001b[43mfrequency_penalty\u001b[49m\u001b[43m,\u001b[49m\n\u001b[1;32m    611\u001b[0m \u001b[43m                \u001b[49m\u001b[38;5;124;43m\"\u001b[39;49m\u001b[38;5;124;43mfunction_call\u001b[39;49m\u001b[38;5;124;43m\"\u001b[39;49m\u001b[43m:\u001b[49m\u001b[43m \u001b[49m\u001b[43mfunction_call\u001b[49m\u001b[43m,\u001b[49m\n\u001b[1;32m    612\u001b[0m \u001b[43m                \u001b[49m\u001b[38;5;124;43m\"\u001b[39;49m\u001b[38;5;124;43mfunctions\u001b[39;49m\u001b[38;5;124;43m\"\u001b[39;49m\u001b[43m:\u001b[49m\u001b[43m \u001b[49m\u001b[43mfunctions\u001b[49m\u001b[43m,\u001b[49m\n\u001b[1;32m    613\u001b[0m \u001b[43m                \u001b[49m\u001b[38;5;124;43m\"\u001b[39;49m\u001b[38;5;124;43mlogit_bias\u001b[39;49m\u001b[38;5;124;43m\"\u001b[39;49m\u001b[43m:\u001b[49m\u001b[43m \u001b[49m\u001b[43mlogit_bias\u001b[49m\u001b[43m,\u001b[49m\n\u001b[1;32m    614\u001b[0m \u001b[43m                \u001b[49m\u001b[38;5;124;43m\"\u001b[39;49m\u001b[38;5;124;43mmax_tokens\u001b[39;49m\u001b[38;5;124;43m\"\u001b[39;49m\u001b[43m:\u001b[49m\u001b[43m \u001b[49m\u001b[43mmax_tokens\u001b[49m\u001b[43m,\u001b[49m\n\u001b[1;32m    615\u001b[0m \u001b[43m                \u001b[49m\u001b[38;5;124;43m\"\u001b[39;49m\u001b[38;5;124;43mn\u001b[39;49m\u001b[38;5;124;43m\"\u001b[39;49m\u001b[43m:\u001b[49m\u001b[43m \u001b[49m\u001b[43mn\u001b[49m\u001b[43m,\u001b[49m\n\u001b[1;32m    616\u001b[0m \u001b[43m                \u001b[49m\u001b[38;5;124;43m\"\u001b[39;49m\u001b[38;5;124;43mpresence_penalty\u001b[39;49m\u001b[38;5;124;43m\"\u001b[39;49m\u001b[43m:\u001b[49m\u001b[43m \u001b[49m\u001b[43mpresence_penalty\u001b[49m\u001b[43m,\u001b[49m\n\u001b[1;32m    617\u001b[0m \u001b[43m                \u001b[49m\u001b[38;5;124;43m\"\u001b[39;49m\u001b[38;5;124;43mresponse_format\u001b[39;49m\u001b[38;5;124;43m\"\u001b[39;49m\u001b[43m:\u001b[49m\u001b[43m \u001b[49m\u001b[43mresponse_format\u001b[49m\u001b[43m,\u001b[49m\n\u001b[1;32m    618\u001b[0m \u001b[43m                \u001b[49m\u001b[38;5;124;43m\"\u001b[39;49m\u001b[38;5;124;43mseed\u001b[39;49m\u001b[38;5;124;43m\"\u001b[39;49m\u001b[43m:\u001b[49m\u001b[43m \u001b[49m\u001b[43mseed\u001b[49m\u001b[43m,\u001b[49m\n\u001b[1;32m    619\u001b[0m \u001b[43m                \u001b[49m\u001b[38;5;124;43m\"\u001b[39;49m\u001b[38;5;124;43mstop\u001b[39;49m\u001b[38;5;124;43m\"\u001b[39;49m\u001b[43m:\u001b[49m\u001b[43m \u001b[49m\u001b[43mstop\u001b[49m\u001b[43m,\u001b[49m\n\u001b[1;32m    620\u001b[0m \u001b[43m                \u001b[49m\u001b[38;5;124;43m\"\u001b[39;49m\u001b[38;5;124;43mstream\u001b[39;49m\u001b[38;5;124;43m\"\u001b[39;49m\u001b[43m:\u001b[49m\u001b[43m \u001b[49m\u001b[43mstream\u001b[49m\u001b[43m,\u001b[49m\n\u001b[1;32m    621\u001b[0m \u001b[43m                \u001b[49m\u001b[38;5;124;43m\"\u001b[39;49m\u001b[38;5;124;43mtemperature\u001b[39;49m\u001b[38;5;124;43m\"\u001b[39;49m\u001b[43m:\u001b[49m\u001b[43m \u001b[49m\u001b[43mtemperature\u001b[49m\u001b[43m,\u001b[49m\n\u001b[1;32m    622\u001b[0m \u001b[43m                \u001b[49m\u001b[38;5;124;43m\"\u001b[39;49m\u001b[38;5;124;43mtool_choice\u001b[39;49m\u001b[38;5;124;43m\"\u001b[39;49m\u001b[43m:\u001b[49m\u001b[43m \u001b[49m\u001b[43mtool_choice\u001b[49m\u001b[43m,\u001b[49m\n\u001b[1;32m    623\u001b[0m \u001b[43m                \u001b[49m\u001b[38;5;124;43m\"\u001b[39;49m\u001b[38;5;124;43mtools\u001b[39;49m\u001b[38;5;124;43m\"\u001b[39;49m\u001b[43m:\u001b[49m\u001b[43m \u001b[49m\u001b[43mtools\u001b[49m\u001b[43m,\u001b[49m\n\u001b[1;32m    624\u001b[0m \u001b[43m                \u001b[49m\u001b[38;5;124;43m\"\u001b[39;49m\u001b[38;5;124;43mtop_p\u001b[39;49m\u001b[38;5;124;43m\"\u001b[39;49m\u001b[43m:\u001b[49m\u001b[43m \u001b[49m\u001b[43mtop_p\u001b[49m\u001b[43m,\u001b[49m\n\u001b[1;32m    625\u001b[0m \u001b[43m                \u001b[49m\u001b[38;5;124;43m\"\u001b[39;49m\u001b[38;5;124;43muser\u001b[39;49m\u001b[38;5;124;43m\"\u001b[39;49m\u001b[43m:\u001b[49m\u001b[43m \u001b[49m\u001b[43muser\u001b[49m\u001b[43m,\u001b[49m\n\u001b[1;32m    626\u001b[0m \u001b[43m            \u001b[49m\u001b[43m}\u001b[49m\u001b[43m,\u001b[49m\n\u001b[1;32m    627\u001b[0m \u001b[43m            \u001b[49m\u001b[43mcompletion_create_params\u001b[49m\u001b[38;5;241;43m.\u001b[39;49m\u001b[43mCompletionCreateParams\u001b[49m\u001b[43m,\u001b[49m\n\u001b[1;32m    628\u001b[0m \u001b[43m        \u001b[49m\u001b[43m)\u001b[49m\u001b[43m,\u001b[49m\n\u001b[1;32m    629\u001b[0m \u001b[43m        \u001b[49m\u001b[43moptions\u001b[49m\u001b[38;5;241;43m=\u001b[39;49m\u001b[43mmake_request_options\u001b[49m\u001b[43m(\u001b[49m\n\u001b[1;32m    630\u001b[0m \u001b[43m            \u001b[49m\u001b[43mextra_headers\u001b[49m\u001b[38;5;241;43m=\u001b[39;49m\u001b[43mextra_headers\u001b[49m\u001b[43m,\u001b[49m\u001b[43m \u001b[49m\u001b[43mextra_query\u001b[49m\u001b[38;5;241;43m=\u001b[39;49m\u001b[43mextra_query\u001b[49m\u001b[43m,\u001b[49m\u001b[43m \u001b[49m\u001b[43mextra_body\u001b[49m\u001b[38;5;241;43m=\u001b[39;49m\u001b[43mextra_body\u001b[49m\u001b[43m,\u001b[49m\u001b[43m \u001b[49m\u001b[43mtimeout\u001b[49m\u001b[38;5;241;43m=\u001b[39;49m\u001b[43mtimeout\u001b[49m\n\u001b[1;32m    631\u001b[0m \u001b[43m        \u001b[49m\u001b[43m)\u001b[49m\u001b[43m,\u001b[49m\n\u001b[1;32m    632\u001b[0m \u001b[43m        \u001b[49m\u001b[43mcast_to\u001b[49m\u001b[38;5;241;43m=\u001b[39;49m\u001b[43mChatCompletion\u001b[49m\u001b[43m,\u001b[49m\n\u001b[1;32m    633\u001b[0m \u001b[43m        \u001b[49m\u001b[43mstream\u001b[49m\u001b[38;5;241;43m=\u001b[39;49m\u001b[43mstream\u001b[49m\u001b[43m \u001b[49m\u001b[38;5;129;43;01mor\u001b[39;49;00m\u001b[43m \u001b[49m\u001b[38;5;28;43;01mFalse\u001b[39;49;00m\u001b[43m,\u001b[49m\n\u001b[1;32m    634\u001b[0m \u001b[43m        \u001b[49m\u001b[43mstream_cls\u001b[49m\u001b[38;5;241;43m=\u001b[39;49m\u001b[43mStream\u001b[49m\u001b[43m[\u001b[49m\u001b[43mChatCompletionChunk\u001b[49m\u001b[43m]\u001b[49m\u001b[43m,\u001b[49m\n\u001b[1;32m    635\u001b[0m \u001b[43m    \u001b[49m\u001b[43m)\u001b[49m\n",
      "File \u001b[0;32m~/projects/turing/character.ai/character_tasks/venv/lib/python3.9/site-packages/openai/_base_client.py:1088\u001b[0m, in \u001b[0;36mSyncAPIClient.post\u001b[0;34m(self, path, cast_to, body, options, files, stream, stream_cls)\u001b[0m\n\u001b[1;32m   1074\u001b[0m \u001b[38;5;28;01mdef\u001b[39;00m \u001b[38;5;21mpost\u001b[39m(\n\u001b[1;32m   1075\u001b[0m     \u001b[38;5;28mself\u001b[39m,\n\u001b[1;32m   1076\u001b[0m     path: \u001b[38;5;28mstr\u001b[39m,\n\u001b[0;32m   (...)\u001b[0m\n\u001b[1;32m   1083\u001b[0m     stream_cls: \u001b[38;5;28mtype\u001b[39m[_StreamT] \u001b[38;5;241m|\u001b[39m \u001b[38;5;28;01mNone\u001b[39;00m \u001b[38;5;241m=\u001b[39m \u001b[38;5;28;01mNone\u001b[39;00m,\n\u001b[1;32m   1084\u001b[0m ) \u001b[38;5;241m-\u001b[39m\u001b[38;5;241m>\u001b[39m ResponseT \u001b[38;5;241m|\u001b[39m _StreamT:\n\u001b[1;32m   1085\u001b[0m     opts \u001b[38;5;241m=\u001b[39m FinalRequestOptions\u001b[38;5;241m.\u001b[39mconstruct(\n\u001b[1;32m   1086\u001b[0m         method\u001b[38;5;241m=\u001b[39m\u001b[38;5;124m\"\u001b[39m\u001b[38;5;124mpost\u001b[39m\u001b[38;5;124m\"\u001b[39m, url\u001b[38;5;241m=\u001b[39mpath, json_data\u001b[38;5;241m=\u001b[39mbody, files\u001b[38;5;241m=\u001b[39mto_httpx_files(files), \u001b[38;5;241m*\u001b[39m\u001b[38;5;241m*\u001b[39moptions\n\u001b[1;32m   1087\u001b[0m     )\n\u001b[0;32m-> 1088\u001b[0m     \u001b[38;5;28;01mreturn\u001b[39;00m cast(ResponseT, \u001b[38;5;28;43mself\u001b[39;49m\u001b[38;5;241;43m.\u001b[39;49m\u001b[43mrequest\u001b[49m\u001b[43m(\u001b[49m\u001b[43mcast_to\u001b[49m\u001b[43m,\u001b[49m\u001b[43m \u001b[49m\u001b[43mopts\u001b[49m\u001b[43m,\u001b[49m\u001b[43m \u001b[49m\u001b[43mstream\u001b[49m\u001b[38;5;241;43m=\u001b[39;49m\u001b[43mstream\u001b[49m\u001b[43m,\u001b[49m\u001b[43m \u001b[49m\u001b[43mstream_cls\u001b[49m\u001b[38;5;241;43m=\u001b[39;49m\u001b[43mstream_cls\u001b[49m\u001b[43m)\u001b[49m)\n",
      "File \u001b[0;32m~/projects/turing/character.ai/character_tasks/venv/lib/python3.9/site-packages/openai/_base_client.py:853\u001b[0m, in \u001b[0;36mSyncAPIClient.request\u001b[0;34m(self, cast_to, options, remaining_retries, stream, stream_cls)\u001b[0m\n\u001b[1;32m    844\u001b[0m \u001b[38;5;28;01mdef\u001b[39;00m \u001b[38;5;21mrequest\u001b[39m(\n\u001b[1;32m    845\u001b[0m     \u001b[38;5;28mself\u001b[39m,\n\u001b[1;32m    846\u001b[0m     cast_to: Type[ResponseT],\n\u001b[0;32m   (...)\u001b[0m\n\u001b[1;32m    851\u001b[0m     stream_cls: \u001b[38;5;28mtype\u001b[39m[_StreamT] \u001b[38;5;241m|\u001b[39m \u001b[38;5;28;01mNone\u001b[39;00m \u001b[38;5;241m=\u001b[39m \u001b[38;5;28;01mNone\u001b[39;00m,\n\u001b[1;32m    852\u001b[0m ) \u001b[38;5;241m-\u001b[39m\u001b[38;5;241m>\u001b[39m ResponseT \u001b[38;5;241m|\u001b[39m _StreamT:\n\u001b[0;32m--> 853\u001b[0m     \u001b[38;5;28;01mreturn\u001b[39;00m \u001b[38;5;28;43mself\u001b[39;49m\u001b[38;5;241;43m.\u001b[39;49m\u001b[43m_request\u001b[49m\u001b[43m(\u001b[49m\n\u001b[1;32m    854\u001b[0m \u001b[43m        \u001b[49m\u001b[43mcast_to\u001b[49m\u001b[38;5;241;43m=\u001b[39;49m\u001b[43mcast_to\u001b[49m\u001b[43m,\u001b[49m\n\u001b[1;32m    855\u001b[0m \u001b[43m        \u001b[49m\u001b[43moptions\u001b[49m\u001b[38;5;241;43m=\u001b[39;49m\u001b[43moptions\u001b[49m\u001b[43m,\u001b[49m\n\u001b[1;32m    856\u001b[0m \u001b[43m        \u001b[49m\u001b[43mstream\u001b[49m\u001b[38;5;241;43m=\u001b[39;49m\u001b[43mstream\u001b[49m\u001b[43m,\u001b[49m\n\u001b[1;32m    857\u001b[0m \u001b[43m        \u001b[49m\u001b[43mstream_cls\u001b[49m\u001b[38;5;241;43m=\u001b[39;49m\u001b[43mstream_cls\u001b[49m\u001b[43m,\u001b[49m\n\u001b[1;32m    858\u001b[0m \u001b[43m        \u001b[49m\u001b[43mremaining_retries\u001b[49m\u001b[38;5;241;43m=\u001b[39;49m\u001b[43mremaining_retries\u001b[49m\u001b[43m,\u001b[49m\n\u001b[1;32m    859\u001b[0m \u001b[43m    \u001b[49m\u001b[43m)\u001b[49m\n",
      "File \u001b[0;32m~/projects/turing/character.ai/character_tasks/venv/lib/python3.9/site-packages/openai/_base_client.py:930\u001b[0m, in \u001b[0;36mSyncAPIClient._request\u001b[0;34m(self, cast_to, options, remaining_retries, stream, stream_cls)\u001b[0m\n\u001b[1;32m    927\u001b[0m     \u001b[38;5;28;01mif\u001b[39;00m \u001b[38;5;129;01mnot\u001b[39;00m err\u001b[38;5;241m.\u001b[39mresponse\u001b[38;5;241m.\u001b[39mis_closed:\n\u001b[1;32m    928\u001b[0m         err\u001b[38;5;241m.\u001b[39mresponse\u001b[38;5;241m.\u001b[39mread()\n\u001b[0;32m--> 930\u001b[0m     \u001b[38;5;28;01mraise\u001b[39;00m \u001b[38;5;28mself\u001b[39m\u001b[38;5;241m.\u001b[39m_make_status_error_from_response(err\u001b[38;5;241m.\u001b[39mresponse) \u001b[38;5;28;01mfrom\u001b[39;00m \u001b[38;5;28;01mNone\u001b[39;00m\n\u001b[1;32m    932\u001b[0m \u001b[38;5;28;01mreturn\u001b[39;00m \u001b[38;5;28mself\u001b[39m\u001b[38;5;241m.\u001b[39m_process_response(\n\u001b[1;32m    933\u001b[0m     cast_to\u001b[38;5;241m=\u001b[39mcast_to,\n\u001b[1;32m    934\u001b[0m     options\u001b[38;5;241m=\u001b[39moptions,\n\u001b[0;32m   (...)\u001b[0m\n\u001b[1;32m    937\u001b[0m     stream_cls\u001b[38;5;241m=\u001b[39mstream_cls,\n\u001b[1;32m    938\u001b[0m )\n",
      "\u001b[0;31mBadRequestError\u001b[0m: Error code: 400 - {'error': {'message': \"This model's maximum context length is 128000 tokens. However, your messages resulted in 522470 tokens (522365 in the messages, 105 in the functions). Please reduce the length of the messages or functions.\", 'type': 'invalid_request_error', 'param': 'messages', 'code': 'context_length_exceeded'}}"
     ]
    }
   ],
   "source": [
    "from py_files.utils import DATA_DIR\n",
    "import os\n",
    "import pickle\n",
    "from datetime import datetime\n",
    "\n",
    "batch_folder_prefix = DATA_DIR + 'jsonl_conversations/batch_'\n",
    "progress_backup_folder = DATA_DIR + 'progress_backup/'\n",
    "current_date = datetime.now().strftime('%Y-%m-%d__%H-%M-%S')\n",
    "\n",
    "analytics_functions = {\n",
    "    # 'behavioural_tags': get_behavioural_tags_data_batch_conversations,\n",
    "    'use_case_data': get_use_case_data_batch_conversations,\n",
    "    'areas_of_focus_data': get_areas_of_focus_data_batch_conversations,\n",
    "    'domain_data': get_domain_data_batch_conversations,\n",
    "    # 'programming_language_data': get_programming_language_data_batch_conversations,\n",
    "    # 'dependency_data': get_dependency_data_batch_conversations,\n",
    "}\n",
    "batch_results = {}\n",
    "\n",
    "number_of_batches_total = len(BATCH_IDS)\n",
    "for idx, batch_id in enumerate(BATCH_IDS):\n",
    "    print('='*60)\n",
    "    print(f\"Processing batch {idx + 1} of {number_of_batches_total}, batch: {batch_id}\")\n",
    "    batch_folder = batch_folder_prefix + str(batch_id)\n",
    "    batch_results[batch_id] = {}\n",
    "    \n",
    "    for analytics_type, analytics_function in analytics_functions.items():\n",
    "        analytics_remaining = len(analytics_functions) - list(analytics_functions.keys()).index(analytics_type)\n",
    "        print(f\"  Generating {analytics_type.replace('_', ' ')}... ({analytics_remaining}/{len(analytics_functions)} analytics for this batch LEFT)\")\n",
    "        print('-'*5)\n",
    "        batch_results[batch_id][analytics_type] = analytics_function(\n",
    "            batch_folder, max_workers=max_workers, limit_items_to_first_n=LIMIT_ITEMS_TO_FIRST_N\n",
    "        )\n",
    "        # Save progress after each item\n",
    "        progress_backup_path = os.path.join(progress_backup_folder, f'{current_date}.pkl')\n",
    "        os.makedirs(os.path.dirname(progress_backup_path), exist_ok=True)\n",
    "        with open(progress_backup_path, 'wb') as backup_file:\n",
    "            pickle.dump(batch_results, backup_file)\n",
    "\n",
    "print('='*60)\n",
    "print('DONE.')\n",
    "print('='*60)"
   ]
  },
  {
   "cell_type": "code",
   "execution_count": 6,
   "metadata": {},
   "outputs": [
    {
     "ename": "NameError",
     "evalue": "name 'batch_results' is not defined",
     "output_type": "error",
     "traceback": [
      "\u001b[0;31m---------------------------------------------------------------------------\u001b[0m",
      "\u001b[0;31mNameError\u001b[0m                                 Traceback (most recent call last)",
      "Cell \u001b[0;32mIn[6], line 18\u001b[0m\n\u001b[1;32m     15\u001b[0m     \u001b[38;5;28;01mreturn\u001b[39;00m flattened_data\n\u001b[1;32m     17\u001b[0m \u001b[38;5;66;03m# Flatten the batch_results\u001b[39;00m\n\u001b[0;32m---> 18\u001b[0m flattened_data \u001b[38;5;241m=\u001b[39m flatten_batch_results(\u001b[43mbatch_results\u001b[49m)\n\u001b[1;32m     20\u001b[0m \u001b[38;5;66;03m# Create a dataframe from the flattened data\u001b[39;00m\n\u001b[1;32m     21\u001b[0m batch_results_df \u001b[38;5;241m=\u001b[39m pd\u001b[38;5;241m.\u001b[39mDataFrame(flattened_data)\n",
      "\u001b[0;31mNameError\u001b[0m: name 'batch_results' is not defined"
     ]
    }
   ],
   "source": [
    "import pandas as pd\n",
    "\n",
    "# Function to flatten the batch_results into a list of dictionaries\n",
    "def flatten_batch_results(batch_results):\n",
    "    flattened_data = []\n",
    "    for batch_id, analytics_types in batch_results.items():\n",
    "        for analytics_type, analytics_items in analytics_types.items():\n",
    "            for item in analytics_items:\n",
    "                item_data = {\n",
    "                    'batch_id': batch_id,\n",
    "                    'colab_link': item['colab_link'],\n",
    "                    analytics_type: {k: v for k, v in item.items() if k not in ['colab_link', 'id']}\n",
    "                }\n",
    "                flattened_data.append(item_data)\n",
    "    return flattened_data\n",
    "\n",
    "# Flatten the batch_results\n",
    "flattened_data = flatten_batch_results(batch_results)\n",
    "\n",
    "# Create a dataframe from the flattened data\n",
    "batch_results_df = pd.DataFrame(flattened_data)\n",
    "\n",
    "# Function to extend the delivered_df with analytics data\n",
    "def extend_delivered_df(delivered_df, batch_results_df):\n",
    "    for analytics_type in analytics_functions.keys():\n",
    "        analytics_df = batch_results_df[['batch_id', 'colab_link', analytics_type]].dropna()\n",
    "        # Merge on 'colab_link' and exclude 'batch_id' and 'colab_link' from the right dataframe\n",
    "        merged_df = delivered_df.merge(analytics_df, left_on='task_link', right_on='colab_link', how='left', suffixes=('', '_right'))\n",
    "        # Drop the '_right' columns after merging\n",
    "        for col in ['batch_id_right', 'colab_link_right']:\n",
    "            if col in merged_df.columns:\n",
    "                merged_df.drop(columns=[col], inplace=True)\n",
    "        delivered_df = merged_df\n",
    "    return delivered_df\n",
    "\n",
    "# Extend the delivered_df with the batch_results_df\n",
    "extended_delivered_df = extend_delivered_df(delivered_df, batch_results_df)\n",
    "\n",
    "# Filter the extended dataframe to show only rows with non-null analytics data\n",
    "filtered_extended_delivered_df = extended_delivered_df[\n",
    "    extended_delivered_df.filter(like='_data').notnull().any(axis=1)\n",
    "]\n",
    "\n",
    "filtered_extended_delivered_df\n"
   ]
  },
  {
   "cell_type": "code",
   "execution_count": 21,
   "metadata": {},
   "outputs": [
    {
     "data": {
      "text/plain": [
       "Index(['task_link', 'jsonl_link', 'metadata__topic', 'number_of_turns',\n",
       "       'duration_mins', 'batch_id', 'Unnamed: 0', 'colab_link',\n",
       "       'behavioural_tags', 'use_case_data', 'areas_of_focus_data',\n",
       "       'domain_data', 'programming_language_data', 'dependency_data'],\n",
       "      dtype='object')"
      ]
     },
     "execution_count": 21,
     "metadata": {},
     "output_type": "execute_result"
    }
   ],
   "source": [
    "filtered_extended_delivered_df.columns"
   ]
  },
  {
   "cell_type": "code",
   "execution_count": 22,
   "metadata": {},
   "outputs": [],
   "source": [
    "\n",
    "def extract_summary(data):\n",
    "    return data.get('summary', '') if pd.notnull(data) else ''\n",
    "\n",
    "\n",
    "expanded_enriched_df = filtered_extended_delivered_df.copy()\n",
    "expanded_enriched_df.drop(columns=['colab_link', 'jsonl_link'], inplace=True)\n",
    "\n",
    "\n",
    "\n",
    "def expand_language_data(row):\n",
    "    language_presence = row['programming_language_data'].get('language_presence', [])\n",
    "    task_link = row['task_link']\n",
    "    return [{'task_link': task_link, 'language': lang['language'].lower(), 'percentage': lang['percentage']} for lang in language_presence]\n",
    "\n",
    "programming_language_data = expanded_enriched_df.apply(expand_language_data, axis=1).explode()\n",
    "programming_language_data = pd.DataFrame(programming_language_data[~programming_language_data.isna()].tolist())\n",
    "\n",
    "\n",
    "expanded_enriched_df.drop(columns=['programming_language_data'], inplace=True)\n",
    "\n",
    "def expand_dependency_data(row):\n",
    "    dependency_presence = row['dependency_data'].get('dependency_presence', [])\n",
    "    task_link = row['task_link']\n",
    "    return [{'task_link': task_link, 'dependency': dep['dependency'].lower(), 'percentage': dep['percentage']} for dep in dependency_presence]\n",
    "\n",
    "dependency_data = expanded_enriched_df.apply(expand_dependency_data, axis=1).explode()\n",
    "dependency_data = pd.DataFrame(dependency_data[~dependency_data.isna()].tolist())\n",
    "\n",
    "\n",
    "expanded_enriched_df.drop(columns=['dependency_data'], inplace=True)\n",
    "\n",
    "\n",
    "\n",
    "expanded_enriched_df['use_case__summary'] = expanded_enriched_df['use_case_data'].map(extract_summary)\n",
    "\n",
    "def expand_tags(row):\n",
    "    tags = row['use_case_data'].get('tags', [])\n",
    "    task_link = row['task_link']\n",
    "    return [{'task_link': task_link, 'use_case': tag.lower()} for tag in tags]\n",
    "\n",
    "use_case_tags_data = expanded_enriched_df.apply(expand_tags, axis=1).explode()\n",
    "use_case_tags_data = pd.DataFrame(use_case_tags_data[~use_case_tags_data.isna()].tolist())\n",
    "\n",
    "expanded_enriched_df.drop(columns=['use_case_data'], inplace=True)\n",
    "\n",
    "def extract_area_of_focus(data):\n",
    "    if pd.notnull(data):\n",
    "        return {\n",
    "            'area_of_focus__top_level': data.get('top_level', '').lower(),\n",
    "            'area_of_focus__sub_level': data.get('sub_level', '').lower(),\n",
    "            # 'area_of_focus__detailed_level': data.get('detailed_level', '').lower(),\n",
    "            #'area_of_focus_custom_category': data.get('new_filled_category', False)\n",
    "        }\n",
    "    else:\n",
    "        return {\n",
    "            'area_of_focus__top_level': '',\n",
    "            'area_of_focus__sub_level': '',\n",
    "            # 'area_of_focus__detailed_level': '',\n",
    "            #'area_of_focus_custom_category': False\n",
    "        }\n",
    "\n",
    "areas_of_focus_columns = expanded_enriched_df['areas_of_focus_data'].map(extract_area_of_focus).apply(pd.Series)\n",
    "expanded_enriched_df = pd.concat([expanded_enriched_df, areas_of_focus_columns], axis=1)\n",
    "expanded_enriched_df.drop(columns=['areas_of_focus_data'], inplace=True)\n",
    "\n",
    "def expand_domain_data(domain_data):\n",
    "    if pd.notnull(domain_data):\n",
    "        return {\n",
    "            'domain__top_level': domain_data.get('top_level', '').lower(),\n",
    "            'domain__sub_level': domain_data.get('sub_level', '').lower(),\n",
    "            # 'domain__detailed_level': domain_data.get('detailed_level', '').lower()\n",
    "        }\n",
    "    else:\n",
    "        return {\n",
    "            'domain__top_level': '',\n",
    "            'domain__sub_level': '',\n",
    "            # 'domain__detailed_level': ''\n",
    "        }\n",
    "\n",
    "domain_data_columns = expanded_enriched_df['domain_data'].map(expand_domain_data).apply(pd.Series)\n",
    "expanded_enriched_df = pd.concat([expanded_enriched_df, domain_data_columns], axis=1)\n",
    "expanded_enriched_df.drop(columns=['domain_data'], inplace=True)\n",
    "\n",
    "\n",
    "def extract_behavioural_tags(row):\n",
    "    data = row['behavioural_tags']\n",
    "    if pd.notnull(data) and 'behaviours' in data:\n",
    "        tags = data['behaviours']\n",
    "        return [\n",
    "            {\n",
    "                'task_link': row['task_link'],\n",
    "                'top_level': tag.get('top_level', '').lower(),\n",
    "                'sub_level': tag.get('sub_level', '').lower(),\n",
    "                'custom_category': tag.get('new_filled_category', False)\n",
    "            }\n",
    "            for tag in tags\n",
    "        ]\n",
    "    return []\n",
    "\n",
    "behavioural_tags_data = expanded_enriched_df.apply(extract_behavioural_tags, axis=1).explode()\n",
    "behavioural_tags_data = pd.DataFrame(behavioural_tags_data[~behavioural_tags_data.isna()].tolist())\n",
    "\n",
    "\n",
    "expanded_enriched_df.drop(columns=['behavioural_tags'], inplace=True)\n",
    "#cols = list(expanded_enriched_df.columns)\n",
    "#cols.append(cols.pop(cols.index('area_of_focus_custom_category')))\n",
    "#expanded_enriched_df = expanded_enriched_df[cols]\n",
    "\n",
    "\n",
    "\n",
    "\n",
    "import os\n",
    "\n",
    "def save_to_csv(df, dir_name, suffix):\n",
    "    filename = f'{base_filename}-{suffix}.csv'\n",
    "    path = os.path.join(dir_name, filename)\n",
    "    df.to_csv(path)\n",
    "\n",
    "base_filename = f'batches{\".\".join(map(str, BATCH_IDS))}_'\n",
    "base_filename += f'{\"full\" if LIMIT_ITEMS_TO_FIRST_N is None else str(LIMIT_ITEMS_TO_FIRST_N) + \"items\"}'\n",
    "from datetime import datetime\n",
    "timestamp = datetime.now().strftime('%Y-%m-%d_%H-%M-%S')\n",
    "bundle_dir = f'{DATA_DIR}/{base_filename}_{timestamp}'\n",
    "os.makedirs(bundle_dir, exist_ok=True)\n",
    "\n",
    "save_to_csv(expanded_enriched_df, bundle_dir, 'expanded_enriched_df')\n",
    "save_to_csv(use_case_tags_data, bundle_dir, 'use_case_tags')\n",
    "save_to_csv(behavioural_tags_data, bundle_dir, 'behavioural_tags')\n",
    "save_to_csv(programming_language_data, bundle_dir, 'programming_language_tags')\n",
    "save_to_csv(dependency_data, bundle_dir, 'dependency_tags')"
   ]
  },
  {
   "cell_type": "code",
   "execution_count": 23,
   "metadata": {},
   "outputs": [],
   "source": [
    "\n",
    "import gspread\n",
    "from gspread_dataframe import set_with_dataframe\n",
    "\n",
    "from utils import service_account_path\n",
    "\n",
    "PROD_OUTPUT_SHEET_URL = \"https://docs.google.com/spreadsheets/d/1wUWll720oz6Rnc4YKHeWFWbZbTMWbda2rfVh8jPLU2g\"\n",
    "\n",
    "def set_sheet_with_df(sheet_url, sheet_name, df):\n",
    "    gc = gspread.service_account(filename=service_account_path)\n",
    "    sh = gc.open_by_url(sheet_url)\n",
    "    try:\n",
    "        worksheet = sh.worksheet(sheet_name)\n",
    "    except gspread.WorksheetNotFound:\n",
    "        worksheet = sh.add_worksheet(title=sheet_name, rows=1, cols=1)\n",
    "\n",
    "    set_with_dataframe(worksheet, df, resize=True)"
   ]
  },
  {
   "cell_type": "code",
   "execution_count": 36,
   "metadata": {},
   "outputs": [
    {
     "name": "stdout",
     "output_type": "stream",
     "text": [
      "Updating sheet: Expanded Enriched Data\n",
      "Sheet Expanded Enriched Data updated successfully.\n",
      "------------------------------------------------------------\n"
     ]
    },
    {
     "data": {
      "text/plain": [
       "7.9092631340026855"
      ]
     },
     "execution_count": 36,
     "metadata": {},
     "output_type": "execute_result"
    }
   ],
   "source": [
    "sheet_names_and_dataframes = [\n",
    "    ('Expanded Enriched Data', expanded_enriched_df.drop(columns=['Unnamed: 0'])),\n",
    "    ('Behavioural Tags', behavioural_tags_data),\n",
    "    ('Use Case Tags', use_case_tags_data),\n",
    "    ('Programming Language Tags', programming_language_data),\n",
    "    ('Dependency Tags', dependency_data)\n",
    "]\n",
    "\n",
    "import time\n",
    "\n",
    "start_time = time.time()\n",
    "for sheet_name, dataframe in sheet_names_and_dataframes:\n",
    "    print(f\"Updating sheet: {sheet_name}\")\n",
    "    set_sheet_with_df(PROD_OUTPUT_SHEET_URL, sheet_name, dataframe)\n",
    "    print(f\"Sheet {sheet_name} updated successfully.\")\n",
    "    print('-'*60)\n",
    "\n",
    "time.time() - start_time"
   ]
  },
  {
   "cell_type": "code",
   "execution_count": 33,
   "metadata": {},
   "outputs": [
    {
     "data": {
      "text/html": [
       "<div>\n",
       "<style scoped>\n",
       "    .dataframe tbody tr th:only-of-type {\n",
       "        vertical-align: middle;\n",
       "    }\n",
       "\n",
       "    .dataframe tbody tr th {\n",
       "        vertical-align: top;\n",
       "    }\n",
       "\n",
       "    .dataframe thead th {\n",
       "        text-align: right;\n",
       "    }\n",
       "</style>\n",
       "<table border=\"1\" class=\"dataframe\">\n",
       "  <thead>\n",
       "    <tr style=\"text-align: right;\">\n",
       "      <th></th>\n",
       "      <th>task_link</th>\n",
       "      <th>metadata__topic</th>\n",
       "      <th>number_of_turns</th>\n",
       "      <th>duration_mins</th>\n",
       "      <th>batch_id</th>\n",
       "      <th>Unnamed: 0</th>\n",
       "      <th>use_case__summary</th>\n",
       "      <th>area_of_focus__top_level</th>\n",
       "      <th>area_of_focus__sub_level</th>\n",
       "      <th>area_of_focus__detailed_level</th>\n",
       "      <th>domain__top_level</th>\n",
       "      <th>domain__sub_level</th>\n",
       "      <th>domain__detailed_level</th>\n",
       "    </tr>\n",
       "  </thead>\n",
       "  <tbody>\n",
       "    <tr>\n",
       "      <th>0</th>\n",
       "      <td>https://colab.research.google.com/drive/1X4H8L...</td>\n",
       "      <td>algorithms &gt; by_data_structure &gt; strings</td>\n",
       "      <td>6</td>\n",
       "      <td>119</td>\n",
       "      <td>1</td>\n",
       "      <td>NaN</td>\n",
       "      <td>The user is using the Assistant for coding ass...</td>\n",
       "      <td>basic scripting</td>\n",
       "      <td>write simple code in python</td>\n",
       "      <td>string manipulation and list comprehensions</td>\n",
       "      <td>python basics &amp; scripting</td>\n",
       "      <td>python programming</td>\n",
       "      <td>string manipulation and list comprehensions</td>\n",
       "    </tr>\n",
       "    <tr>\n",
       "      <th>1</th>\n",
       "      <td>https://colab.research.google.com/drive/1G_d7Z...</td>\n",
       "      <td>algorithms &gt; by_data_structure &gt; strings</td>\n",
       "      <td>3</td>\n",
       "      <td>60</td>\n",
       "      <td>1</td>\n",
       "      <td>NaN</td>\n",
       "      <td>The user is using the Assistant for coding ass...</td>\n",
       "      <td>general coding help</td>\n",
       "      <td>explain complex code snippets</td>\n",
       "      <td>modify function logic</td>\n",
       "      <td>python basics &amp; scripting</td>\n",
       "      <td>string manipulation</td>\n",
       "      <td>string reversal with special character handling</td>\n",
       "    </tr>\n",
       "    <tr>\n",
       "      <th>2</th>\n",
       "      <td>https://colab.research.google.com/drive/1vYEPg...</td>\n",
       "      <td>algorithms &gt; by_data_structure &gt; strings</td>\n",
       "      <td>3</td>\n",
       "      <td>50</td>\n",
       "      <td>1</td>\n",
       "      <td>NaN</td>\n",
       "      <td>User utilizes Assistant for coding assistance,...</td>\n",
       "      <td>basic scripting</td>\n",
       "      <td>write simple code in python</td>\n",
       "      <td>string manipulation with conditions</td>\n",
       "      <td>python basics &amp; scripting</td>\n",
       "      <td>string manipulation</td>\n",
       "      <td>list comprehension and string joining</td>\n",
       "    </tr>\n",
       "    <tr>\n",
       "      <th>3</th>\n",
       "      <td>https://colab.research.google.com/drive/1_arMF...</td>\n",
       "      <td>algorithms &gt; by_topic &gt; divide_and_conquer</td>\n",
       "      <td>1</td>\n",
       "      <td>10</td>\n",
       "      <td>1</td>\n",
       "      <td>NaN</td>\n",
       "      <td>User seeks assistance with coding, specificall...</td>\n",
       "      <td>general coding help</td>\n",
       "      <td>explain complex code snippets</td>\n",
       "      <td>merge sort implementation</td>\n",
       "      <td>problem solving</td>\n",
       "      <td>python basics &amp; scripting</td>\n",
       "      <td>algorithm implementation</td>\n",
       "    </tr>\n",
       "    <tr>\n",
       "      <th>4</th>\n",
       "      <td>https://colab.research.google.com/drive/10Ahc4...</td>\n",
       "      <td>algorithms &gt; by_topic &gt; divide_and_conquer</td>\n",
       "      <td>1</td>\n",
       "      <td>10</td>\n",
       "      <td>1</td>\n",
       "      <td>NaN</td>\n",
       "      <td>User employs the Assistant to understand and i...</td>\n",
       "      <td>basic scripting</td>\n",
       "      <td>write simple code in python</td>\n",
       "      <td>exponentiation by squaring</td>\n",
       "      <td>problem solving</td>\n",
       "      <td>algorithms</td>\n",
       "      <td>divide and conquer</td>\n",
       "    </tr>\n",
       "    <tr>\n",
       "      <th>5</th>\n",
       "      <td>https://colab.research.google.com/drive/112imm...</td>\n",
       "      <td>python_language_and_scripting &gt; generators_and...</td>\n",
       "      <td>2</td>\n",
       "      <td>17</td>\n",
       "      <td>1</td>\n",
       "      <td>NaN</td>\n",
       "      <td>The user is utilizing the Assistant to improve...</td>\n",
       "      <td>basic scripting</td>\n",
       "      <td>write simple code in python</td>\n",
       "      <td>implement generator function</td>\n",
       "      <td>python basics &amp; scripting</td>\n",
       "      <td>file handling</td>\n",
       "      <td>generators and memory management</td>\n",
       "    </tr>\n",
       "    <tr>\n",
       "      <th>6</th>\n",
       "      <td>https://colab.research.google.com/drive/126FIJ...</td>\n",
       "      <td>ml_principles</td>\n",
       "      <td>1</td>\n",
       "      <td>11</td>\n",
       "      <td>1</td>\n",
       "      <td>NaN</td>\n",
       "      <td>The user is using the Assistant for educationa...</td>\n",
       "      <td>basic scripting</td>\n",
       "      <td>ml code snippets</td>\n",
       "      <td>cross-validation example</td>\n",
       "      <td>machine learning</td>\n",
       "      <td>model evaluation</td>\n",
       "      <td>cross-validation with scikit-learn</td>\n",
       "    </tr>\n",
       "    <tr>\n",
       "      <th>7</th>\n",
       "      <td>https://colab.research.google.com/drive/16Dh4I...</td>\n",
       "      <td>algorithms &gt; by_data_structure &gt; trees</td>\n",
       "      <td>1</td>\n",
       "      <td>10</td>\n",
       "      <td>1</td>\n",
       "      <td>NaN</td>\n",
       "      <td>User seeks assistance for programming related ...</td>\n",
       "      <td>basic scripting</td>\n",
       "      <td>write simple code in python</td>\n",
       "      <td>binary tree depth function</td>\n",
       "      <td>problem solving</td>\n",
       "      <td>python basics &amp; scripting</td>\n",
       "      <td>algorithms and data structures</td>\n",
       "    </tr>\n",
       "    <tr>\n",
       "      <th>8</th>\n",
       "      <td>https://colab.research.google.com/drive/176efu...</td>\n",
       "      <td>python_language_and_scripting &gt; scripting_and_...</td>\n",
       "      <td>1</td>\n",
       "      <td>10</td>\n",
       "      <td>1</td>\n",
       "      <td>NaN</td>\n",
       "      <td>User employs Assistant for coding assistance i...</td>\n",
       "      <td>basic scripting</td>\n",
       "      <td>write simple code in python</td>\n",
       "      <td>download images using requests</td>\n",
       "      <td>python basics &amp; scripting</td>\n",
       "      <td>scripting</td>\n",
       "      <td>web scraping</td>\n",
       "    </tr>\n",
       "    <tr>\n",
       "      <th>9</th>\n",
       "      <td>https://colab.research.google.com/drive/17jate...</td>\n",
       "      <td>algorithms &gt; by_data_structure &gt; strings</td>\n",
       "      <td>2</td>\n",
       "      <td>20</td>\n",
       "      <td>1</td>\n",
       "      <td>NaN</td>\n",
       "      <td>The user is using the Assistant to learn progr...</td>\n",
       "      <td>basic scripting</td>\n",
       "      <td>write simple code in python</td>\n",
       "      <td>string operations</td>\n",
       "      <td>python basics &amp; scripting</td>\n",
       "      <td>string manipulation</td>\n",
       "      <td>character counting and index finding</td>\n",
       "    </tr>\n",
       "    <tr>\n",
       "      <th>10</th>\n",
       "      <td>https://colab.research.google.com/drive/1890qa...</td>\n",
       "      <td>algorithms &gt; by_data_structure &gt; strings</td>\n",
       "      <td>2</td>\n",
       "      <td>25</td>\n",
       "      <td>1</td>\n",
       "      <td>NaN</td>\n",
       "      <td>User seeks coding assistance for anagram valid...</td>\n",
       "      <td>basic scripting</td>\n",
       "      <td>write simple code in python</td>\n",
       "      <td>anagram check function</td>\n",
       "      <td>python basics &amp; scripting</td>\n",
       "      <td>string manipulation</td>\n",
       "      <td>anagram detection</td>\n",
       "    </tr>\n",
       "    <tr>\n",
       "      <th>11</th>\n",
       "      <td>https://colab.research.google.com/drive/18bKue...</td>\n",
       "      <td>algorithms &gt; by_topic &gt; combinatorics</td>\n",
       "      <td>1</td>\n",
       "      <td>12</td>\n",
       "      <td>1</td>\n",
       "      <td>NaN</td>\n",
       "      <td>User seeks coding assistance for algorithmic p...</td>\n",
       "      <td>basic scripting</td>\n",
       "      <td>write simple code in python</td>\n",
       "      <td>fibonacci sequence algorithm</td>\n",
       "      <td>python basics &amp; scripting</td>\n",
       "      <td>algorithms</td>\n",
       "      <td>fibonacci sequence</td>\n",
       "    </tr>\n",
       "    <tr>\n",
       "      <th>12</th>\n",
       "      <td>https://colab.research.google.com/drive/18JdS3...</td>\n",
       "      <td>algorithms &gt; by_data_structure &gt; stacks</td>\n",
       "      <td>1</td>\n",
       "      <td>10</td>\n",
       "      <td>1</td>\n",
       "      <td>NaN</td>\n",
       "      <td>User employs Assistant for coding assistance t...</td>\n",
       "      <td>general coding help</td>\n",
       "      <td>refactor code</td>\n",
       "      <td>enforce type checking</td>\n",
       "      <td>python basics &amp; scripting</td>\n",
       "      <td>object-oriented programming</td>\n",
       "      <td>type checking in methods</td>\n",
       "    </tr>\n",
       "    <tr>\n",
       "      <th>13</th>\n",
       "      <td>https://colab.research.google.com/drive/19f2Pc...</td>\n",
       "      <td>algorithms &gt; by_data_structure &gt; graphs</td>\n",
       "      <td>1</td>\n",
       "      <td>25</td>\n",
       "      <td>1</td>\n",
       "      <td>NaN</td>\n",
       "      <td>User seeks assistance with algorithm implement...</td>\n",
       "      <td>basic scripting</td>\n",
       "      <td>write simple code in python</td>\n",
       "      <td>dijkstra's algorithm example</td>\n",
       "      <td>problem solving</td>\n",
       "      <td>algorithms</td>\n",
       "      <td>graph algorithms</td>\n",
       "    </tr>\n",
       "    <tr>\n",
       "      <th>14</th>\n",
       "      <td>https://colab.research.google.com/drive/1Awxj_...</td>\n",
       "      <td>algorithms &gt; by_data_structure &gt; trees</td>\n",
       "      <td>1</td>\n",
       "      <td>30</td>\n",
       "      <td>1</td>\n",
       "      <td>NaN</td>\n",
       "      <td>User seeks assistance for coding related to bi...</td>\n",
       "      <td>basic scripting</td>\n",
       "      <td>write simple code in python</td>\n",
       "      <td>tree traversal algorithm</td>\n",
       "      <td>python basics &amp; scripting</td>\n",
       "      <td>algorithms</td>\n",
       "      <td>tree traversal</td>\n",
       "    </tr>\n",
       "    <tr>\n",
       "      <th>15</th>\n",
       "      <td>https://colab.research.google.com/drive/1AY8OR...</td>\n",
       "      <td>python_language_and_scripting &gt; packaging</td>\n",
       "      <td>1</td>\n",
       "      <td>5</td>\n",
       "      <td>1</td>\n",
       "      <td>NaN</td>\n",
       "      <td>User uses Assistant to refine a Python package...</td>\n",
       "      <td>general coding help</td>\n",
       "      <td>refactor code</td>\n",
       "      <td>modify package namespace</td>\n",
       "      <td>python basics &amp; scripting</td>\n",
       "      <td>module management</td>\n",
       "      <td>package initialization</td>\n",
       "    </tr>\n",
       "    <tr>\n",
       "      <th>16</th>\n",
       "      <td>https://colab.research.google.com/drive/1bOkl5...</td>\n",
       "      <td>algorithms &gt; by_topic &gt; dynamic_programming</td>\n",
       "      <td>1</td>\n",
       "      <td>10</td>\n",
       "      <td>1</td>\n",
       "      <td>NaN</td>\n",
       "      <td>The user is using the Assistant to learn progr...</td>\n",
       "      <td>basic scripting</td>\n",
       "      <td>write simple code in python</td>\n",
       "      <td>dynamic programming implementation</td>\n",
       "      <td>problem solving</td>\n",
       "      <td>python basics &amp; scripting</td>\n",
       "      <td>dynamic programming</td>\n",
       "    </tr>\n",
       "    <tr>\n",
       "      <th>17</th>\n",
       "      <td>https://colab.research.google.com/drive/1bwFNi...</td>\n",
       "      <td>python_language_and_scripting &gt; python_2_vs_3</td>\n",
       "      <td>2</td>\n",
       "      <td>10</td>\n",
       "      <td>1</td>\n",
       "      <td>NaN</td>\n",
       "      <td>The user is using the Assistant for coding ass...</td>\n",
       "      <td>basic scripting</td>\n",
       "      <td>write simple code in python</td>\n",
       "      <td>python 2 to 3 migration</td>\n",
       "      <td>python basics &amp; scripting</td>\n",
       "      <td>python 3 syntax</td>\n",
       "      <td>exception handling and string formatting</td>\n",
       "    </tr>\n",
       "    <tr>\n",
       "      <th>18</th>\n",
       "      <td>https://colab.research.google.com/drive/1CghGg...</td>\n",
       "      <td>python_language_and_scripting &gt; basic_python_s...</td>\n",
       "      <td>1</td>\n",
       "      <td>10</td>\n",
       "      <td>1</td>\n",
       "      <td>NaN</td>\n",
       "      <td>User seeks assistance with Python programming ...</td>\n",
       "      <td>basic scripting</td>\n",
       "      <td>write simple code in python</td>\n",
       "      <td>dictionary usage example</td>\n",
       "      <td>python basics &amp; scripting</td>\n",
       "      <td>python data structures</td>\n",
       "      <td>dictionaries and access methods</td>\n",
       "    </tr>\n",
       "    <tr>\n",
       "      <th>19</th>\n",
       "      <td>https://colab.research.google.com/drive/1cpJ9c...</td>\n",
       "      <td>algorithms &gt; by_data_structure &gt; strings</td>\n",
       "      <td>2</td>\n",
       "      <td>20</td>\n",
       "      <td>1</td>\n",
       "      <td>NaN</td>\n",
       "      <td>User employs Assistant to refine code for text...</td>\n",
       "      <td>basic scripting</td>\n",
       "      <td>write simple code in python</td>\n",
       "      <td>string manipulation</td>\n",
       "      <td>python basics &amp; scripting</td>\n",
       "      <td>string manipulation</td>\n",
       "      <td>regular expressions</td>\n",
       "    </tr>\n",
       "    <tr>\n",
       "      <th>20</th>\n",
       "      <td>https://colab.research.google.com/drive/1d5mxl...</td>\n",
       "      <td>algorithms &gt; by_topic &gt; game_theory</td>\n",
       "      <td>1</td>\n",
       "      <td>11</td>\n",
       "      <td>1</td>\n",
       "      <td>NaN</td>\n",
       "      <td>User seeks assistance for academic or research...</td>\n",
       "      <td>basic scripting</td>\n",
       "      <td>write simple code in python</td>\n",
       "      <td>cooperative game theory function</td>\n",
       "      <td>python basics &amp; scripting</td>\n",
       "      <td>python scripting</td>\n",
       "      <td>game theory algorithm implementation</td>\n",
       "    </tr>\n",
       "    <tr>\n",
       "      <th>21</th>\n",
       "      <td>https://colab.research.google.com/drive/1dtjaz...</td>\n",
       "      <td>algorithms &gt; by_data_structure &gt; trees</td>\n",
       "      <td>1</td>\n",
       "      <td>2</td>\n",
       "      <td>1</td>\n",
       "      <td>NaN</td>\n",
       "      <td>User seeks assistance for modifying code for e...</td>\n",
       "      <td>general coding help</td>\n",
       "      <td>explain complex code snippets</td>\n",
       "      <td>add print statement to binary tree traversal</td>\n",
       "      <td>problem solving</td>\n",
       "      <td>algorithms</td>\n",
       "      <td>binary tree traversal</td>\n",
       "    </tr>\n",
       "    <tr>\n",
       "      <th>22</th>\n",
       "      <td>https://colab.research.google.com/drive/1exOkj...</td>\n",
       "      <td>unit_testing_methodology &gt; code_coverage</td>\n",
       "      <td>1</td>\n",
       "      <td>20</td>\n",
       "      <td>1</td>\n",
       "      <td>NaN</td>\n",
       "      <td>User seeks assistance for measuring code cover...</td>\n",
       "      <td>write unit test</td>\n",
       "      <td>cover different languages</td>\n",
       "      <td>python code coverage</td>\n",
       "      <td>testing</td>\n",
       "      <td>code coverage</td>\n",
       "      <td>python code coverage with coverage.py</td>\n",
       "    </tr>\n",
       "    <tr>\n",
       "      <th>23</th>\n",
       "      <td>https://colab.research.google.com/drive/1fdFjW...</td>\n",
       "      <td>algorithms &gt; by_topic &gt; game_theory</td>\n",
       "      <td>1</td>\n",
       "      <td>15</td>\n",
       "      <td>1</td>\n",
       "      <td>NaN</td>\n",
       "      <td>User seeks assistance for game development.</td>\n",
       "      <td>basic scripting</td>\n",
       "      <td>write simple code in python</td>\n",
       "      <td>minimax algorithm implementation</td>\n",
       "      <td>problem solving</td>\n",
       "      <td>python basics &amp; scripting</td>\n",
       "      <td>implementing algorithms</td>\n",
       "    </tr>\n",
       "    <tr>\n",
       "      <th>24</th>\n",
       "      <td>https://colab.research.google.com/drive/1FK4tZ...</td>\n",
       "      <td>algorithms &gt; by_data_structure &gt; heaps</td>\n",
       "      <td>1</td>\n",
       "      <td>20</td>\n",
       "      <td>1</td>\n",
       "      <td>NaN</td>\n",
       "      <td>The user is using the Assistant to modify code...</td>\n",
       "      <td>basic scripting</td>\n",
       "      <td>write simple code in python</td>\n",
       "      <td>heap data structure manipulation</td>\n",
       "      <td>problem solving</td>\n",
       "      <td>python basics &amp; scripting</td>\n",
       "      <td>data structures</td>\n",
       "    </tr>\n",
       "    <tr>\n",
       "      <th>25</th>\n",
       "      <td>https://colab.research.google.com/drive/1fktzA...</td>\n",
       "      <td>unit_testing_methodology &gt; security_testing</td>\n",
       "      <td>1</td>\n",
       "      <td>10</td>\n",
       "      <td>1</td>\n",
       "      <td>NaN</td>\n",
       "      <td>The user is enhancing security for an authenti...</td>\n",
       "      <td>write unit test</td>\n",
       "      <td>cover different languages</td>\n",
       "      <td>python security test</td>\n",
       "      <td>security</td>\n",
       "      <td>application security</td>\n",
       "      <td>user authentication security</td>\n",
       "    </tr>\n",
       "    <tr>\n",
       "      <th>26</th>\n",
       "      <td>https://colab.research.google.com/drive/1flx6g...</td>\n",
       "      <td>algorithms &gt; by_topic &gt; backtracking</td>\n",
       "      <td>1</td>\n",
       "      <td>15</td>\n",
       "      <td>1</td>\n",
       "      <td>NaN</td>\n",
       "      <td>User seeks assistance for programming a comple...</td>\n",
       "      <td>interview preparation</td>\n",
       "      <td>write optimal code</td>\n",
       "      <td>algorithmic coding challenge</td>\n",
       "      <td>problem solving</td>\n",
       "      <td>algorithms</td>\n",
       "      <td>backtracking</td>\n",
       "    </tr>\n",
       "    <tr>\n",
       "      <th>27</th>\n",
       "      <td>https://colab.research.google.com/drive/1fnQWy...</td>\n",
       "      <td>algorithms &gt; by_data_structure &gt; strings</td>\n",
       "      <td>2</td>\n",
       "      <td>20</td>\n",
       "      <td>1</td>\n",
       "      <td>NaN</td>\n",
       "      <td>User seeks programming assistance for string m...</td>\n",
       "      <td>basic scripting</td>\n",
       "      <td>write simple code in python</td>\n",
       "      <td>string manipulation using slicing</td>\n",
       "      <td>python basics &amp; scripting</td>\n",
       "      <td>string manipulation</td>\n",
       "      <td>string slicing</td>\n",
       "    </tr>\n",
       "    <tr>\n",
       "      <th>28</th>\n",
       "      <td>https://colab.research.google.com/drive/1g7T4_...</td>\n",
       "      <td>unit_testing_methodology &gt; integration_testing</td>\n",
       "      <td>1</td>\n",
       "      <td>30</td>\n",
       "      <td>1</td>\n",
       "      <td>NaN</td>\n",
       "      <td>The user is utilizing the Assistant to improve...</td>\n",
       "      <td>write unit test</td>\n",
       "      <td>explain code with comments</td>\n",
       "      <td>add teardown to tests</td>\n",
       "      <td>testing</td>\n",
       "      <td>integration testing</td>\n",
       "      <td>test setup and teardown</td>\n",
       "    </tr>\n",
       "    <tr>\n",
       "      <th>29</th>\n",
       "      <td>https://colab.research.google.com/drive/1GCcxI...</td>\n",
       "      <td>python_language_and_scripting &gt; memory_managem...</td>\n",
       "      <td>1</td>\n",
       "      <td>15</td>\n",
       "      <td>1</td>\n",
       "      <td>NaN</td>\n",
       "      <td>The user is using the Assistant to learn and a...</td>\n",
       "      <td>general coding help</td>\n",
       "      <td>explain complex code snippets</td>\n",
       "      <td>memory profiling in python</td>\n",
       "      <td>python basics &amp; scripting</td>\n",
       "      <td>performance optimization</td>\n",
       "      <td>memory profiling</td>\n",
       "    </tr>\n",
       "  </tbody>\n",
       "</table>\n",
       "</div>"
      ],
      "text/plain": [
       "                                            task_link  \\\n",
       "0   https://colab.research.google.com/drive/1X4H8L...   \n",
       "1   https://colab.research.google.com/drive/1G_d7Z...   \n",
       "2   https://colab.research.google.com/drive/1vYEPg...   \n",
       "3   https://colab.research.google.com/drive/1_arMF...   \n",
       "4   https://colab.research.google.com/drive/10Ahc4...   \n",
       "5   https://colab.research.google.com/drive/112imm...   \n",
       "6   https://colab.research.google.com/drive/126FIJ...   \n",
       "7   https://colab.research.google.com/drive/16Dh4I...   \n",
       "8   https://colab.research.google.com/drive/176efu...   \n",
       "9   https://colab.research.google.com/drive/17jate...   \n",
       "10  https://colab.research.google.com/drive/1890qa...   \n",
       "11  https://colab.research.google.com/drive/18bKue...   \n",
       "12  https://colab.research.google.com/drive/18JdS3...   \n",
       "13  https://colab.research.google.com/drive/19f2Pc...   \n",
       "14  https://colab.research.google.com/drive/1Awxj_...   \n",
       "15  https://colab.research.google.com/drive/1AY8OR...   \n",
       "16  https://colab.research.google.com/drive/1bOkl5...   \n",
       "17  https://colab.research.google.com/drive/1bwFNi...   \n",
       "18  https://colab.research.google.com/drive/1CghGg...   \n",
       "19  https://colab.research.google.com/drive/1cpJ9c...   \n",
       "20  https://colab.research.google.com/drive/1d5mxl...   \n",
       "21  https://colab.research.google.com/drive/1dtjaz...   \n",
       "22  https://colab.research.google.com/drive/1exOkj...   \n",
       "23  https://colab.research.google.com/drive/1fdFjW...   \n",
       "24  https://colab.research.google.com/drive/1FK4tZ...   \n",
       "25  https://colab.research.google.com/drive/1fktzA...   \n",
       "26  https://colab.research.google.com/drive/1flx6g...   \n",
       "27  https://colab.research.google.com/drive/1fnQWy...   \n",
       "28  https://colab.research.google.com/drive/1g7T4_...   \n",
       "29  https://colab.research.google.com/drive/1GCcxI...   \n",
       "\n",
       "                                      metadata__topic number_of_turns  \\\n",
       "0            algorithms > by_data_structure > strings               6   \n",
       "1            algorithms > by_data_structure > strings               3   \n",
       "2            algorithms > by_data_structure > strings               3   \n",
       "3          algorithms > by_topic > divide_and_conquer               1   \n",
       "4          algorithms > by_topic > divide_and_conquer               1   \n",
       "5   python_language_and_scripting > generators_and...               2   \n",
       "6                                       ml_principles               1   \n",
       "7              algorithms > by_data_structure > trees               1   \n",
       "8   python_language_and_scripting > scripting_and_...               1   \n",
       "9            algorithms > by_data_structure > strings               2   \n",
       "10           algorithms > by_data_structure > strings               2   \n",
       "11              algorithms > by_topic > combinatorics               1   \n",
       "12            algorithms > by_data_structure > stacks               1   \n",
       "13            algorithms > by_data_structure > graphs               1   \n",
       "14             algorithms > by_data_structure > trees               1   \n",
       "15          python_language_and_scripting > packaging               1   \n",
       "16        algorithms > by_topic > dynamic_programming               1   \n",
       "17      python_language_and_scripting > python_2_vs_3               2   \n",
       "18  python_language_and_scripting > basic_python_s...               1   \n",
       "19           algorithms > by_data_structure > strings               2   \n",
       "20                algorithms > by_topic > game_theory               1   \n",
       "21             algorithms > by_data_structure > trees               1   \n",
       "22           unit_testing_methodology > code_coverage               1   \n",
       "23                algorithms > by_topic > game_theory               1   \n",
       "24             algorithms > by_data_structure > heaps               1   \n",
       "25        unit_testing_methodology > security_testing               1   \n",
       "26               algorithms > by_topic > backtracking               1   \n",
       "27           algorithms > by_data_structure > strings               2   \n",
       "28     unit_testing_methodology > integration_testing               1   \n",
       "29  python_language_and_scripting > memory_managem...               1   \n",
       "\n",
       "   duration_mins  batch_id  Unnamed: 0  \\\n",
       "0            119         1         NaN   \n",
       "1             60         1         NaN   \n",
       "2             50         1         NaN   \n",
       "3             10         1         NaN   \n",
       "4             10         1         NaN   \n",
       "5             17         1         NaN   \n",
       "6             11         1         NaN   \n",
       "7             10         1         NaN   \n",
       "8             10         1         NaN   \n",
       "9             20         1         NaN   \n",
       "10            25         1         NaN   \n",
       "11            12         1         NaN   \n",
       "12            10         1         NaN   \n",
       "13            25         1         NaN   \n",
       "14            30         1         NaN   \n",
       "15             5         1         NaN   \n",
       "16            10         1         NaN   \n",
       "17            10         1         NaN   \n",
       "18            10         1         NaN   \n",
       "19            20         1         NaN   \n",
       "20            11         1         NaN   \n",
       "21             2         1         NaN   \n",
       "22            20         1         NaN   \n",
       "23            15         1         NaN   \n",
       "24            20         1         NaN   \n",
       "25            10         1         NaN   \n",
       "26            15         1         NaN   \n",
       "27            20         1         NaN   \n",
       "28            30         1         NaN   \n",
       "29            15         1         NaN   \n",
       "\n",
       "                                    use_case__summary  \\\n",
       "0   The user is using the Assistant for coding ass...   \n",
       "1   The user is using the Assistant for coding ass...   \n",
       "2   User utilizes Assistant for coding assistance,...   \n",
       "3   User seeks assistance with coding, specificall...   \n",
       "4   User employs the Assistant to understand and i...   \n",
       "5   The user is utilizing the Assistant to improve...   \n",
       "6   The user is using the Assistant for educationa...   \n",
       "7   User seeks assistance for programming related ...   \n",
       "8   User employs Assistant for coding assistance i...   \n",
       "9   The user is using the Assistant to learn progr...   \n",
       "10  User seeks coding assistance for anagram valid...   \n",
       "11  User seeks coding assistance for algorithmic p...   \n",
       "12  User employs Assistant for coding assistance t...   \n",
       "13  User seeks assistance with algorithm implement...   \n",
       "14  User seeks assistance for coding related to bi...   \n",
       "15  User uses Assistant to refine a Python package...   \n",
       "16  The user is using the Assistant to learn progr...   \n",
       "17  The user is using the Assistant for coding ass...   \n",
       "18  User seeks assistance with Python programming ...   \n",
       "19  User employs Assistant to refine code for text...   \n",
       "20  User seeks assistance for academic or research...   \n",
       "21  User seeks assistance for modifying code for e...   \n",
       "22  User seeks assistance for measuring code cover...   \n",
       "23        User seeks assistance for game development.   \n",
       "24  The user is using the Assistant to modify code...   \n",
       "25  The user is enhancing security for an authenti...   \n",
       "26  User seeks assistance for programming a comple...   \n",
       "27  User seeks programming assistance for string m...   \n",
       "28  The user is utilizing the Assistant to improve...   \n",
       "29  The user is using the Assistant to learn and a...   \n",
       "\n",
       "   area_of_focus__top_level       area_of_focus__sub_level  \\\n",
       "0           basic scripting    write simple code in python   \n",
       "1       general coding help  explain complex code snippets   \n",
       "2           basic scripting    write simple code in python   \n",
       "3       general coding help  explain complex code snippets   \n",
       "4           basic scripting    write simple code in python   \n",
       "5           basic scripting    write simple code in python   \n",
       "6           basic scripting               ml code snippets   \n",
       "7           basic scripting    write simple code in python   \n",
       "8           basic scripting    write simple code in python   \n",
       "9           basic scripting    write simple code in python   \n",
       "10          basic scripting    write simple code in python   \n",
       "11          basic scripting    write simple code in python   \n",
       "12      general coding help                  refactor code   \n",
       "13          basic scripting    write simple code in python   \n",
       "14          basic scripting    write simple code in python   \n",
       "15      general coding help                  refactor code   \n",
       "16          basic scripting    write simple code in python   \n",
       "17          basic scripting    write simple code in python   \n",
       "18          basic scripting    write simple code in python   \n",
       "19          basic scripting    write simple code in python   \n",
       "20          basic scripting    write simple code in python   \n",
       "21      general coding help  explain complex code snippets   \n",
       "22          write unit test      cover different languages   \n",
       "23          basic scripting    write simple code in python   \n",
       "24          basic scripting    write simple code in python   \n",
       "25          write unit test      cover different languages   \n",
       "26    interview preparation             write optimal code   \n",
       "27          basic scripting    write simple code in python   \n",
       "28          write unit test     explain code with comments   \n",
       "29      general coding help  explain complex code snippets   \n",
       "\n",
       "                   area_of_focus__detailed_level          domain__top_level  \\\n",
       "0    string manipulation and list comprehensions  python basics & scripting   \n",
       "1                          modify function logic  python basics & scripting   \n",
       "2            string manipulation with conditions  python basics & scripting   \n",
       "3                      merge sort implementation            problem solving   \n",
       "4                     exponentiation by squaring            problem solving   \n",
       "5                   implement generator function  python basics & scripting   \n",
       "6                       cross-validation example           machine learning   \n",
       "7                     binary tree depth function            problem solving   \n",
       "8                 download images using requests  python basics & scripting   \n",
       "9                              string operations  python basics & scripting   \n",
       "10                        anagram check function  python basics & scripting   \n",
       "11                  fibonacci sequence algorithm  python basics & scripting   \n",
       "12                         enforce type checking  python basics & scripting   \n",
       "13                  dijkstra's algorithm example            problem solving   \n",
       "14                      tree traversal algorithm  python basics & scripting   \n",
       "15                      modify package namespace  python basics & scripting   \n",
       "16            dynamic programming implementation            problem solving   \n",
       "17                       python 2 to 3 migration  python basics & scripting   \n",
       "18                      dictionary usage example  python basics & scripting   \n",
       "19                           string manipulation  python basics & scripting   \n",
       "20              cooperative game theory function  python basics & scripting   \n",
       "21  add print statement to binary tree traversal            problem solving   \n",
       "22                          python code coverage                    testing   \n",
       "23              minimax algorithm implementation            problem solving   \n",
       "24              heap data structure manipulation            problem solving   \n",
       "25                          python security test                   security   \n",
       "26                  algorithmic coding challenge            problem solving   \n",
       "27             string manipulation using slicing  python basics & scripting   \n",
       "28                         add teardown to tests                    testing   \n",
       "29                    memory profiling in python  python basics & scripting   \n",
       "\n",
       "              domain__sub_level  \\\n",
       "0            python programming   \n",
       "1           string manipulation   \n",
       "2           string manipulation   \n",
       "3     python basics & scripting   \n",
       "4                    algorithms   \n",
       "5                 file handling   \n",
       "6              model evaluation   \n",
       "7     python basics & scripting   \n",
       "8                     scripting   \n",
       "9           string manipulation   \n",
       "10          string manipulation   \n",
       "11                   algorithms   \n",
       "12  object-oriented programming   \n",
       "13                   algorithms   \n",
       "14                   algorithms   \n",
       "15            module management   \n",
       "16    python basics & scripting   \n",
       "17              python 3 syntax   \n",
       "18       python data structures   \n",
       "19          string manipulation   \n",
       "20             python scripting   \n",
       "21                   algorithms   \n",
       "22                code coverage   \n",
       "23    python basics & scripting   \n",
       "24    python basics & scripting   \n",
       "25         application security   \n",
       "26                   algorithms   \n",
       "27          string manipulation   \n",
       "28          integration testing   \n",
       "29     performance optimization   \n",
       "\n",
       "                             domain__detailed_level  \n",
       "0       string manipulation and list comprehensions  \n",
       "1   string reversal with special character handling  \n",
       "2             list comprehension and string joining  \n",
       "3                          algorithm implementation  \n",
       "4                                divide and conquer  \n",
       "5                  generators and memory management  \n",
       "6                cross-validation with scikit-learn  \n",
       "7                    algorithms and data structures  \n",
       "8                                      web scraping  \n",
       "9              character counting and index finding  \n",
       "10                                anagram detection  \n",
       "11                               fibonacci sequence  \n",
       "12                         type checking in methods  \n",
       "13                                 graph algorithms  \n",
       "14                                   tree traversal  \n",
       "15                           package initialization  \n",
       "16                              dynamic programming  \n",
       "17         exception handling and string formatting  \n",
       "18                  dictionaries and access methods  \n",
       "19                              regular expressions  \n",
       "20             game theory algorithm implementation  \n",
       "21                            binary tree traversal  \n",
       "22            python code coverage with coverage.py  \n",
       "23                          implementing algorithms  \n",
       "24                                  data structures  \n",
       "25                     user authentication security  \n",
       "26                                     backtracking  \n",
       "27                                   string slicing  \n",
       "28                          test setup and teardown  \n",
       "29                                 memory profiling  "
      ]
     },
     "execution_count": 33,
     "metadata": {},
     "output_type": "execute_result"
    }
   ],
   "source": [
    "expanded_enriched_df.head(30)"
   ]
  },
  {
   "cell_type": "code",
   "execution_count": 38,
   "metadata": {},
   "outputs": [
    {
     "data": {
      "application/vnd.plotly.v1+json": {
       "config": {
        "plotlyServerURL": "https://plot.ly"
       },
       "data": [
        {
         "branchvalues": "total",
         "domain": {
          "x": [
           0,
           1
          ],
          "y": [
           0,
           1
          ]
         },
         "hovertemplate": "labels=%{label}<br>count=%{value}<br>parent=%{parent}<br>id=%{id}<extra></extra>",
         "ids": [
          "other/adaptation strategy",
          "user actions/add error handling",
          "other/add functionality",
          "other/advanced explanation",
          "other/algorithm complexity inquiry",
          "respond to assistant/answer a question",
          "other/automation inquiry",
          "other/best practices",
          "other/best practices advice",
          "other/bug reporting process",
          "pivoting follow up/change in direction",
          "pivoting follow up/change in focus or goal",
          "pivoting follow up/change in topic",
          "respond to assistant/clarify an ambiguity",
          "other/code explanation",
          "other/code implementation",
          "other/code improvement",
          "other/code improvement suggestions",
          "other/code modification",
          "other/code testing",
          "other/combined optimization",
          "other/commenting best practices",
          "other/comparative analysis request",
          "other/complex example request",
          "other/complexity explanation",
          "other/consider edge cases",
          "other/consider performance aspects",
          "other/custom implementation inquiry",
          "continuation follow up/customize functionality",
          "other/data handling inquiry",
          "other/data structure discussion",
          "other/demonstrate with example",
          "other/discuss applications",
          "other/discuss best practices",
          "other/discuss complexity",
          "other/discuss design pattern",
          "other/discuss efficiency improvement",
          "other/discuss fairness and bias",
          "other/discuss hosting options",
          "other/discuss issues",
          "other/discuss optimizations",
          "other/discuss testing strategies",
          "other/dynamic adjustment",
          "other/educational explanation",
          "other/educational inquiry",
          "other/empty message",
          "respond to assistant/end the conversation",
          "other/enhance collaboration",
          "other/environment management suggestion",
          "other/explain a concept",
          "other/explain concept",
          "other/explain functionality",
          "other/explore enhancements",
          "user actions/express appreciation",
          "other/general inquiry",
          "other/geographic consideration",
          "other/guided instruction",
          "other/historical inquiry",
          "other/implement feature",
          "other/implementation explanation",
          "other/include method",
          "continuation follow up/incrementally build",
          "other/information inquiry",
          "user actions/inquire about error handling",
          "other/inquiry on reproducibility",
          "other/integrate ci/cd",
          "continuation follow up/integrate with something else",
          "other/integration guidance",
          "other/integration use case",
          "other/interactive learning",
          "other/interview simulation",
          "other/learning/inquiry",
          "other/literature inquiry",
          "other/machine learning discussion",
          "other/misunderstanding clarification",
          "other/mock dependencies",
          "other/mock interview",
          "other/mocking techniques",
          "other/monitoring implementation",
          "other/new tag",
          "other/new tag: best practices discussion",
          "other/new tag: explore alternatives",
          "other/new tag: test environment setup",
          "other/new tag: tool limitations inquiry",
          "other/new use case example",
          "other/optimization discussion",
          "other/optimization inquiry",
          "other/package creation guidance",
          "other/parallelization inquiry",
          "other/pattern recognition inquiry",
          "other/performance inquiry",
          "other/performance measurement",
          "other/performance optimization",
          "other/performance tracking",
          "other/positive feedback",
          "other/positive reinforcement",
          "other/practical application inquiry",
          "other/practical demonstration",
          "other/precision in functions",
          "other/proactive guidance",
          "other/problem solving",
          "user actions/provide additional information",
          "other/provide assurance",
          "other/provide code example",
          "other/provide code snippet",
          "other/provide detailed explanation",
          "other/provide example",
          "other/provide example code",
          "other/provide examples",
          "other/provide guidance",
          "other/provide technical example",
          "other/provide technical guidance",
          "other/provide troubleshooting steps",
          "other/real-time interaction",
          "continuation follow up/remove nan rows",
          "user actions/request additional functionality",
          "user actions/request alternative method",
          "continuation follow up/request alternatives",
          "user actions/request alternatives",
          "user actions/request code improvement",
          "other/request debugging tips",
          "user actions/request examples",
          "continuation follow up/request for clarification/elaboration",
          "respond to assistant/request for clarification/elaboration",
          "user actions/request for clarification/elaboration",
          "user actions/request for demonstration",
          "other/requesting update method",
          "other/security discussion",
          "other/seek compatibility advice",
          "other/seeking advice",
          "other/seeking best practices",
          "other/seeking debugging help",
          "other/seeking explanation",
          "other/seeking further learning",
          "other/seeking guidance",
          "other/seeking optimization",
          "other/seeking optimization advice",
          "other/seeking solutions",
          "other/seeking technical assistance",
          "other/seeking technical help",
          "continuation follow up/simplify code",
          "other/space complexity optimization",
          "other/strategy explanation",
          "other/structuring advice",
          "other/suggest improvement",
          "other/suggest improvements",
          "other/suggest optimizations",
          "other/summarize information",
          "continuation follow up/supplement/extend",
          "other/technical assistance",
          "other/technical discussion",
          "other/technical explanation",
          "other/technical guidance",
          "other/technical inquiry",
          "other/technical instruction",
          "other/technical issue discussion",
          "other/test for overfitting",
          "other/testing best practices",
          "other/tool recommendation",
          "other/troubleshooting process",
          "user actions/user asks about efficiency",
          "user actions/user asks for advice",
          "user actions/user asks for assistance",
          "user actions/user asks for examples",
          "user actions/user asks for guidance",
          "user actions/user asks for help",
          "user actions/user asks for information",
          "user actions/user asks for more information",
          "user actions/user asks for opinion",
          "user actions/user asks for optimization strategies",
          "user actions/user asks for practical applications",
          "user actions/user asks for resources",
          "user actions/user confronts assistant about mistakes",
          "user actions/user contradicts themselves",
          "user actions/user explores more",
          "user actions/user expresses frustration",
          "user actions/user inquires about best practices",
          "user actions/user inquires about error handling",
          "user actions/user inquires about security",
          "user actions/user makes mistakes",
          "user actions/user offers assistance",
          "user actions/user provides detailed explanation",
          "user actions/user provides example",
          "user actions/user provides examples",
          "user actions/user provides information",
          "user actions/user requests alternative solution",
          "user actions/user requests assistance",
          "user actions/user requests customization",
          "user actions/user requests examples",
          "user actions/user requests guidance",
          "user actions/user requests implementation",
          "user actions/user requests information",
          "user actions/user requests more challenging content",
          "user actions/user requests more information",
          "user actions/user requests specific guidance",
          "user actions/user seeks advice",
          "user actions/user seeks education",
          "user actions/user seeks guidance",
          "user actions/user seeks information",
          "user actions/user seeks library recommendations",
          "user actions/user seeks optimization advice",
          "user actions/user seeks prevention advice",
          "user actions/user seeks tools",
          "user actions/user shares knowledge",
          "other/visual comparison",
          "other/visual differentiation inquiry",
          "other/visual explanation request",
          "other/visualization methods",
          "other/visualize data",
          "continuation follow up",
          "other",
          "pivoting follow up",
          "respond to assistant",
          "user actions"
         ],
         "labels": [
          "adaptation strategy",
          "add error handling",
          "add functionality",
          "advanced explanation",
          "algorithm complexity inquiry",
          "answer a question",
          "automation inquiry",
          "best practices",
          "best practices advice",
          "bug reporting process",
          "change in direction",
          "change in focus or goal",
          "change in topic",
          "clarify an ambiguity",
          "code explanation",
          "code implementation",
          "code improvement",
          "code improvement suggestions",
          "code modification",
          "code testing",
          "combined optimization",
          "commenting best practices",
          "comparative analysis request",
          "complex example request",
          "complexity explanation",
          "consider edge cases",
          "consider performance aspects",
          "custom implementation inquiry",
          "customize functionality",
          "data handling inquiry",
          "data structure discussion",
          "demonstrate with example",
          "discuss applications",
          "discuss best practices",
          "discuss complexity",
          "discuss design pattern",
          "discuss efficiency improvement",
          "discuss fairness and bias",
          "discuss hosting options",
          "discuss issues",
          "discuss optimizations",
          "discuss testing strategies",
          "dynamic adjustment",
          "educational explanation",
          "educational inquiry",
          "empty message",
          "end the conversation",
          "enhance collaboration",
          "environment management suggestion",
          "explain a concept",
          "explain concept",
          "explain functionality",
          "explore enhancements",
          "express appreciation",
          "general inquiry",
          "geographic consideration",
          "guided instruction",
          "historical inquiry",
          "implement feature",
          "implementation explanation",
          "include method",
          "incrementally build",
          "information inquiry",
          "inquire about error handling",
          "inquiry on reproducibility",
          "integrate ci/cd",
          "integrate with something else",
          "integration guidance",
          "integration use case",
          "interactive learning",
          "interview simulation",
          "learning/inquiry",
          "literature inquiry",
          "machine learning discussion",
          "misunderstanding clarification",
          "mock dependencies",
          "mock interview",
          "mocking techniques",
          "monitoring implementation",
          "new tag",
          "new tag: best practices discussion",
          "new tag: explore alternatives",
          "new tag: test environment setup",
          "new tag: tool limitations inquiry",
          "new use case example",
          "optimization discussion",
          "optimization inquiry",
          "package creation guidance",
          "parallelization inquiry",
          "pattern recognition inquiry",
          "performance inquiry",
          "performance measurement",
          "performance optimization",
          "performance tracking",
          "positive feedback",
          "positive reinforcement",
          "practical application inquiry",
          "practical demonstration",
          "precision in functions",
          "proactive guidance",
          "problem solving",
          "provide additional information",
          "provide assurance",
          "provide code example",
          "provide code snippet",
          "provide detailed explanation",
          "provide example",
          "provide example code",
          "provide examples",
          "provide guidance",
          "provide technical example",
          "provide technical guidance",
          "provide troubleshooting steps",
          "real-time interaction",
          "remove nan rows",
          "request additional functionality",
          "request alternative method",
          "request alternatives",
          "request alternatives",
          "request code improvement",
          "request debugging tips",
          "request examples",
          "request for clarification/elaboration",
          "request for clarification/elaboration",
          "request for clarification/elaboration",
          "request for demonstration",
          "requesting update method",
          "security discussion",
          "seek compatibility advice",
          "seeking advice",
          "seeking best practices",
          "seeking debugging help",
          "seeking explanation",
          "seeking further learning",
          "seeking guidance",
          "seeking optimization",
          "seeking optimization advice",
          "seeking solutions",
          "seeking technical assistance",
          "seeking technical help",
          "simplify code",
          "space complexity optimization",
          "strategy explanation",
          "structuring advice",
          "suggest improvement",
          "suggest improvements",
          "suggest optimizations",
          "summarize information",
          "supplement/extend",
          "technical assistance",
          "technical discussion",
          "technical explanation",
          "technical guidance",
          "technical inquiry",
          "technical instruction",
          "technical issue discussion",
          "test for overfitting",
          "testing best practices",
          "tool recommendation",
          "troubleshooting process",
          "user asks about efficiency",
          "user asks for advice",
          "user asks for assistance",
          "user asks for examples",
          "user asks for guidance",
          "user asks for help",
          "user asks for information",
          "user asks for more information",
          "user asks for opinion",
          "user asks for optimization strategies",
          "user asks for practical applications",
          "user asks for resources",
          "user confronts assistant about mistakes",
          "user contradicts themselves",
          "user explores more",
          "user expresses frustration",
          "user inquires about best practices",
          "user inquires about error handling",
          "user inquires about security",
          "user makes mistakes",
          "user offers assistance",
          "user provides detailed explanation",
          "user provides example",
          "user provides examples",
          "user provides information",
          "user requests alternative solution",
          "user requests assistance",
          "user requests customization",
          "user requests examples",
          "user requests guidance",
          "user requests implementation",
          "user requests information",
          "user requests more challenging content",
          "user requests more information",
          "user requests specific guidance",
          "user seeks advice",
          "user seeks education",
          "user seeks guidance",
          "user seeks information",
          "user seeks library recommendations",
          "user seeks optimization advice",
          "user seeks prevention advice",
          "user seeks tools",
          "user shares knowledge",
          "visual comparison",
          "visual differentiation inquiry",
          "visual explanation request",
          "visualization methods",
          "visualize data",
          "continuation follow up",
          "other",
          "pivoting follow up",
          "respond to assistant",
          "user actions"
         ],
         "name": "",
         "parents": [
          "other",
          "user actions",
          "other",
          "other",
          "other",
          "respond to assistant",
          "other",
          "other",
          "other",
          "other",
          "pivoting follow up",
          "pivoting follow up",
          "pivoting follow up",
          "respond to assistant",
          "other",
          "other",
          "other",
          "other",
          "other",
          "other",
          "other",
          "other",
          "other",
          "other",
          "other",
          "other",
          "other",
          "other",
          "continuation follow up",
          "other",
          "other",
          "other",
          "other",
          "other",
          "other",
          "other",
          "other",
          "other",
          "other",
          "other",
          "other",
          "other",
          "other",
          "other",
          "other",
          "other",
          "respond to assistant",
          "other",
          "other",
          "other",
          "other",
          "other",
          "other",
          "user actions",
          "other",
          "other",
          "other",
          "other",
          "other",
          "other",
          "other",
          "continuation follow up",
          "other",
          "user actions",
          "other",
          "other",
          "continuation follow up",
          "other",
          "other",
          "other",
          "other",
          "other",
          "other",
          "other",
          "other",
          "other",
          "other",
          "other",
          "other",
          "other",
          "other",
          "other",
          "other",
          "other",
          "other",
          "other",
          "other",
          "other",
          "other",
          "other",
          "other",
          "other",
          "other",
          "other",
          "other",
          "other",
          "other",
          "other",
          "other",
          "other",
          "other",
          "user actions",
          "other",
          "other",
          "other",
          "other",
          "other",
          "other",
          "other",
          "other",
          "other",
          "other",
          "other",
          "other",
          "continuation follow up",
          "user actions",
          "user actions",
          "continuation follow up",
          "user actions",
          "user actions",
          "other",
          "user actions",
          "continuation follow up",
          "respond to assistant",
          "user actions",
          "user actions",
          "other",
          "other",
          "other",
          "other",
          "other",
          "other",
          "other",
          "other",
          "other",
          "other",
          "other",
          "other",
          "other",
          "other",
          "continuation follow up",
          "other",
          "other",
          "other",
          "other",
          "other",
          "other",
          "other",
          "continuation follow up",
          "other",
          "other",
          "other",
          "other",
          "other",
          "other",
          "other",
          "other",
          "other",
          "other",
          "other",
          "user actions",
          "user actions",
          "user actions",
          "user actions",
          "user actions",
          "user actions",
          "user actions",
          "user actions",
          "user actions",
          "user actions",
          "user actions",
          "user actions",
          "user actions",
          "user actions",
          "user actions",
          "user actions",
          "user actions",
          "user actions",
          "user actions",
          "user actions",
          "user actions",
          "user actions",
          "user actions",
          "user actions",
          "user actions",
          "user actions",
          "user actions",
          "user actions",
          "user actions",
          "user actions",
          "user actions",
          "user actions",
          "user actions",
          "user actions",
          "user actions",
          "user actions",
          "user actions",
          "user actions",
          "user actions",
          "user actions",
          "user actions",
          "user actions",
          "user actions",
          "user actions",
          "other",
          "other",
          "other",
          "other",
          "other",
          "",
          "",
          "",
          "",
          ""
         ],
         "type": "treemap",
         "values": [
          1,
          1,
          1,
          1,
          1,
          2791,
          1,
          1,
          1,
          1,
          14,
          43,
          43,
          346,
          3,
          1,
          1,
          1,
          2,
          1,
          1,
          1,
          1,
          1,
          1,
          1,
          1,
          1,
          1,
          1,
          1,
          1,
          1,
          1,
          1,
          1,
          1,
          1,
          1,
          1,
          1,
          1,
          1,
          6,
          5,
          4,
          126,
          1,
          1,
          3,
          3,
          1,
          1,
          1,
          1,
          1,
          1,
          1,
          1,
          1,
          1,
          2356,
          1,
          1,
          1,
          1,
          303,
          1,
          1,
          1,
          1,
          1,
          1,
          1,
          1,
          1,
          1,
          1,
          1,
          1,
          1,
          1,
          1,
          1,
          1,
          1,
          1,
          1,
          1,
          1,
          1,
          1,
          1,
          1,
          11,
          2,
          1,
          1,
          1,
          1,
          1,
          1,
          1,
          2,
          1,
          1,
          11,
          1,
          7,
          1,
          1,
          1,
          1,
          1,
          1,
          1,
          1,
          204,
          4,
          1,
          1,
          1,
          2352,
          2,
          1,
          1,
          1,
          2,
          1,
          1,
          2,
          1,
          1,
          1,
          1,
          1,
          1,
          1,
          1,
          1,
          1,
          1,
          1,
          1,
          1,
          1,
          1,
          1,
          1129,
          3,
          4,
          8,
          2,
          2,
          1,
          3,
          1,
          1,
          1,
          1,
          1,
          3,
          1,
          6,
          7,
          1,
          1,
          3,
          1,
          1,
          1,
          1,
          55,
          2,
          1,
          2,
          1,
          1,
          1,
          369,
          1,
          1,
          5,
          1,
          7,
          1,
          2,
          1,
          1,
          1,
          1,
          3,
          1,
          1,
          1,
          7,
          1,
          1,
          1,
          1,
          1,
          1,
          1,
          1,
          1,
          1,
          1,
          1,
          1,
          6347,
          204,
          100,
          3265,
          516
         ]
        }
       ],
       "layout": {
        "font": {
         "family": "Courier New, monospace",
         "size": 18
        },
        "height": 800,
        "legend": {
         "tracegroupgap": 0
        },
        "margin": {
         "b": 50,
         "l": 50,
         "r": 50,
         "t": 100
        },
        "template": {
         "data": {
          "bar": [
           {
            "error_x": {
             "color": "#2a3f5f"
            },
            "error_y": {
             "color": "#2a3f5f"
            },
            "marker": {
             "line": {
              "color": "#E5ECF6",
              "width": 0.5
             },
             "pattern": {
              "fillmode": "overlay",
              "size": 10,
              "solidity": 0.2
             }
            },
            "type": "bar"
           }
          ],
          "barpolar": [
           {
            "marker": {
             "line": {
              "color": "#E5ECF6",
              "width": 0.5
             },
             "pattern": {
              "fillmode": "overlay",
              "size": 10,
              "solidity": 0.2
             }
            },
            "type": "barpolar"
           }
          ],
          "carpet": [
           {
            "aaxis": {
             "endlinecolor": "#2a3f5f",
             "gridcolor": "white",
             "linecolor": "white",
             "minorgridcolor": "white",
             "startlinecolor": "#2a3f5f"
            },
            "baxis": {
             "endlinecolor": "#2a3f5f",
             "gridcolor": "white",
             "linecolor": "white",
             "minorgridcolor": "white",
             "startlinecolor": "#2a3f5f"
            },
            "type": "carpet"
           }
          ],
          "choropleth": [
           {
            "colorbar": {
             "outlinewidth": 0,
             "ticks": ""
            },
            "type": "choropleth"
           }
          ],
          "contour": [
           {
            "colorbar": {
             "outlinewidth": 0,
             "ticks": ""
            },
            "colorscale": [
             [
              0,
              "#0d0887"
             ],
             [
              0.1111111111111111,
              "#46039f"
             ],
             [
              0.2222222222222222,
              "#7201a8"
             ],
             [
              0.3333333333333333,
              "#9c179e"
             ],
             [
              0.4444444444444444,
              "#bd3786"
             ],
             [
              0.5555555555555556,
              "#d8576b"
             ],
             [
              0.6666666666666666,
              "#ed7953"
             ],
             [
              0.7777777777777778,
              "#fb9f3a"
             ],
             [
              0.8888888888888888,
              "#fdca26"
             ],
             [
              1,
              "#f0f921"
             ]
            ],
            "type": "contour"
           }
          ],
          "contourcarpet": [
           {
            "colorbar": {
             "outlinewidth": 0,
             "ticks": ""
            },
            "type": "contourcarpet"
           }
          ],
          "heatmap": [
           {
            "colorbar": {
             "outlinewidth": 0,
             "ticks": ""
            },
            "colorscale": [
             [
              0,
              "#0d0887"
             ],
             [
              0.1111111111111111,
              "#46039f"
             ],
             [
              0.2222222222222222,
              "#7201a8"
             ],
             [
              0.3333333333333333,
              "#9c179e"
             ],
             [
              0.4444444444444444,
              "#bd3786"
             ],
             [
              0.5555555555555556,
              "#d8576b"
             ],
             [
              0.6666666666666666,
              "#ed7953"
             ],
             [
              0.7777777777777778,
              "#fb9f3a"
             ],
             [
              0.8888888888888888,
              "#fdca26"
             ],
             [
              1,
              "#f0f921"
             ]
            ],
            "type": "heatmap"
           }
          ],
          "heatmapgl": [
           {
            "colorbar": {
             "outlinewidth": 0,
             "ticks": ""
            },
            "colorscale": [
             [
              0,
              "#0d0887"
             ],
             [
              0.1111111111111111,
              "#46039f"
             ],
             [
              0.2222222222222222,
              "#7201a8"
             ],
             [
              0.3333333333333333,
              "#9c179e"
             ],
             [
              0.4444444444444444,
              "#bd3786"
             ],
             [
              0.5555555555555556,
              "#d8576b"
             ],
             [
              0.6666666666666666,
              "#ed7953"
             ],
             [
              0.7777777777777778,
              "#fb9f3a"
             ],
             [
              0.8888888888888888,
              "#fdca26"
             ],
             [
              1,
              "#f0f921"
             ]
            ],
            "type": "heatmapgl"
           }
          ],
          "histogram": [
           {
            "marker": {
             "pattern": {
              "fillmode": "overlay",
              "size": 10,
              "solidity": 0.2
             }
            },
            "type": "histogram"
           }
          ],
          "histogram2d": [
           {
            "colorbar": {
             "outlinewidth": 0,
             "ticks": ""
            },
            "colorscale": [
             [
              0,
              "#0d0887"
             ],
             [
              0.1111111111111111,
              "#46039f"
             ],
             [
              0.2222222222222222,
              "#7201a8"
             ],
             [
              0.3333333333333333,
              "#9c179e"
             ],
             [
              0.4444444444444444,
              "#bd3786"
             ],
             [
              0.5555555555555556,
              "#d8576b"
             ],
             [
              0.6666666666666666,
              "#ed7953"
             ],
             [
              0.7777777777777778,
              "#fb9f3a"
             ],
             [
              0.8888888888888888,
              "#fdca26"
             ],
             [
              1,
              "#f0f921"
             ]
            ],
            "type": "histogram2d"
           }
          ],
          "histogram2dcontour": [
           {
            "colorbar": {
             "outlinewidth": 0,
             "ticks": ""
            },
            "colorscale": [
             [
              0,
              "#0d0887"
             ],
             [
              0.1111111111111111,
              "#46039f"
             ],
             [
              0.2222222222222222,
              "#7201a8"
             ],
             [
              0.3333333333333333,
              "#9c179e"
             ],
             [
              0.4444444444444444,
              "#bd3786"
             ],
             [
              0.5555555555555556,
              "#d8576b"
             ],
             [
              0.6666666666666666,
              "#ed7953"
             ],
             [
              0.7777777777777778,
              "#fb9f3a"
             ],
             [
              0.8888888888888888,
              "#fdca26"
             ],
             [
              1,
              "#f0f921"
             ]
            ],
            "type": "histogram2dcontour"
           }
          ],
          "mesh3d": [
           {
            "colorbar": {
             "outlinewidth": 0,
             "ticks": ""
            },
            "type": "mesh3d"
           }
          ],
          "parcoords": [
           {
            "line": {
             "colorbar": {
              "outlinewidth": 0,
              "ticks": ""
             }
            },
            "type": "parcoords"
           }
          ],
          "pie": [
           {
            "automargin": true,
            "type": "pie"
           }
          ],
          "scatter": [
           {
            "fillpattern": {
             "fillmode": "overlay",
             "size": 10,
             "solidity": 0.2
            },
            "type": "scatter"
           }
          ],
          "scatter3d": [
           {
            "line": {
             "colorbar": {
              "outlinewidth": 0,
              "ticks": ""
             }
            },
            "marker": {
             "colorbar": {
              "outlinewidth": 0,
              "ticks": ""
             }
            },
            "type": "scatter3d"
           }
          ],
          "scattercarpet": [
           {
            "marker": {
             "colorbar": {
              "outlinewidth": 0,
              "ticks": ""
             }
            },
            "type": "scattercarpet"
           }
          ],
          "scattergeo": [
           {
            "marker": {
             "colorbar": {
              "outlinewidth": 0,
              "ticks": ""
             }
            },
            "type": "scattergeo"
           }
          ],
          "scattergl": [
           {
            "marker": {
             "colorbar": {
              "outlinewidth": 0,
              "ticks": ""
             }
            },
            "type": "scattergl"
           }
          ],
          "scattermapbox": [
           {
            "marker": {
             "colorbar": {
              "outlinewidth": 0,
              "ticks": ""
             }
            },
            "type": "scattermapbox"
           }
          ],
          "scatterpolar": [
           {
            "marker": {
             "colorbar": {
              "outlinewidth": 0,
              "ticks": ""
             }
            },
            "type": "scatterpolar"
           }
          ],
          "scatterpolargl": [
           {
            "marker": {
             "colorbar": {
              "outlinewidth": 0,
              "ticks": ""
             }
            },
            "type": "scatterpolargl"
           }
          ],
          "scatterternary": [
           {
            "marker": {
             "colorbar": {
              "outlinewidth": 0,
              "ticks": ""
             }
            },
            "type": "scatterternary"
           }
          ],
          "surface": [
           {
            "colorbar": {
             "outlinewidth": 0,
             "ticks": ""
            },
            "colorscale": [
             [
              0,
              "#0d0887"
             ],
             [
              0.1111111111111111,
              "#46039f"
             ],
             [
              0.2222222222222222,
              "#7201a8"
             ],
             [
              0.3333333333333333,
              "#9c179e"
             ],
             [
              0.4444444444444444,
              "#bd3786"
             ],
             [
              0.5555555555555556,
              "#d8576b"
             ],
             [
              0.6666666666666666,
              "#ed7953"
             ],
             [
              0.7777777777777778,
              "#fb9f3a"
             ],
             [
              0.8888888888888888,
              "#fdca26"
             ],
             [
              1,
              "#f0f921"
             ]
            ],
            "type": "surface"
           }
          ],
          "table": [
           {
            "cells": {
             "fill": {
              "color": "#EBF0F8"
             },
             "line": {
              "color": "white"
             }
            },
            "header": {
             "fill": {
              "color": "#C8D4E3"
             },
             "line": {
              "color": "white"
             }
            },
            "type": "table"
           }
          ]
         },
         "layout": {
          "annotationdefaults": {
           "arrowcolor": "#2a3f5f",
           "arrowhead": 0,
           "arrowwidth": 1
          },
          "autotypenumbers": "strict",
          "coloraxis": {
           "colorbar": {
            "outlinewidth": 0,
            "ticks": ""
           }
          },
          "colorscale": {
           "diverging": [
            [
             0,
             "#8e0152"
            ],
            [
             0.1,
             "#c51b7d"
            ],
            [
             0.2,
             "#de77ae"
            ],
            [
             0.3,
             "#f1b6da"
            ],
            [
             0.4,
             "#fde0ef"
            ],
            [
             0.5,
             "#f7f7f7"
            ],
            [
             0.6,
             "#e6f5d0"
            ],
            [
             0.7,
             "#b8e186"
            ],
            [
             0.8,
             "#7fbc41"
            ],
            [
             0.9,
             "#4d9221"
            ],
            [
             1,
             "#276419"
            ]
           ],
           "sequential": [
            [
             0,
             "#0d0887"
            ],
            [
             0.1111111111111111,
             "#46039f"
            ],
            [
             0.2222222222222222,
             "#7201a8"
            ],
            [
             0.3333333333333333,
             "#9c179e"
            ],
            [
             0.4444444444444444,
             "#bd3786"
            ],
            [
             0.5555555555555556,
             "#d8576b"
            ],
            [
             0.6666666666666666,
             "#ed7953"
            ],
            [
             0.7777777777777778,
             "#fb9f3a"
            ],
            [
             0.8888888888888888,
             "#fdca26"
            ],
            [
             1,
             "#f0f921"
            ]
           ],
           "sequentialminus": [
            [
             0,
             "#0d0887"
            ],
            [
             0.1111111111111111,
             "#46039f"
            ],
            [
             0.2222222222222222,
             "#7201a8"
            ],
            [
             0.3333333333333333,
             "#9c179e"
            ],
            [
             0.4444444444444444,
             "#bd3786"
            ],
            [
             0.5555555555555556,
             "#d8576b"
            ],
            [
             0.6666666666666666,
             "#ed7953"
            ],
            [
             0.7777777777777778,
             "#fb9f3a"
            ],
            [
             0.8888888888888888,
             "#fdca26"
            ],
            [
             1,
             "#f0f921"
            ]
           ]
          },
          "colorway": [
           "#636efa",
           "#EF553B",
           "#00cc96",
           "#ab63fa",
           "#FFA15A",
           "#19d3f3",
           "#FF6692",
           "#B6E880",
           "#FF97FF",
           "#FECB52"
          ],
          "font": {
           "color": "#2a3f5f"
          },
          "geo": {
           "bgcolor": "white",
           "lakecolor": "white",
           "landcolor": "#E5ECF6",
           "showlakes": true,
           "showland": true,
           "subunitcolor": "white"
          },
          "hoverlabel": {
           "align": "left"
          },
          "hovermode": "closest",
          "mapbox": {
           "style": "light"
          },
          "paper_bgcolor": "white",
          "plot_bgcolor": "#E5ECF6",
          "polar": {
           "angularaxis": {
            "gridcolor": "white",
            "linecolor": "white",
            "ticks": ""
           },
           "bgcolor": "#E5ECF6",
           "radialaxis": {
            "gridcolor": "white",
            "linecolor": "white",
            "ticks": ""
           }
          },
          "scene": {
           "xaxis": {
            "backgroundcolor": "#E5ECF6",
            "gridcolor": "white",
            "gridwidth": 2,
            "linecolor": "white",
            "showbackground": true,
            "ticks": "",
            "zerolinecolor": "white"
           },
           "yaxis": {
            "backgroundcolor": "#E5ECF6",
            "gridcolor": "white",
            "gridwidth": 2,
            "linecolor": "white",
            "showbackground": true,
            "ticks": "",
            "zerolinecolor": "white"
           },
           "zaxis": {
            "backgroundcolor": "#E5ECF6",
            "gridcolor": "white",
            "gridwidth": 2,
            "linecolor": "white",
            "showbackground": true,
            "ticks": "",
            "zerolinecolor": "white"
           }
          },
          "shapedefaults": {
           "line": {
            "color": "#2a3f5f"
           }
          },
          "ternary": {
           "aaxis": {
            "gridcolor": "white",
            "linecolor": "white",
            "ticks": ""
           },
           "baxis": {
            "gridcolor": "white",
            "linecolor": "white",
            "ticks": ""
           },
           "bgcolor": "#E5ECF6",
           "caxis": {
            "gridcolor": "white",
            "linecolor": "white",
            "ticks": ""
           }
          },
          "title": {
           "x": 0.05
          },
          "xaxis": {
           "automargin": true,
           "gridcolor": "white",
           "linecolor": "white",
           "ticks": "",
           "title": {
            "standoff": 15
           },
           "zerolinecolor": "white",
           "zerolinewidth": 2
          },
          "yaxis": {
           "automargin": true,
           "gridcolor": "white",
           "linecolor": "white",
           "ticks": "",
           "title": {
            "standoff": 15
           },
           "zerolinecolor": "white",
           "zerolinewidth": 2
          }
         }
        },
        "title": {
         "font": {
          "size": 24
         },
         "text": "Hierarchical Domain Classification"
        },
        "treemapcolorway": [
         "#326FDC",
         "#47ABFD",
         "#959595",
         "#FFFFFF",
         "#EFEFEF",
         "#000000"
        ],
        "width": 1200
       }
      }
     },
     "metadata": {},
     "output_type": "display_data"
    }
   ],
   "source": [
    "import pandas as pd\n",
    "import plotly.express as px\n",
    "from operations.delivery.analytics.utils import turing_palette\n",
    "\n",
    "\n",
    "turing_palette = [\n",
    "    \"#326FDC\",  # Celtic Blue\n",
    "    \"#47ABFD\",  # Argentinian Blue\n",
    "    \"#959595\",  # Battleship gray\n",
    "    \"#FFFFFF\",  # White\n",
    "    \"#EFEFEF\",  # Anti-flash white\n",
    "    \"#000000\",  # Black\n",
    "]\n",
    "\n",
    "df = behavioural_tags_data\n",
    "fig = px.treemap(\n",
    "    df, \n",
    "    path=['top_level', 'sub_level'], \n",
    "    title=\"Hierarchical Domain Classification\",\n",
    "    height=800,\n",
    "    width=1200,\n",
    "    color_discrete_sequence=turing_palette\n",
    ")\n",
    "fig.update_layout(\n",
    "    margin=dict(t=100, l=50, r=50, b=50),\n",
    "    title_font=dict(size=24),\n",
    "    font=dict(size=18, family='Courier New, monospace')\n",
    ")\n",
    "fig.show()"
   ]
  },
  {
   "cell_type": "code",
   "execution_count": null,
   "metadata": {},
   "outputs": [],
   "source": [
    "import matplotlib.pyplot as plt\n",
    "import seaborn as sns\n",
    "\n",
    "# Plot hierarchical data of behavioural_tags_data\n",
    "def plot_hierarchical_data(df):\n",
    "    plt.figure(figsize=(15, 8))\n",
    "    sns.countplot(data=df, y='top_level', hue='sub_level', palette='viridis')\n",
    "    plt.title('Distribution of Behavioural Tags')\n",
    "    plt.xlabel('Count')\n",
    "    plt.ylabel('Top Level Categories')\n",
    "    plt.legend(title='Sub Level Categories', bbox_to_anchor=(1.05, 1), loc='upper left')\n",
    "    plt.tight_layout()\n",
    "    plt.show()\n",
    "\n",
    "plot_hierarchical_data(behavioural_tags_data)\n"
   ]
  },
  {
   "cell_type": "code",
   "execution_count": null,
   "metadata": {},
   "outputs": [],
   "source": [
    "import matplotlib.pyplot as plt\n",
    "\n",
    "# Plot pie chart for top level categories of behavioural_tags_data\n",
    "def plot_pie_chart(df, column, title):\n",
    "    plt.figure(figsize=(8, 8))\n",
    "    df[column].value_counts().plot.pie(autopct='%1.1f%%', startangle=90)\n",
    "    plt.title(title)\n",
    "    plt.ylabel('')  # Hide the y-label\n",
    "    plt.tight_layout()\n",
    "    plt.show()\n",
    "\n",
    "# Plot pie charts for top level and sub level categories\n",
    "plot_pie_chart(behavioural_tags_data, 'top_level', 'Distribution of Top Level Behavioural Tags')\n",
    "plot_pie_chart(behavioural_tags_data, 'sub_level', 'Distribution of Sub Level Behavioural Tags')\n"
   ]
  }
 ],
 "metadata": {
  "kernelspec": {
   "display_name": ".venv",
   "language": "python",
   "name": "python3"
  },
  "language_info": {
   "codemirror_mode": {
    "name": "ipython",
    "version": 3
   },
   "file_extension": ".py",
   "mimetype": "text/x-python",
   "name": "python",
   "nbconvert_exporter": "python",
   "pygments_lexer": "ipython3",
   "version": "3.9.18"
  }
 },
 "nbformat": 4,
 "nbformat_minor": 2
}
