{
 "cells": [
  {
   "cell_type": "markdown",
   "metadata": {},
   "source": [
    "# Settings and Pointers"
   ]
  },
  {
   "cell_type": "code",
   "execution_count": 42,
   "metadata": {},
   "outputs": [],
   "source": [
    "SERVICE_ACCOUNT_PATH = \"creds/google__sa.json\"\n",
    "TASKS_SHEET_ID = \"1qBU7Kvuuij2fxbqPxebReKMxWgIBmOIE5Gi4ZuX0j_4\"\n",
    "TASKS_SHEET_NAME = \"Conversations_Batch_3\"\n",
    "REVIEWS_SHEET_NAME = \"Reviews\""
   ]
  },
  {
   "cell_type": "markdown",
   "metadata": {},
   "source": [
    "# Pull Sheet"
   ]
  },
  {
   "cell_type": "code",
   "execution_count": 43,
   "metadata": {},
   "outputs": [],
   "source": [
    "\n",
    "import pandas as pd\n",
    "\n",
    "from src.sheets_utils import download_sheet_as_df\n",
    "\n",
    "\n",
    "df_completed = download_sheet_as_df(SERVICE_ACCOUNT_PATH, TASKS_SHEET_ID, \"Conversations_Batch_3\")\n",
    "df_reviews = download_sheet_as_df(SERVICE_ACCOUNT_PATH, TASKS_SHEET_ID, \"Reviews\")"
   ]
  },
  {
   "cell_type": "code",
   "execution_count": 44,
   "metadata": {},
   "outputs": [
    {
     "data": {
      "text/plain": [
       "assigned_to_email\n",
       "                            203\n",
       "safi.u@turing.com            18\n",
       "amir.s@turing.com            17\n",
       "zain.v@turing.com            17\n",
       "abdullah.i@turing.com        14\n",
       "freitas.g@turing.com          8\n",
       "archit.k@turing.com           7\n",
       "adil.m@turing.com             6\n",
       "marcus.a@turing.com           5\n",
       "marcel.s@turing.com           4\n",
       "ishwar.b@turing.com           4\n",
       "gedeon.a@turing.com           4\n",
       "paulo.c@turing.com            4\n",
       "elsadek.a@turing.com          4\n",
       "caram.v@turing.com            4\n",
       "armas.j@turing.com            4\n",
       "sudharchith.s@turing.com      4\n",
       "rohit.kumar@turing.com        4\n",
       "toh.y@turing.com              3\n",
       "kishore.g@turing.com          2\n",
       "Name: count, dtype: int64"
      ]
     },
     "execution_count": 44,
     "metadata": {},
     "output_type": "execute_result"
    }
   ],
   "source": [
    "full_timers = df_completed[\"assigned_to_email\"].value_counts().index.tolist()\n",
    "df_completed[\"assigned_to_email\"].value_counts()"
   ]
  },
  {
   "cell_type": "code",
   "execution_count": 45,
   "metadata": {},
   "outputs": [
    {
     "data": {
      "text/plain": [
       "['edwin.n@turing.com',\n",
       " 'icaro.c@turing.com',\n",
       " 'ali.nauman@turing.com',\n",
       " 'safi.u@turing.com',\n",
       " 'hafiz.t@turing.com',\n",
       " 'adamjee.m@turing.com',\n",
       " 'toh.y@turing.com',\n",
       " 'sudharchith.s@turing.com',\n",
       " 'afnan.baig@turing.com',\n",
       " 'gautam.g@turing.com',\n",
       " 'hriday.thakkar@turing.com',\n",
       " 'caio.s@turing.com',\n",
       " 'manas.s@turing.com',\n",
       " 'abdullah.i@turing.com',\n",
       " 'marcel.s@turing.com',\n",
       " 'caram.v@turing.com',\n",
       " 'basani.a@turing.com',\n",
       " 'basit.n@turing.com',\n",
       " 'james.oladimeji-c@turing.com',\n",
       " 'rohit.kumar@turing.com',\n",
       " 'elsadek.a@turing.com',\n",
       " 'archit.k@turing.com',\n",
       " 'marcus.a@turing.com',\n",
       " 'armas.j@turing.com',\n",
       " 'adil.m@turing.com',\n",
       " 'freitas.g@turing.com',\n",
       " 'paulo.c@turing.com',\n",
       " 'zain.v@turing.com',\n",
       " 'gedeon.a@turing.com',\n",
       " 'chirag.rade-c@turing.com',\n",
       " 'pedro.teche@turing.com',\n",
       " 'suraj.jadhav@turing.com',\n",
       " 'stefano.b@turing.com',\n",
       " 'fahad.yousaf@turing.com',\n",
       " 'lucas.k@turing.com',\n",
       " 'rimsha.s@turing.com',\n",
       " 'ritesh.r@turing.com',\n",
       " 'muhammad.o@turing.com',\n",
       " 'shaharyar.t@turing.com',\n",
       " 'muthahhari.p@turing.com',\n",
       " 'daniel.oluwakayode-c@turing.com',\n",
       " 'yuzhao.ni@turing.com',\n",
       " 'navaneethan.ramasamy@turing.com',\n",
       " 'riya.dhar@turing.com',\n",
       " 'amir.s@turing.com']"
      ]
     },
     "execution_count": 45,
     "metadata": {},
     "output_type": "execute_result"
    }
   ],
   "source": [
    "reviewed_emails = df_reviews[\"Author Email\"].value_counts().index.tolist()\n",
    "reviewed_emails"
   ]
  },
  {
   "cell_type": "code",
   "execution_count": 46,
   "metadata": {},
   "outputs": [
    {
     "data": {
      "text/plain": [
       "{'', 'ishwar.b@turing.com', 'kishore.g@turing.com'}"
      ]
     },
     "execution_count": 46,
     "metadata": {},
     "output_type": "execute_result"
    }
   ],
   "source": [
    "full_timers_that_need_review = set(full_timers).difference(set(reviewed_emails))\n",
    "full_timers_that_need_review"
   ]
  },
  {
   "cell_type": "code",
   "execution_count": 47,
   "metadata": {},
   "outputs": [
    {
     "data": {
      "text/plain": [
       "assigned_to_email\n",
       "                        203\n",
       "ishwar.b@turing.com       4\n",
       "kishore.g@turing.com      2\n",
       "Name: count, dtype: int64"
      ]
     },
     "execution_count": 47,
     "metadata": {},
     "output_type": "execute_result"
    }
   ],
   "source": [
    "df_completed[df_completed[\"assigned_to_email\"].isin(full_timers_that_need_review)][\"assigned_to_email\"].value_counts()"
   ]
  }
 ],
 "metadata": {
  "kernelspec": {
   "display_name": "venv",
   "language": "python",
   "name": "python3"
  },
  "language_info": {
   "codemirror_mode": {
    "name": "ipython",
    "version": 3
   },
   "file_extension": ".py",
   "mimetype": "text/x-python",
   "name": "python",
   "nbconvert_exporter": "python",
   "pygments_lexer": "ipython3",
   "version": "3.9.18"
  }
 },
 "nbformat": 4,
 "nbformat_minor": 2
}
