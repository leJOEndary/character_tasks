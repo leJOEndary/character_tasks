{
 "cells": [
  {
   "cell_type": "code",
   "execution_count": null,
   "metadata": {},
   "outputs": [],
   "source": [
    "import sys \n",
    "sys.path.append('../../')\n",
    "\n",
    "service_account_file = 'creds/google__sa.json'\n",
    "\n",
    "tracking_sheet_id = \"1qBU7Kvuuij2fxbqPxebReKMxWgIBmOIE5Gi4ZuX0j_4\"\n",
    "included_sheet_names = [\n",
    "    \"Conversations_Batch_2\",\n",
    "    \"Conversations_Batch_3\",\n",
    "    \"Conversations_Batch_4\",\n",
    "    \"Conversations_Batch_5\",\n",
    "]\n",
    "\n",
    "jupyter_gdrive_folder_ids = [\n",
    "    \"1Z1bdYMe2Qmo_vs-OaKDaYIiV3rIqLJH9\", # V0\n",
    "    \"1sfPFHkXYpKyY41V0pfz3Qw3k4VLy5Hvb\", # V1\n",
    "    \"1jV7WA5zB172DJUp7Z2XzHr62E6U6_NtY\",\n",
    "]\n",
    "\n",
    "delivery_sheet_id = \"1eUif5I8xhHU8fY0X9v8r2JI9hWPh7Dq_9VXpSIHwww4\"\n",
    "delivery_jsonl_gdrive_folder_id = \"1b3UuMfgwxpOsW0GnsdsrEBWdjUvg8Ub7\"\n",
    "\n",
    "gpt_reviews_path = \"gpt_reviews.csv\""
   ]
  },
  {
   "cell_type": "code",
   "execution_count": null,
   "metadata": {},
   "outputs": [],
   "source": []
  }
 ],
 "metadata": {
  "language_info": {
   "name": "python"
  }
 },
 "nbformat": 4,
 "nbformat_minor": 2
}
